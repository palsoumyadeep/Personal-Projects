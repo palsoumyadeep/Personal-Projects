{
 "cells": [
  {
   "cell_type": "markdown",
   "id": "d3e4ad82",
   "metadata": {},
   "source": [
    "## CONTEXT\n",
    "Reduction of child mortality is reflected in several of the United Nations' Sustainable Development Goals and is a key indicator of human progress.\n",
    "The UN expects that by 2030, countries end preventable deaths of newborns and children under 5 years of age, with all countries aiming to reduce under‑5 mortality to at least as low as 25 per 1,000 live births.\n",
    "\n",
    "Parallel to notion of child mortality is of course maternal mortality, which accounts for 295 000 deaths during and following pregnancy and childbirth (as of 2017). The vast majority of these deaths (94%) occurred in low-resource settings, and most could have been prevented.\n",
    "\n",
    "In light of what was mentioned above, Cardiotocograms (CTGs) are a simple and cost accessible option to assess fetal health, allowing healthcare professionals to take action in order to prevent child and maternal mortality. The equipment itself works by sending ultrasound pulses and reading its response, thus shedding light on fetal heart rate (FHR), fetal movements, uterine contractions and more.\n",
    "\n",
    "## Data\n",
    "This dataset contains 2126 records of features extracted from Cardiotocogram exams, which were then classified by three expert obstetritians into 3 classes:\n",
    "\n",
    "1.0 Normal\n",
    "2.0 Suspect\n",
    "3.0 Pathological\n",
    "\n",
    "\n",
    "## TASK\n",
    "\n",
    "Create a multiclass model to classify CTG features into the three fetal health states."
   ]
  },
  {
   "cell_type": "code",
   "execution_count": 63,
   "id": "fbd32657",
   "metadata": {
    "scrolled": true
   },
   "outputs": [
    {
     "data": {
      "text/html": [
       "<div>\n",
       "<style scoped>\n",
       "    .dataframe tbody tr th:only-of-type {\n",
       "        vertical-align: middle;\n",
       "    }\n",
       "\n",
       "    .dataframe tbody tr th {\n",
       "        vertical-align: top;\n",
       "    }\n",
       "\n",
       "    .dataframe thead th {\n",
       "        text-align: right;\n",
       "    }\n",
       "</style>\n",
       "<table border=\"1\" class=\"dataframe\">\n",
       "  <thead>\n",
       "    <tr style=\"text-align: right;\">\n",
       "      <th></th>\n",
       "      <th>baseline value</th>\n",
       "      <th>accelerations</th>\n",
       "      <th>fetal_movement</th>\n",
       "      <th>uterine_contractions</th>\n",
       "      <th>light_decelerations</th>\n",
       "      <th>severe_decelerations</th>\n",
       "      <th>prolongued_decelerations</th>\n",
       "      <th>abnormal_short_term_variability</th>\n",
       "      <th>mean_value_of_short_term_variability</th>\n",
       "      <th>percentage_of_time_with_abnormal_long_term_variability</th>\n",
       "      <th>...</th>\n",
       "      <th>histogram_max</th>\n",
       "      <th>histogram_number_of_peaks</th>\n",
       "      <th>histogram_number_of_zeroes</th>\n",
       "      <th>histogram_mode</th>\n",
       "      <th>histogram_mean</th>\n",
       "      <th>histogram_median</th>\n",
       "      <th>histogram_variance</th>\n",
       "      <th>histogram_tendency</th>\n",
       "      <th>fetal_health</th>\n",
       "      <th>fetal_health_original</th>\n",
       "    </tr>\n",
       "  </thead>\n",
       "  <tbody>\n",
       "    <tr>\n",
       "      <th>0</th>\n",
       "      <td>120.0</td>\n",
       "      <td>0.000</td>\n",
       "      <td>0.0</td>\n",
       "      <td>0.000</td>\n",
       "      <td>0.000</td>\n",
       "      <td>0.0</td>\n",
       "      <td>0.0</td>\n",
       "      <td>73.0</td>\n",
       "      <td>0.5</td>\n",
       "      <td>43.0</td>\n",
       "      <td>...</td>\n",
       "      <td>126.0</td>\n",
       "      <td>2.0</td>\n",
       "      <td>0.0</td>\n",
       "      <td>120.0</td>\n",
       "      <td>137.0</td>\n",
       "      <td>121.0</td>\n",
       "      <td>73.0</td>\n",
       "      <td>1.0</td>\n",
       "      <td>1</td>\n",
       "      <td>Suspect</td>\n",
       "    </tr>\n",
       "    <tr>\n",
       "      <th>1</th>\n",
       "      <td>132.0</td>\n",
       "      <td>0.006</td>\n",
       "      <td>0.0</td>\n",
       "      <td>0.006</td>\n",
       "      <td>0.003</td>\n",
       "      <td>0.0</td>\n",
       "      <td>0.0</td>\n",
       "      <td>17.0</td>\n",
       "      <td>2.1</td>\n",
       "      <td>0.0</td>\n",
       "      <td>...</td>\n",
       "      <td>198.0</td>\n",
       "      <td>6.0</td>\n",
       "      <td>1.0</td>\n",
       "      <td>141.0</td>\n",
       "      <td>136.0</td>\n",
       "      <td>140.0</td>\n",
       "      <td>12.0</td>\n",
       "      <td>0.0</td>\n",
       "      <td>0</td>\n",
       "      <td>Normal</td>\n",
       "    </tr>\n",
       "    <tr>\n",
       "      <th>2</th>\n",
       "      <td>133.0</td>\n",
       "      <td>0.003</td>\n",
       "      <td>0.0</td>\n",
       "      <td>0.008</td>\n",
       "      <td>0.003</td>\n",
       "      <td>0.0</td>\n",
       "      <td>0.0</td>\n",
       "      <td>16.0</td>\n",
       "      <td>2.1</td>\n",
       "      <td>0.0</td>\n",
       "      <td>...</td>\n",
       "      <td>198.0</td>\n",
       "      <td>5.0</td>\n",
       "      <td>1.0</td>\n",
       "      <td>141.0</td>\n",
       "      <td>135.0</td>\n",
       "      <td>138.0</td>\n",
       "      <td>13.0</td>\n",
       "      <td>0.0</td>\n",
       "      <td>0</td>\n",
       "      <td>Normal</td>\n",
       "    </tr>\n",
       "    <tr>\n",
       "      <th>3</th>\n",
       "      <td>134.0</td>\n",
       "      <td>0.003</td>\n",
       "      <td>0.0</td>\n",
       "      <td>0.008</td>\n",
       "      <td>0.003</td>\n",
       "      <td>0.0</td>\n",
       "      <td>0.0</td>\n",
       "      <td>16.0</td>\n",
       "      <td>2.4</td>\n",
       "      <td>0.0</td>\n",
       "      <td>...</td>\n",
       "      <td>170.0</td>\n",
       "      <td>11.0</td>\n",
       "      <td>0.0</td>\n",
       "      <td>137.0</td>\n",
       "      <td>134.0</td>\n",
       "      <td>137.0</td>\n",
       "      <td>13.0</td>\n",
       "      <td>1.0</td>\n",
       "      <td>0</td>\n",
       "      <td>Normal</td>\n",
       "    </tr>\n",
       "    <tr>\n",
       "      <th>4</th>\n",
       "      <td>132.0</td>\n",
       "      <td>0.007</td>\n",
       "      <td>0.0</td>\n",
       "      <td>0.008</td>\n",
       "      <td>0.000</td>\n",
       "      <td>0.0</td>\n",
       "      <td>0.0</td>\n",
       "      <td>16.0</td>\n",
       "      <td>2.4</td>\n",
       "      <td>0.0</td>\n",
       "      <td>...</td>\n",
       "      <td>170.0</td>\n",
       "      <td>9.0</td>\n",
       "      <td>0.0</td>\n",
       "      <td>137.0</td>\n",
       "      <td>136.0</td>\n",
       "      <td>138.0</td>\n",
       "      <td>11.0</td>\n",
       "      <td>1.0</td>\n",
       "      <td>0</td>\n",
       "      <td>Normal</td>\n",
       "    </tr>\n",
       "  </tbody>\n",
       "</table>\n",
       "<p>5 rows × 23 columns</p>\n",
       "</div>"
      ],
      "text/plain": [
       "   baseline value  accelerations  fetal_movement  uterine_contractions  \\\n",
       "0           120.0          0.000             0.0                 0.000   \n",
       "1           132.0          0.006             0.0                 0.006   \n",
       "2           133.0          0.003             0.0                 0.008   \n",
       "3           134.0          0.003             0.0                 0.008   \n",
       "4           132.0          0.007             0.0                 0.008   \n",
       "\n",
       "   light_decelerations  severe_decelerations  prolongued_decelerations  \\\n",
       "0                0.000                   0.0                       0.0   \n",
       "1                0.003                   0.0                       0.0   \n",
       "2                0.003                   0.0                       0.0   \n",
       "3                0.003                   0.0                       0.0   \n",
       "4                0.000                   0.0                       0.0   \n",
       "\n",
       "   abnormal_short_term_variability  mean_value_of_short_term_variability  \\\n",
       "0                             73.0                                   0.5   \n",
       "1                             17.0                                   2.1   \n",
       "2                             16.0                                   2.1   \n",
       "3                             16.0                                   2.4   \n",
       "4                             16.0                                   2.4   \n",
       "\n",
       "   percentage_of_time_with_abnormal_long_term_variability  ...  histogram_max  \\\n",
       "0                                               43.0       ...          126.0   \n",
       "1                                                0.0       ...          198.0   \n",
       "2                                                0.0       ...          198.0   \n",
       "3                                                0.0       ...          170.0   \n",
       "4                                                0.0       ...          170.0   \n",
       "\n",
       "   histogram_number_of_peaks  histogram_number_of_zeroes  histogram_mode  \\\n",
       "0                        2.0                         0.0           120.0   \n",
       "1                        6.0                         1.0           141.0   \n",
       "2                        5.0                         1.0           141.0   \n",
       "3                       11.0                         0.0           137.0   \n",
       "4                        9.0                         0.0           137.0   \n",
       "\n",
       "   histogram_mean  histogram_median  histogram_variance  histogram_tendency  \\\n",
       "0           137.0             121.0                73.0                 1.0   \n",
       "1           136.0             140.0                12.0                 0.0   \n",
       "2           135.0             138.0                13.0                 0.0   \n",
       "3           134.0             137.0                13.0                 1.0   \n",
       "4           136.0             138.0                11.0                 1.0   \n",
       "\n",
       "   fetal_health  fetal_health_original  \n",
       "0             1                Suspect  \n",
       "1             0                 Normal  \n",
       "2             0                 Normal  \n",
       "3             0                 Normal  \n",
       "4             0                 Normal  \n",
       "\n",
       "[5 rows x 23 columns]"
      ]
     },
     "execution_count": 63,
     "metadata": {},
     "output_type": "execute_result"
    }
   ],
   "source": [
    "import pandas as pd\n",
    "import numpy as np\n",
    "import matplotlib.pyplot as plt\n",
    "data = pd.read_csv('fetal_health.csv')\n",
    "data.head(10)\n",
    "data_copy = data.copy()\n",
    "\n",
    "fetal_health_dict ={1.0 : \"Normal\", 2.0 : \"Suspect\", 3.0 : \"Pathological\"}\n",
    "data_copy['fetal_health_original'] = data_copy.fetal_health.map(fetal_health_dict)\n",
    "\n",
    "fetal_health_dict_encode = {1.0 : 0 , 2.0 : 1, 3.0 : 2}\n",
    "data_copy['fetal_health'] = data_copy.fetal_health.map(fetal_health_dict_encode)\n",
    "data_copy.head()"
   ]
  },
  {
   "cell_type": "code",
   "execution_count": 64,
   "id": "bfdffeb7",
   "metadata": {},
   "outputs": [
    {
     "name": "stdout",
     "output_type": "stream",
     "text": [
      "<class 'pandas.core.frame.DataFrame'>\n",
      "RangeIndex: 2126 entries, 0 to 2125\n",
      "Data columns (total 23 columns):\n",
      " #   Column                                                  Non-Null Count  Dtype  \n",
      "---  ------                                                  --------------  -----  \n",
      " 0   baseline value                                          2126 non-null   float64\n",
      " 1   accelerations                                           2126 non-null   float64\n",
      " 2   fetal_movement                                          2126 non-null   float64\n",
      " 3   uterine_contractions                                    2126 non-null   float64\n",
      " 4   light_decelerations                                     2126 non-null   float64\n",
      " 5   severe_decelerations                                    2126 non-null   float64\n",
      " 6   prolongued_decelerations                                2126 non-null   float64\n",
      " 7   abnormal_short_term_variability                         2126 non-null   float64\n",
      " 8   mean_value_of_short_term_variability                    2126 non-null   float64\n",
      " 9   percentage_of_time_with_abnormal_long_term_variability  2126 non-null   float64\n",
      " 10  mean_value_of_long_term_variability                     2126 non-null   float64\n",
      " 11  histogram_width                                         2126 non-null   float64\n",
      " 12  histogram_min                                           2126 non-null   float64\n",
      " 13  histogram_max                                           2126 non-null   float64\n",
      " 14  histogram_number_of_peaks                               2126 non-null   float64\n",
      " 15  histogram_number_of_zeroes                              2126 non-null   float64\n",
      " 16  histogram_mode                                          2126 non-null   float64\n",
      " 17  histogram_mean                                          2126 non-null   float64\n",
      " 18  histogram_median                                        2126 non-null   float64\n",
      " 19  histogram_variance                                      2126 non-null   float64\n",
      " 20  histogram_tendency                                      2126 non-null   float64\n",
      " 21  fetal_health                                            2126 non-null   int64  \n",
      " 22  fetal_health_original                                   2126 non-null   object \n",
      "dtypes: float64(21), int64(1), object(1)\n",
      "memory usage: 382.1+ KB\n"
     ]
    }
   ],
   "source": [
    "data_copy.info()"
   ]
  },
  {
   "cell_type": "markdown",
   "id": "0bace4f8",
   "metadata": {},
   "source": [
    "# EDA"
   ]
  },
  {
   "cell_type": "code",
   "execution_count": 65,
   "id": "7ac8944a",
   "metadata": {},
   "outputs": [
    {
     "name": "stderr",
     "output_type": "stream",
     "text": [
      "C:\\Python310\\lib\\site-packages\\pandas\\plotting\\_matplotlib\\tools.py:223: RuntimeWarning:\n",
      "\n",
      "More than 20 figures have been opened. Figures created through the pyplot interface (`matplotlib.pyplot.figure`) are retained until explicitly closed and may consume too much memory. (To control this warning, see the rcParam `figure.max_open_warning`). Consider using `matplotlib.pyplot.close()`.\n",
      "\n"
     ]
    },
    {
     "data": {
      "image/png": "[encoded data removed]",
      "text/plain": [
       "<Figure size 640x480 with 4 Axes>"
      ]
     },
     "metadata": {},
     "output_type": "display_data"
    },
    {
     "data": {
      "image/png": "[encoded data removed]",
      "text/plain": [
       "<Figure size 640x480 with 4 Axes>"
      ]
     },
     "metadata": {},
     "output_type": "display_data"
    },
    {
     "data": {
      "image/png": "[encoded data removed]",
      "text/plain": [
       "<Figure size 640x480 with 4 Axes>"
      ]
     },
     "metadata": {},
     "output_type": "display_data"
    },
    {
     "data": {
      "image/png": "[encoded data removed]",
      "text/plain": [
       "<Figure size 640x480 with 4 Axes>"
      ]
     },
     "metadata": {},
     "output_type": "display_data"
    },
    {
     "data": {
      "image/png": "[encoded data removed]",
      "text/plain": [
       "<Figure size 640x480 with 4 Axes>"
      ]
     },
     "metadata": {},
     "output_type": "display_data"
    },
    {
     "data": {
      "image/png": "[encoded data removed]",
      "text/plain": [
       "<Figure size 640x480 with 4 Axes>"
      ]
     },
     "metadata": {},
     "output_type": "display_data"
    },
    {
     "data": {
      "image/png": "[encoded data removed]",
      "text/plain": [
       "<Figure size 640x480 with 4 Axes>"
      ]
     },
     "metadata": {},
     "output_type": "display_data"
    },
    {
     "data": {
      "image/png": "[encoded data removed]",
      "text/plain": [
       "<Figure size 640x480 with 4 Axes>"
      ]
     },
     "metadata": {},
     "output_type": "display_data"
    },
    {
     "data": {
      "image/png": "[encoded data removed]",
      "text/plain": [
       "<Figure size 640x480 with 4 Axes>"
      ]
     },
     "metadata": {},
     "output_type": "display_data"
    },
    {
     "data": {
      "image/png": "[encoded data removed]",
      "text/plain": [
       "<Figure size 640x480 with 4 Axes>"
      ]
     },
     "metadata": {},
     "output_type": "display_data"
    },
    {
     "data": {
      "image/png": "[encoded data removed]",
      "text/plain": [
       "<Figure size 640x480 with 4 Axes>"
      ]
     },
     "metadata": {},
     "output_type": "display_data"
    },
    {
     "data": {
      "image/png": "[encoded data removed]",
      "text/plain": [
       "<Figure size 640x480 with 4 Axes>"
      ]
     },
     "metadata": {},
     "output_type": "display_data"
    },
    {
     "data": {
      "image/png": "[encoded data removed]",
      "text/plain": [
       "<Figure size 640x480 with 4 Axes>"
      ]
     },
     "metadata": {},
     "output_type": "display_data"
    },
    {
     "data": {
      "image/png": "[encoded data removed]",
      "text/plain": [
       "<Figure size 640x480 with 4 Axes>"
      ]
     },
     "metadata": {},
     "output_type": "display_data"
    },
    {
     "data": {
      "image/png": "[encoded data removed]",
      "text/plain": [
       "<Figure size 640x480 with 4 Axes>"
      ]
     },
     "metadata": {},
     "output_type": "display_data"
    },
    {
     "data": {
      "image/png": "[encoded data removed]",
      "text/plain": [
       "<Figure size 640x480 with 4 Axes>"
      ]
     },
     "metadata": {},
     "output_type": "display_data"
    },
    {
     "data": {
      "image/png": "[encoded data removed]",
      "text/plain": [
       "<Figure size 640x480 with 4 Axes>"
      ]
     },
     "metadata": {},
     "output_type": "display_data"
    },
    {
     "data": {
      "image/png": "[encoded data removed]",
      "text/plain": [
       "<Figure size 640x480 with 4 Axes>"
      ]
     },
     "metadata": {},
     "output_type": "display_data"
    },
    {
     "data": {
      "image/png": "[encoded data removed]",
      "text/plain": [
       "<Figure size 640x480 with 4 Axes>"
      ]
     },
     "metadata": {},
     "output_type": "display_data"
    },
    {
     "data": {
      "image/png": "[encoded data removed]",
      "text/plain": [
       "<Figure size 640x480 with 4 Axes>"
      ]
     },
     "metadata": {},
     "output_type": "display_data"
    },
    {
     "data": {
      "image/png": "[encoded data removed]",
      "text/plain": [
       "<Figure size 640x480 with 4 Axes>"
      ]
     },
     "metadata": {},
     "output_type": "display_data"
    }
   ],
   "source": [
    "for column in data_copy.columns:\n",
    "    if column == 'fetal_health':\n",
    "        break\n",
    "    data_copy[column].hist(by = data_copy['fetal_health_original'])\n",
    "    plt.suptitle(column)"
   ]
  },
  {
   "cell_type": "markdown",
   "id": "e227b420",
   "metadata": {},
   "source": [
    "# Hypothesis Testing"
   ]
  },
  {
   "cell_type": "code",
   "execution_count": 119,
   "id": "0c868a39",
   "metadata": {},
   "outputs": [
    {
     "name": "stdout",
     "output_type": "stream",
     "text": [
      "ANOVA for baseline value\n",
      "F-Statistic = 140.621076 and P Value = 0.0 \n",
      "ANOVA for accelerations\n",
      "F-Statistic = 196.027523 and P Value = 0.0 \n",
      "ANOVA for fetal_movement\n",
      "F-Statistic = 11.679797 and P Value = 1e-05 \n",
      "ANOVA for uterine_contractions\n",
      "F-Statistic = 93.715743 and P Value = 0.0 \n",
      "ANOVA for light_decelerations\n",
      "F-Statistic = 66.864754 and P Value = 0.0 \n",
      "ANOVA for severe_decelerations\n",
      "F-Statistic = 28.448156 and P Value = 0.0 \n",
      "ANOVA for prolongued_decelerations\n",
      "F-Statistic = 505.853206 and P Value = 0.0 \n",
      "ANOVA for abnormal_short_term_variability\n",
      "F-Statistic = 343.820419 and P Value = 0.0 \n",
      "ANOVA for mean_value_of_short_term_variability\n",
      "F-Statistic = 119.882006 and P Value = 0.0 \n",
      "ANOVA for percentage_of_time_with_abnormal_long_term_variability\n",
      "F-Statistic = 345.156385 and P Value = 0.0 \n",
      "ANOVA for mean_value_of_long_term_variability\n",
      "F-Statistic = 70.174093 and P Value = 0.0 \n",
      "ANOVA for histogram_width\n",
      "F-Statistic = 55.088241 and P Value = 0.0 \n",
      "ANOVA for histogram_min\n",
      "F-Statistic = 87.340503 and P Value = 0.0 \n",
      "ANOVA for histogram_max\n",
      "F-Statistic = 2.464923 and P Value = 0.08526 \n",
      "ANOVA for histogram_number_of_peaks\n",
      "F-Statistic = 12.104834 and P Value = 1e-05 \n",
      "ANOVA for histogram_number_of_zeroes\n",
      "F-Statistic = 2.196373 and P Value = 0.11146 \n",
      "ANOVA for histogram_mode\n",
      "F-Statistic = 275.117696 and P Value = 0.0 \n",
      "ANOVA for histogram_mean\n",
      "F-Statistic = 297.625497 and P Value = 0.0 \n",
      "ANOVA for histogram_median\n",
      "F-Statistic = 248.772237 and P Value = 0.0 \n",
      "ANOVA for histogram_variance\n",
      "F-Statistic = 150.796849 and P Value = 0.0 \n",
      "ANOVA for histogram_tendency\n",
      "F-Statistic = 44.542294 and P Value = 0.0 \n"
     ]
    }
   ],
   "source": [
    "from scipy.stats import f_oneway\n",
    "\n",
    "# Grouping data based on fetal_health categories\n",
    "gk = data_copy.groupby('fetal_health_original')\n",
    "\n",
    "for column in data_copy.columns:\n",
    "    if column == 'fetal_health':\n",
    "        break\n",
    "        \n",
    "    normal = gk.get_group('Normal')[column]\n",
    "    suspect = gk.get_group('Suspect')[column]\n",
    "    pathological = gk.get_group('Pathological')[column]\n",
    "    \n",
    "    print(\"ANOVA for \"+column)\n",
    "    \n",
    "    f,p = f_oneway(normal, suspect, pathological)\n",
    "#     f_stat = \"F-Statistic = {f : .5f}\"\n",
    "#     p_value = \"P Value = {p : .7f}\"\n",
    "    print(\"F-Statistic = {f_statistic} and P Value = {p_value} \".format(f_statistic= round(f,6),p_value = round(p,5)))\n",
    "    "
   ]
  },
  {
   "cell_type": "markdown",
   "id": "b8418a66",
   "metadata": {},
   "source": [
    "# Feature selection using Mutual information."
   ]
  },
  {
   "cell_type": "code",
   "execution_count": 80,
   "id": "8178a3d6",
   "metadata": {},
   "outputs": [
    {
     "data": {
      "application/vnd.plotly.v1+json": {
       "config": {
        "plotlyServerURL": "https://plot.ly"
       },
       "data": [
        {
         "alignmentgroup": "True",
         "hovertemplate": "Columns=%{x}<br>Mutual Info=%{y}<extra></extra>",
         "legendgroup": "",
         "marker": {
          "color": "#636efa",
          "pattern": {
           "shape": ""
          }
         },
         "name": "",
         "offsetgroup": "",
         "orientation": "v",
         "showlegend": false,
         "textposition": "auto",
         "type": "bar",
         "x": [
          "baseline value",
          "accelerations",
          "fetal_movement",
          "uterine_contractions",
          "light_decelerations",
          "severe_decelerations",
          "prolongued_decelerations",
          "abnormal_short_term_variability",
          "mean_value_of_short_term_variability",
          "percentage_of_time_with_abnormal_long_term_variability",
          "mean_value_of_long_term_variability",
          "histogram_width",
          "histogram_min",
          "histogram_max",
          "histogram_number_of_peaks",
          "histogram_number_of_zeroes",
          "histogram_mode",
          "histogram_mean",
          "histogram_median",
          "histogram_variance",
          "histogram_tendency"
         ],
         "xaxis": "x",
         "y": [
          0.13203859338720458,
          0.15602532199937658,
          0.04623187959932462,
          0.07298937975926711,
          0.034633011104289624,
          0,
          0.06926733359169157,
          0.19174325566782713,
          0.23666009432699942,
          0.1999252310095414,
          0.08041221194049042,
          0.12243731160159466,
          0.12220078623235286,
          0.061539022132893306,
          0.02000471142371918,
          0.003256258897422537,
          0.14801439232389613,
          0.14040615537026202,
          0.13326702417748293,
          0.14256238336093863,
          0.03204040504521277
         ],
         "yaxis": "y"
        }
       ],
       "layout": {
        "barmode": "relative",
        "legend": {
         "tracegroupgap": 0
        },
        "margin": {
         "t": 60
        },
        "template": {
         "data": {
          "bar": [
           {
            "error_x": {
             "color": "#2a3f5f"
            },
            "error_y": {
             "color": "#2a3f5f"
            },
            "marker": {
             "line": {
              "color": "#E5ECF6",
              "width": 0.5
             },
             "pattern": {
              "fillmode": "overlay",
              "size": 10,
              "solidity": 0.2
             }
            },
            "type": "bar"
           }
          ],
          "barpolar": [
           {
            "marker": {
             "line": {
              "color": "#E5ECF6",
              "width": 0.5
             },
             "pattern": {
              "fillmode": "overlay",
              "size": 10,
              "solidity": 0.2
             }
            },
            "type": "barpolar"
           }
          ],
          "carpet": [
           {
            "aaxis": {
             "endlinecolor": "#2a3f5f",
             "gridcolor": "white",
             "linecolor": "white",
             "minorgridcolor": "white",
             "startlinecolor": "#2a3f5f"
            },
            "baxis": {
             "endlinecolor": "#2a3f5f",
             "gridcolor": "white",
             "linecolor": "white",
             "minorgridcolor": "white",
             "startlinecolor": "#2a3f5f"
            },
            "type": "carpet"
           }
          ],
          "choropleth": [
           {
            "colorbar": {
             "outlinewidth": 0,
             "ticks": ""
            },
            "type": "choropleth"
           }
          ],
          "contour": [
           {
            "colorbar": {
             "outlinewidth": 0,
             "ticks": ""
            },
            "colorscale": [
             [
              0,
              "#0d0887"
             ],
             [
              0.1111111111111111,
              "#46039f"
             ],
             [
              0.2222222222222222,
              "#7201a8"
             ],
             [
              0.3333333333333333,
              "#9c179e"
             ],
             [
              0.4444444444444444,
              "#bd3786"
             ],
             [
              0.5555555555555556,
              "#d8576b"
             ],
             [
              0.6666666666666666,
              "#ed7953"
             ],
             [
              0.7777777777777778,
              "#fb9f3a"
             ],
             [
              0.8888888888888888,
              "#fdca26"
             ],
             [
              1,
              "#f0f921"
             ]
            ],
            "type": "contour"
           }
          ],
          "contourcarpet": [
           {
            "colorbar": {
             "outlinewidth": 0,
             "ticks": ""
            },
            "type": "contourcarpet"
           }
          ],
          "heatmap": [
           {
            "colorbar": {
             "outlinewidth": 0,
             "ticks": ""
            },
            "colorscale": [
             [
              0,
              "#0d0887"
             ],
             [
              0.1111111111111111,
              "#46039f"
             ],
             [
              0.2222222222222222,
              "#7201a8"
             ],
             [
              0.3333333333333333,
              "#9c179e"
             ],
             [
              0.4444444444444444,
              "#bd3786"
             ],
             [
              0.5555555555555556,
              "#d8576b"
             ],
             [
              0.6666666666666666,
              "#ed7953"
             ],
             [
              0.7777777777777778,
              "#fb9f3a"
             ],
             [
              0.8888888888888888,
              "#fdca26"
             ],
             [
              1,
              "#f0f921"
             ]
            ],
            "type": "heatmap"
           }
          ],
          "heatmapgl": [
           {
            "colorbar": {
             "outlinewidth": 0,
             "ticks": ""
            },
            "colorscale": [
             [
              0,
              "#0d0887"
             ],
             [
              0.1111111111111111,
              "#46039f"
             ],
             [
              0.2222222222222222,
              "#7201a8"
             ],
             [
              0.3333333333333333,
              "#9c179e"
             ],
             [
              0.4444444444444444,
              "#bd3786"
             ],
             [
              0.5555555555555556,
              "#d8576b"
             ],
             [
              0.6666666666666666,
              "#ed7953"
             ],
             [
              0.7777777777777778,
              "#fb9f3a"
             ],
             [
              0.8888888888888888,
              "#fdca26"
             ],
             [
              1,
              "#f0f921"
             ]
            ],
            "type": "heatmapgl"
           }
          ],
          "histogram": [
           {
            "marker": {
             "pattern": {
              "fillmode": "overlay",
              "size": 10,
              "solidity": 0.2
             }
            },
            "type": "histogram"
           }
          ],
          "histogram2d": [
           {
            "colorbar": {
             "outlinewidth": 0,
             "ticks": ""
            },
            "colorscale": [
             [
              0,
              "#0d0887"
             ],
             [
              0.1111111111111111,
              "#46039f"
             ],
             [
              0.2222222222222222,
              "#7201a8"
             ],
             [
              0.3333333333333333,
              "#9c179e"
             ],
             [
              0.4444444444444444,
              "#bd3786"
             ],
             [
              0.5555555555555556,
              "#d8576b"
             ],
             [
              0.6666666666666666,
              "#ed7953"
             ],
             [
              0.7777777777777778,
              "#fb9f3a"
             ],
             [
              0.8888888888888888,
              "#fdca26"
             ],
             [
              1,
              "#f0f921"
             ]
            ],
            "type": "histogram2d"
           }
          ],
          "histogram2dcontour": [
           {
            "colorbar": {
             "outlinewidth": 0,
             "ticks": ""
            },
            "colorscale": [
             [
              0,
              "#0d0887"
             ],
             [
              0.1111111111111111,
              "#46039f"
             ],
             [
              0.2222222222222222,
              "#7201a8"
             ],
             [
              0.3333333333333333,
              "#9c179e"
             ],
             [
              0.4444444444444444,
              "#bd3786"
             ],
             [
              0.5555555555555556,
              "#d8576b"
             ],
             [
              0.6666666666666666,
              "#ed7953"
             ],
             [
              0.7777777777777778,
              "#fb9f3a"
             ],
             [
              0.8888888888888888,
              "#fdca26"
             ],
             [
              1,
              "#f0f921"
             ]
            ],
            "type": "histogram2dcontour"
           }
          ],
          "mesh3d": [
           {
            "colorbar": {
             "outlinewidth": 0,
             "ticks": ""
            },
            "type": "mesh3d"
           }
          ],
          "parcoords": [
           {
            "line": {
             "colorbar": {
              "outlinewidth": 0,
              "ticks": ""
             }
            },
            "type": "parcoords"
           }
          ],
          "pie": [
           {
            "automargin": true,
            "type": "pie"
           }
          ],
          "scatter": [
           {
            "fillpattern": {
             "fillmode": "overlay",
             "size": 10,
             "solidity": 0.2
            },
            "type": "scatter"
           }
          ],
          "scatter3d": [
           {
            "line": {
             "colorbar": {
              "outlinewidth": 0,
              "ticks": ""
             }
            },
            "marker": {
             "colorbar": {
              "outlinewidth": 0,
              "ticks": ""
             }
            },
            "type": "scatter3d"
           }
          ],
          "scattercarpet": [
           {
            "marker": {
             "colorbar": {
              "outlinewidth": 0,
              "ticks": ""
             }
            },
            "type": "scattercarpet"
           }
          ],
          "scattergeo": [
           {
            "marker": {
             "colorbar": {
              "outlinewidth": 0,
              "ticks": ""
             }
            },
            "type": "scattergeo"
           }
          ],
          "scattergl": [
           {
            "marker": {
             "colorbar": {
              "outlinewidth": 0,
              "ticks": ""
             }
            },
            "type": "scattergl"
           }
          ],
          "scattermapbox": [
           {
            "marker": {
             "colorbar": {
              "outlinewidth": 0,
              "ticks": ""
             }
            },
            "type": "scattermapbox"
           }
          ],
          "scatterpolar": [
           {
            "marker": {
             "colorbar": {
              "outlinewidth": 0,
              "ticks": ""
             }
            },
            "type": "scatterpolar"
           }
          ],
          "scatterpolargl": [
           {
            "marker": {
             "colorbar": {
              "outlinewidth": 0,
              "ticks": ""
             }
            },
            "type": "scatterpolargl"
           }
          ],
          "scatterternary": [
           {
            "marker": {
             "colorbar": {
              "outlinewidth": 0,
              "ticks": ""
             }
            },
            "type": "scatterternary"
           }
          ],
          "surface": [
           {
            "colorbar": {
             "outlinewidth": 0,
             "ticks": ""
            },
            "colorscale": [
             [
              0,
              "#0d0887"
             ],
             [
              0.1111111111111111,
              "#46039f"
             ],
             [
              0.2222222222222222,
              "#7201a8"
             ],
             [
              0.3333333333333333,
              "#9c179e"
             ],
             [
              0.4444444444444444,
              "#bd3786"
             ],
             [
              0.5555555555555556,
              "#d8576b"
             ],
             [
              0.6666666666666666,
              "#ed7953"
             ],
             [
              0.7777777777777778,
              "#fb9f3a"
             ],
             [
              0.8888888888888888,
              "#fdca26"
             ],
             [
              1,
              "#f0f921"
             ]
            ],
            "type": "surface"
           }
          ],
          "table": [
           {
            "cells": {
             "fill": {
              "color": "#EBF0F8"
             },
             "line": {
              "color": "white"
             }
            },
            "header": {
             "fill": {
              "color": "#C8D4E3"
             },
             "line": {
              "color": "white"
             }
            },
            "type": "table"
           }
          ]
         },
         "layout": {
          "annotationdefaults": {
           "arrowcolor": "#2a3f5f",
           "arrowhead": 0,
           "arrowwidth": 1
          },
          "autotypenumbers": "strict",
          "coloraxis": {
           "colorbar": {
            "outlinewidth": 0,
            "ticks": ""
           }
          },
          "colorscale": {
           "diverging": [
            [
             0,
             "#8e0152"
            ],
            [
             0.1,
             "#c51b7d"
            ],
            [
             0.2,
             "#de77ae"
            ],
            [
             0.3,
             "#f1b6da"
            ],
            [
             0.4,
             "#fde0ef"
            ],
            [
             0.5,
             "#f7f7f7"
            ],
            [
             0.6,
             "#e6f5d0"
            ],
            [
             0.7,
             "#b8e186"
            ],
            [
             0.8,
             "#7fbc41"
            ],
            [
             0.9,
             "#4d9221"
            ],
            [
             1,
             "#276419"
            ]
           ],
           "sequential": [
            [
             0,
             "#0d0887"
            ],
            [
             0.1111111111111111,
             "#46039f"
            ],
            [
             0.2222222222222222,
             "#7201a8"
            ],
            [
             0.3333333333333333,
             "#9c179e"
            ],
            [
             0.4444444444444444,
             "#bd3786"
            ],
            [
             0.5555555555555556,
             "#d8576b"
            ],
            [
             0.6666666666666666,
             "#ed7953"
            ],
            [
             0.7777777777777778,
             "#fb9f3a"
            ],
            [
             0.8888888888888888,
             "#fdca26"
            ],
            [
             1,
             "#f0f921"
            ]
           ],
           "sequentialminus": [
            [
             0,
             "#0d0887"
            ],
            [
             0.1111111111111111,
             "#46039f"
            ],
            [
             0.2222222222222222,
             "#7201a8"
            ],
            [
             0.3333333333333333,
             "#9c179e"
            ],
            [
             0.4444444444444444,
             "#bd3786"
            ],
            [
             0.5555555555555556,
             "#d8576b"
            ],
            [
             0.6666666666666666,
             "#ed7953"
            ],
            [
             0.7777777777777778,
             "#fb9f3a"
            ],
            [
             0.8888888888888888,
             "#fdca26"
            ],
            [
             1,
             "#f0f921"
            ]
           ]
          },
          "colorway": [
           "#636efa",
           "#EF553B",
           "#00cc96",
           "#ab63fa",
           "#FFA15A",
           "#19d3f3",
           "#FF6692",
           "#B6E880",
           "#FF97FF",
           "#FECB52"
          ],
          "font": {
           "color": "#2a3f5f"
          },
          "geo": {
           "bgcolor": "white",
           "lakecolor": "white",
           "landcolor": "#E5ECF6",
           "showlakes": true,
           "showland": true,
           "subunitcolor": "white"
          },
          "hoverlabel": {
           "align": "left"
          },
          "hovermode": "closest",
          "mapbox": {
           "style": "light"
          },
          "paper_bgcolor": "white",
          "plot_bgcolor": "#E5ECF6",
          "polar": {
           "angularaxis": {
            "gridcolor": "white",
            "linecolor": "white",
            "ticks": ""
           },
           "bgcolor": "#E5ECF6",
           "radialaxis": {
            "gridcolor": "white",
            "linecolor": "white",
            "ticks": ""
           }
          },
          "scene": {
           "xaxis": {
            "backgroundcolor": "#E5ECF6",
            "gridcolor": "white",
            "gridwidth": 2,
            "linecolor": "white",
            "showbackground": true,
            "ticks": "",
            "zerolinecolor": "white"
           },
           "yaxis": {
            "backgroundcolor": "#E5ECF6",
            "gridcolor": "white",
            "gridwidth": 2,
            "linecolor": "white",
            "showbackground": true,
            "ticks": "",
            "zerolinecolor": "white"
           },
           "zaxis": {
            "backgroundcolor": "#E5ECF6",
            "gridcolor": "white",
            "gridwidth": 2,
            "linecolor": "white",
            "showbackground": true,
            "ticks": "",
            "zerolinecolor": "white"
           }
          },
          "shapedefaults": {
           "line": {
            "color": "#2a3f5f"
           }
          },
          "ternary": {
           "aaxis": {
            "gridcolor": "white",
            "linecolor": "white",
            "ticks": ""
           },
           "baxis": {
            "gridcolor": "white",
            "linecolor": "white",
            "ticks": ""
           },
           "bgcolor": "#E5ECF6",
           "caxis": {
            "gridcolor": "white",
            "linecolor": "white",
            "ticks": ""
           }
          },
          "title": {
           "x": 0.05
          },
          "xaxis": {
           "automargin": true,
           "gridcolor": "white",
           "linecolor": "white",
           "ticks": "",
           "title": {
            "standoff": 15
           },
           "zerolinecolor": "white",
           "zerolinewidth": 2
          },
          "yaxis": {
           "automargin": true,
           "gridcolor": "white",
           "linecolor": "white",
           "ticks": "",
           "title": {
            "standoff": 15
           },
           "zerolinecolor": "white",
           "zerolinewidth": 2
          }
         }
        },
        "xaxis": {
         "anchor": "y",
         "domain": [
          0,
          1
         ],
         "title": {
          "text": "Columns"
         }
        },
        "yaxis": {
         "anchor": "x",
         "domain": [
          0,
          1
         ],
         "title": {
          "text": "Mutual Info"
         }
        }
       }
      },
      "text/html": [
       "<div>                            <div id=\"895a51ac-0c60-4a98-ac39-2218a1a865b6\" class=\"plotly-graph-div\" style=\"height:525px; width:100%;\"></div>            <script type=\"text/javascript\">                require([\"plotly\"], function(Plotly) {                    window.PLOTLYENV=window.PLOTLYENV || {};                                    if (document.getElementById(\"895a51ac-0c60-4a98-ac39-2218a1a865b6\")) {                    Plotly.newPlot(                        \"895a51ac-0c60-4a98-ac39-2218a1a865b6\",                        [{\"alignmentgroup\":\"True\",\"hovertemplate\":\"Columns=%{x}<br>Mutual Info=%{y}<extra></extra>\",\"legendgroup\":\"\",\"marker\":{\"color\":\"#636efa\",\"pattern\":{\"shape\":\"\"}},\"name\":\"\",\"offsetgroup\":\"\",\"orientation\":\"v\",\"showlegend\":false,\"textposition\":\"auto\",\"x\":[\"baseline value\",\"accelerations\",\"fetal_movement\",\"uterine_contractions\",\"light_decelerations\",\"severe_decelerations\",\"prolongued_decelerations\",\"abnormal_short_term_variability\",\"mean_value_of_short_term_variability\",\"percentage_of_time_with_abnormal_long_term_variability\",\"mean_value_of_long_term_variability\",\"histogram_width\",\"histogram_min\",\"histogram_max\",\"histogram_number_of_peaks\",\"histogram_number_of_zeroes\",\"histogram_mode\",\"histogram_mean\",\"histogram_median\",\"histogram_variance\",\"histogram_tendency\"],\"xaxis\":\"x\",\"y\":[0.13203859338720458,0.15602532199937658,0.04623187959932462,0.07298937975926711,0.034633011104289624,0.0,0.06926733359169157,0.19174325566782713,0.23666009432699942,0.1999252310095414,0.08041221194049042,0.12243731160159466,0.12220078623235286,0.061539022132893306,0.02000471142371918,0.003256258897422537,0.14801439232389613,0.14040615537026202,0.13326702417748293,0.14256238336093863,0.03204040504521277],\"yaxis\":\"y\",\"type\":\"bar\"}],                        {\"template\":{\"data\":{\"histogram2dcontour\":[{\"type\":\"histogram2dcontour\",\"colorbar\":{\"outlinewidth\":0,\"ticks\":\"\"},\"colorscale\":[[0.0,\"#0d0887\"],[0.1111111111111111,\"#46039f\"],[0.2222222222222222,\"#7201a8\"],[0.3333333333333333,\"#9c179e\"],[0.4444444444444444,\"#bd3786\"],[0.5555555555555556,\"#d8576b\"],[0.6666666666666666,\"#ed7953\"],[0.7777777777777778,\"#fb9f3a\"],[0.8888888888888888,\"#fdca26\"],[1.0,\"#f0f921\"]]}],\"choropleth\":[{\"type\":\"choropleth\",\"colorbar\":{\"outlinewidth\":0,\"ticks\":\"\"}}],\"histogram2d\":[{\"type\":\"histogram2d\",\"colorbar\":{\"outlinewidth\":0,\"ticks\":\"\"},\"colorscale\":[[0.0,\"#0d0887\"],[0.1111111111111111,\"#46039f\"],[0.2222222222222222,\"#7201a8\"],[0.3333333333333333,\"#9c179e\"],[0.4444444444444444,\"#bd3786\"],[0.5555555555555556,\"#d8576b\"],[0.6666666666666666,\"#ed7953\"],[0.7777777777777778,\"#fb9f3a\"],[0.8888888888888888,\"#fdca26\"],[1.0,\"#f0f921\"]]}],\"heatmap\":[{\"type\":\"heatmap\",\"colorbar\":{\"outlinewidth\":0,\"ticks\":\"\"},\"colorscale\":[[0.0,\"#0d0887\"],[0.1111111111111111,\"#46039f\"],[0.2222222222222222,\"#7201a8\"],[0.3333333333333333,\"#9c179e\"],[0.4444444444444444,\"#bd3786\"],[0.5555555555555556,\"#d8576b\"],[0.6666666666666666,\"#ed7953\"],[0.7777777777777778,\"#fb9f3a\"],[0.8888888888888888,\"#fdca26\"],[1.0,\"#f0f921\"]]}],\"heatmapgl\":[{\"type\":\"heatmapgl\",\"colorbar\":{\"outlinewidth\":0,\"ticks\":\"\"},\"colorscale\":[[0.0,\"#0d0887\"],[0.1111111111111111,\"#46039f\"],[0.2222222222222222,\"#7201a8\"],[0.3333333333333333,\"#9c179e\"],[0.4444444444444444,\"#bd3786\"],[0.5555555555555556,\"#d8576b\"],[0.6666666666666666,\"#ed7953\"],[0.7777777777777778,\"#fb9f3a\"],[0.8888888888888888,\"#fdca26\"],[1.0,\"#f0f921\"]]}],\"contourcarpet\":[{\"type\":\"contourcarpet\",\"colorbar\":{\"outlinewidth\":0,\"ticks\":\"\"}}],\"contour\":[{\"type\":\"contour\",\"colorbar\":{\"outlinewidth\":0,\"ticks\":\"\"},\"colorscale\":[[0.0,\"#0d0887\"],[0.1111111111111111,\"#46039f\"],[0.2222222222222222,\"#7201a8\"],[0.3333333333333333,\"#9c179e\"],[0.4444444444444444,\"#bd3786\"],[0.5555555555555556,\"#d8576b\"],[0.6666666666666666,\"#ed7953\"],[0.7777777777777778,\"#fb9f3a\"],[0.8888888888888888,\"#fdca26\"],[1.0,\"#f0f921\"]]}],\"surface\":[{\"type\":\"surface\",\"colorbar\":{\"outlinewidth\":0,\"ticks\":\"\"},\"colorscale\":[[0.0,\"#0d0887\"],[0.1111111111111111,\"#46039f\"],[0.2222222222222222,\"#7201a8\"],[0.3333333333333333,\"#9c179e\"],[0.4444444444444444,\"#bd3786\"],[0.5555555555555556,\"#d8576b\"],[0.6666666666666666,\"#ed7953\"],[0.7777777777777778,\"#fb9f3a\"],[0.8888888888888888,\"#fdca26\"],[1.0,\"#f0f921\"]]}],\"mesh3d\":[{\"type\":\"mesh3d\",\"colorbar\":{\"outlinewidth\":0,\"ticks\":\"\"}}],\"scatter\":[{\"fillpattern\":{\"fillmode\":\"overlay\",\"size\":10,\"solidity\":0.2},\"type\":\"scatter\"}],\"parcoords\":[{\"type\":\"parcoords\",\"line\":{\"colorbar\":{\"outlinewidth\":0,\"ticks\":\"\"}}}],\"scatterpolargl\":[{\"type\":\"scatterpolargl\",\"marker\":{\"colorbar\":{\"outlinewidth\":0,\"ticks\":\"\"}}}],\"bar\":[{\"error_x\":{\"color\":\"#2a3f5f\"},\"error_y\":{\"color\":\"#2a3f5f\"},\"marker\":{\"line\":{\"color\":\"#E5ECF6\",\"width\":0.5},\"pattern\":{\"fillmode\":\"overlay\",\"size\":10,\"solidity\":0.2}},\"type\":\"bar\"}],\"scattergeo\":[{\"type\":\"scattergeo\",\"marker\":{\"colorbar\":{\"outlinewidth\":0,\"ticks\":\"\"}}}],\"scatterpolar\":[{\"type\":\"scatterpolar\",\"marker\":{\"colorbar\":{\"outlinewidth\":0,\"ticks\":\"\"}}}],\"histogram\":[{\"marker\":{\"pattern\":{\"fillmode\":\"overlay\",\"size\":10,\"solidity\":0.2}},\"type\":\"histogram\"}],\"scattergl\":[{\"type\":\"scattergl\",\"marker\":{\"colorbar\":{\"outlinewidth\":0,\"ticks\":\"\"}}}],\"scatter3d\":[{\"type\":\"scatter3d\",\"line\":{\"colorbar\":{\"outlinewidth\":0,\"ticks\":\"\"}},\"marker\":{\"colorbar\":{\"outlinewidth\":0,\"ticks\":\"\"}}}],\"scattermapbox\":[{\"type\":\"scattermapbox\",\"marker\":{\"colorbar\":{\"outlinewidth\":0,\"ticks\":\"\"}}}],\"scatterternary\":[{\"type\":\"scatterternary\",\"marker\":{\"colorbar\":{\"outlinewidth\":0,\"ticks\":\"\"}}}],\"scattercarpet\":[{\"type\":\"scattercarpet\",\"marker\":{\"colorbar\":{\"outlinewidth\":0,\"ticks\":\"\"}}}],\"carpet\":[{\"aaxis\":{\"endlinecolor\":\"#2a3f5f\",\"gridcolor\":\"white\",\"linecolor\":\"white\",\"minorgridcolor\":\"white\",\"startlinecolor\":\"#2a3f5f\"},\"baxis\":{\"endlinecolor\":\"#2a3f5f\",\"gridcolor\":\"white\",\"linecolor\":\"white\",\"minorgridcolor\":\"white\",\"startlinecolor\":\"#2a3f5f\"},\"type\":\"carpet\"}],\"table\":[{\"cells\":{\"fill\":{\"color\":\"#EBF0F8\"},\"line\":{\"color\":\"white\"}},\"header\":{\"fill\":{\"color\":\"#C8D4E3\"},\"line\":{\"color\":\"white\"}},\"type\":\"table\"}],\"barpolar\":[{\"marker\":{\"line\":{\"color\":\"#E5ECF6\",\"width\":0.5},\"pattern\":{\"fillmode\":\"overlay\",\"size\":10,\"solidity\":0.2}},\"type\":\"barpolar\"}],\"pie\":[{\"automargin\":true,\"type\":\"pie\"}]},\"layout\":{\"autotypenumbers\":\"strict\",\"colorway\":[\"#636efa\",\"#EF553B\",\"#00cc96\",\"#ab63fa\",\"#FFA15A\",\"#19d3f3\",\"#FF6692\",\"#B6E880\",\"#FF97FF\",\"#FECB52\"],\"font\":{\"color\":\"#2a3f5f\"},\"hovermode\":\"closest\",\"hoverlabel\":{\"align\":\"left\"},\"paper_bgcolor\":\"white\",\"plot_bgcolor\":\"#E5ECF6\",\"polar\":{\"bgcolor\":\"#E5ECF6\",\"angularaxis\":{\"gridcolor\":\"white\",\"linecolor\":\"white\",\"ticks\":\"\"},\"radialaxis\":{\"gridcolor\":\"white\",\"linecolor\":\"white\",\"ticks\":\"\"}},\"ternary\":{\"bgcolor\":\"#E5ECF6\",\"aaxis\":{\"gridcolor\":\"white\",\"linecolor\":\"white\",\"ticks\":\"\"},\"baxis\":{\"gridcolor\":\"white\",\"linecolor\":\"white\",\"ticks\":\"\"},\"caxis\":{\"gridcolor\":\"white\",\"linecolor\":\"white\",\"ticks\":\"\"}},\"coloraxis\":{\"colorbar\":{\"outlinewidth\":0,\"ticks\":\"\"}},\"colorscale\":{\"sequential\":[[0.0,\"#0d0887\"],[0.1111111111111111,\"#46039f\"],[0.2222222222222222,\"#7201a8\"],[0.3333333333333333,\"#9c179e\"],[0.4444444444444444,\"#bd3786\"],[0.5555555555555556,\"#d8576b\"],[0.6666666666666666,\"#ed7953\"],[0.7777777777777778,\"#fb9f3a\"],[0.8888888888888888,\"#fdca26\"],[1.0,\"#f0f921\"]],\"sequentialminus\":[[0.0,\"#0d0887\"],[0.1111111111111111,\"#46039f\"],[0.2222222222222222,\"#7201a8\"],[0.3333333333333333,\"#9c179e\"],[0.4444444444444444,\"#bd3786\"],[0.5555555555555556,\"#d8576b\"],[0.6666666666666666,\"#ed7953\"],[0.7777777777777778,\"#fb9f3a\"],[0.8888888888888888,\"#fdca26\"],[1.0,\"#f0f921\"]],\"diverging\":[[0,\"#8e0152\"],[0.1,\"#c51b7d\"],[0.2,\"#de77ae\"],[0.3,\"#f1b6da\"],[0.4,\"#fde0ef\"],[0.5,\"#f7f7f7\"],[0.6,\"#e6f5d0\"],[0.7,\"#b8e186\"],[0.8,\"#7fbc41\"],[0.9,\"#4d9221\"],[1,\"#276419\"]]},\"xaxis\":{\"gridcolor\":\"white\",\"linecolor\":\"white\",\"ticks\":\"\",\"title\":{\"standoff\":15},\"zerolinecolor\":\"white\",\"automargin\":true,\"zerolinewidth\":2},\"yaxis\":{\"gridcolor\":\"white\",\"linecolor\":\"white\",\"ticks\":\"\",\"title\":{\"standoff\":15},\"zerolinecolor\":\"white\",\"automargin\":true,\"zerolinewidth\":2},\"scene\":{\"xaxis\":{\"backgroundcolor\":\"#E5ECF6\",\"gridcolor\":\"white\",\"linecolor\":\"white\",\"showbackground\":true,\"ticks\":\"\",\"zerolinecolor\":\"white\",\"gridwidth\":2},\"yaxis\":{\"backgroundcolor\":\"#E5ECF6\",\"gridcolor\":\"white\",\"linecolor\":\"white\",\"showbackground\":true,\"ticks\":\"\",\"zerolinecolor\":\"white\",\"gridwidth\":2},\"zaxis\":{\"backgroundcolor\":\"#E5ECF6\",\"gridcolor\":\"white\",\"linecolor\":\"white\",\"showbackground\":true,\"ticks\":\"\",\"zerolinecolor\":\"white\",\"gridwidth\":2}},\"shapedefaults\":{\"line\":{\"color\":\"#2a3f5f\"}},\"annotationdefaults\":{\"arrowcolor\":\"#2a3f5f\",\"arrowhead\":0,\"arrowwidth\":1},\"geo\":{\"bgcolor\":\"white\",\"landcolor\":\"#E5ECF6\",\"subunitcolor\":\"white\",\"showland\":true,\"showlakes\":true,\"lakecolor\":\"white\"},\"title\":{\"x\":0.05},\"mapbox\":{\"style\":\"light\"}}},\"xaxis\":{\"anchor\":\"y\",\"domain\":[0.0,1.0],\"title\":{\"text\":\"Columns\"}},\"yaxis\":{\"anchor\":\"x\",\"domain\":[0.0,1.0],\"title\":{\"text\":\"Mutual Info\"}},\"legend\":{\"tracegroupgap\":0},\"margin\":{\"t\":60},\"barmode\":\"relative\"},                        {\"responsive\": true}                    ).then(function(){\n",
       "                            \n",
       "var gd = document.getElementById('895a51ac-0c60-4a98-ac39-2218a1a865b6');\n",
       "var x = new MutationObserver(function (mutations, observer) {{\n",
       "        var display = window.getComputedStyle(gd).display;\n",
       "        if (!display || display === 'none') {{\n",
       "            console.log([gd, 'removed!']);\n",
       "            Plotly.purge(gd);\n",
       "            observer.disconnect();\n",
       "        }}\n",
       "}});\n",
       "\n",
       "// Listen for the removal of the full notebook cells\n",
       "var notebookContainer = gd.closest('#notebook-container');\n",
       "if (notebookContainer) {{\n",
       "    x.observe(notebookContainer, {childList: true});\n",
       "}}\n",
       "\n",
       "// Listen for the clearing of the current output cell\n",
       "var outputEl = gd.closest('.output');\n",
       "if (outputEl) {{\n",
       "    x.observe(outputEl, {childList: true});\n",
       "}}\n",
       "\n",
       "                        })                };                });            </script>        </div>"
      ]
     },
     "metadata": {},
     "output_type": "display_data"
    }
   ],
   "source": [
    "from sklearn.model_selection import train_test_split\n",
    "from sklearn.feature_selection import mutual_info_classif\n",
    "import plotly.express as px\n",
    "X_train, X_test, Y_train,Y_test = train_test_split(data_copy.drop(labels= ['fetal_health','fetal_health_original'],axis = 1),\n",
    "                                                   data_copy['fetal_health'],\n",
    "                                                  test_size = 0.3,\n",
    "                                                  random_state = 0)\n",
    "\n",
    "mutual_info = mutual_info_classif(X_train,Y_train)\n",
    "df_mutual_info = pd.DataFrame({\"Columns\" : data_copy.drop(labels = ['fetal_health','fetal_health_original'],axis = 1).columns,\n",
    "                              \"Mutual Info\" : mutual_info})\n",
    "\n",
    "fig = px.bar(df_mutual_info, x = \"Columns\", y = \"Mutual Info\")\n",
    "fig.show()"
   ]
  },
  {
   "cell_type": "code",
   "execution_count": 93,
   "id": "53e4b50b",
   "metadata": {},
   "outputs": [
    {
     "data": {
      "text/plain": [
       "Index(['baseline value', 'accelerations', 'abnormal_short_term_variability',\n",
       "       'mean_value_of_short_term_variability',\n",
       "       'percentage_of_time_with_abnormal_long_term_variability',\n",
       "       'histogram_width', 'histogram_mode', 'histogram_mean',\n",
       "       'histogram_median', 'histogram_variance'],\n",
       "      dtype='object')"
      ]
     },
     "execution_count": 93,
     "metadata": {},
     "output_type": "execute_result"
    }
   ],
   "source": [
    "from sklearn.feature_selection import SelectKBest\n",
    "select_top_features = SelectKBest(mutual_info_classif, k = 10)\n",
    "select_top_features.fit(X_train,Y_train)\n",
    "X_train.columns[select_top_features.get_support()]"
   ]
  },
  {
   "cell_type": "code",
   "execution_count": 94,
   "id": "44d32fe6",
   "metadata": {},
   "outputs": [],
   "source": [
    "X_test = X_test[[X_train.columns][0]]"
   ]
  },
  {
   "cell_type": "code",
   "execution_count": 103,
   "id": "8db3eb4f",
   "metadata": {},
   "outputs": [
    {
     "name": "stdout",
     "output_type": "stream",
     "text": [
      "[0]\tvalidation_0-auc:0.95462\n",
      "[1]\tvalidation_0-auc:0.96214\n",
      "[2]\tvalidation_0-auc:0.96498\n",
      "[3]\tvalidation_0-auc:0.96137\n",
      "[4]\tvalidation_0-auc:0.96416\n",
      "[5]\tvalidation_0-auc:0.96411\n",
      "[6]\tvalidation_0-auc:0.96634\n",
      "[7]\tvalidation_0-auc:0.96745\n",
      "[8]\tvalidation_0-auc:0.96821\n",
      "[9]\tvalidation_0-auc:0.97013\n",
      "[10]\tvalidation_0-auc:0.97163\n",
      "[11]\tvalidation_0-auc:0.97395\n",
      "[12]\tvalidation_0-auc:0.97426\n",
      "[13]\tvalidation_0-auc:0.97388\n",
      "[14]\tvalidation_0-auc:0.97553\n",
      "[15]\tvalidation_0-auc:0.97534\n",
      "[16]\tvalidation_0-auc:0.97533\n",
      "[17]\tvalidation_0-auc:0.97687\n",
      "[18]\tvalidation_0-auc:0.97752\n",
      "[19]\tvalidation_0-auc:0.97823\n",
      "[20]\tvalidation_0-auc:0.97827\n",
      "[21]\tvalidation_0-auc:0.97826\n",
      "[22]\tvalidation_0-auc:0.97903\n",
      "[23]\tvalidation_0-auc:0.97895\n",
      "[24]\tvalidation_0-auc:0.97947\n",
      "[25]\tvalidation_0-auc:0.97989\n",
      "[26]\tvalidation_0-auc:0.97967\n",
      "[27]\tvalidation_0-auc:0.98050\n",
      "[28]\tvalidation_0-auc:0.98030\n",
      "[29]\tvalidation_0-auc:0.98067\n",
      "[30]\tvalidation_0-auc:0.98106\n",
      "[31]\tvalidation_0-auc:0.98203\n",
      "[32]\tvalidation_0-auc:0.98201\n",
      "[33]\tvalidation_0-auc:0.98222\n",
      "[34]\tvalidation_0-auc:0.98238\n",
      "[35]\tvalidation_0-auc:0.98275\n",
      "[36]\tvalidation_0-auc:0.98277\n",
      "[37]\tvalidation_0-auc:0.98285\n",
      "[38]\tvalidation_0-auc:0.98279\n",
      "[39]\tvalidation_0-auc:0.98279\n",
      "[40]\tvalidation_0-auc:0.98283\n",
      "[41]\tvalidation_0-auc:0.98285\n",
      "[42]\tvalidation_0-auc:0.98302\n",
      "[43]\tvalidation_0-auc:0.98301\n",
      "[44]\tvalidation_0-auc:0.98313\n",
      "[45]\tvalidation_0-auc:0.98324\n",
      "[46]\tvalidation_0-auc:0.98327\n",
      "[47]\tvalidation_0-auc:0.98329\n",
      "[48]\tvalidation_0-auc:0.98342\n",
      "[49]\tvalidation_0-auc:0.98335\n",
      "[50]\tvalidation_0-auc:0.98348\n",
      "[51]\tvalidation_0-auc:0.98339\n",
      "[52]\tvalidation_0-auc:0.98341\n",
      "[53]\tvalidation_0-auc:0.98335\n",
      "[54]\tvalidation_0-auc:0.98334\n",
      "[55]\tvalidation_0-auc:0.98333\n",
      "[56]\tvalidation_0-auc:0.98326\n",
      "[57]\tvalidation_0-auc:0.98324\n",
      "[58]\tvalidation_0-auc:0.98336\n",
      "[59]\tvalidation_0-auc:0.98333\n",
      "[60]\tvalidation_0-auc:0.98339\n"
     ]
    },
    {
     "data": {
      "text/html": [
       "<style>#sk-container-id-6 {color: black;background-color: white;}#sk-container-id-6 pre{padding: 0;}#sk-container-id-6 div.sk-toggleable {background-color: white;}#sk-container-id-6 label.sk-toggleable__label {cursor: pointer;display: block;width: 100%;margin-bottom: 0;padding: 0.3em;box-sizing: border-box;text-align: center;}#sk-container-id-6 label.sk-toggleable__label-arrow:before {content: \"▸\";float: left;margin-right: 0.25em;color: #696969;}#sk-container-id-6 label.sk-toggleable__label-arrow:hover:before {color: black;}#sk-container-id-6 div.sk-estimator:hover label.sk-toggleable__label-arrow:before {color: black;}#sk-container-id-6 div.sk-toggleable__content {max-height: 0;max-width: 0;overflow: hidden;text-align: left;background-color: #f0f8ff;}#sk-container-id-6 div.sk-toggleable__content pre {margin: 0.2em;color: black;border-radius: 0.25em;background-color: #f0f8ff;}#sk-container-id-6 input.sk-toggleable__control:checked~div.sk-toggleable__content {max-height: 200px;max-width: 100%;overflow: auto;}#sk-container-id-6 input.sk-toggleable__control:checked~label.sk-toggleable__label-arrow:before {content: \"▾\";}#sk-container-id-6 div.sk-estimator input.sk-toggleable__control:checked~label.sk-toggleable__label {background-color: #d4ebff;}#sk-container-id-6 div.sk-label input.sk-toggleable__control:checked~label.sk-toggleable__label {background-color: #d4ebff;}#sk-container-id-6 input.sk-hidden--visually {border: 0;clip: rect(1px 1px 1px 1px);clip: rect(1px, 1px, 1px, 1px);height: 1px;margin: -1px;overflow: hidden;padding: 0;position: absolute;width: 1px;}#sk-container-id-6 div.sk-estimator {font-family: monospace;background-color: #f0f8ff;border: 1px dotted black;border-radius: 0.25em;box-sizing: border-box;margin-bottom: 0.5em;}#sk-container-id-6 div.sk-estimator:hover {background-color: #d4ebff;}#sk-container-id-6 div.sk-parallel-item::after {content: \"\";width: 100%;border-bottom: 1px solid gray;flex-grow: 1;}#sk-container-id-6 div.sk-label:hover label.sk-toggleable__label {background-color: #d4ebff;}#sk-container-id-6 div.sk-serial::before {content: \"\";position: absolute;border-left: 1px solid gray;box-sizing: border-box;top: 0;bottom: 0;left: 50%;z-index: 0;}#sk-container-id-6 div.sk-serial {display: flex;flex-direction: column;align-items: center;background-color: white;padding-right: 0.2em;padding-left: 0.2em;position: relative;}#sk-container-id-6 div.sk-item {position: relative;z-index: 1;}#sk-container-id-6 div.sk-parallel {display: flex;align-items: stretch;justify-content: center;background-color: white;position: relative;}#sk-container-id-6 div.sk-item::before, #sk-container-id-6 div.sk-parallel-item::before {content: \"\";position: absolute;border-left: 1px solid gray;box-sizing: border-box;top: 0;bottom: 0;left: 50%;z-index: -1;}#sk-container-id-6 div.sk-parallel-item {display: flex;flex-direction: column;z-index: 1;position: relative;background-color: white;}#sk-container-id-6 div.sk-parallel-item:first-child::after {align-self: flex-end;width: 50%;}#sk-container-id-6 div.sk-parallel-item:last-child::after {align-self: flex-start;width: 50%;}#sk-container-id-6 div.sk-parallel-item:only-child::after {width: 0;}#sk-container-id-6 div.sk-dashed-wrapped {border: 1px dashed gray;margin: 0 0.4em 0.5em 0.4em;box-sizing: border-box;padding-bottom: 0.4em;background-color: white;}#sk-container-id-6 div.sk-label label {font-family: monospace;font-weight: bold;display: inline-block;line-height: 1.2em;}#sk-container-id-6 div.sk-label-container {text-align: center;}#sk-container-id-6 div.sk-container {/* jupyter's `normalize.less` sets `[hidden] { display: none; }` but bootstrap.min.css set `[hidden] { display: none !important; }` so we also need the `!important` here to be able to override the default hidden behavior on the sphinx rendered scikit-learn.org. See: https://github.com/scikit-learn/scikit-learn/issues/21755 */display: inline-block !important;position: relative;}#sk-container-id-6 div.sk-text-repr-fallback {display: none;}</style><div id=\"sk-container-id-6\" class=\"sk-top-container\"><div class=\"sk-text-repr-fallback\"><pre>XGBClassifier(base_score=None, booster=None, callbacks=None,\n",
       "              colsample_bylevel=None, colsample_bynode=None,\n",
       "              colsample_bytree=0.5, early_stopping_rounds=None,\n",
       "              enable_categorical=False, eval_metric=&#x27;auc&#x27;, feature_types=None,\n",
       "              gamma=None, gpu_id=None, grow_policy=None, importance_type=None,\n",
       "              interaction_constraints=None, learning_rate=0.1, max_bin=None,\n",
       "              max_cat_threshold=None, max_cat_to_onehot=None,\n",
       "              max_delta_step=None, max_depth=5, max_leaves=None,\n",
       "              min_child_weight=None, missing=nan, monotone_constraints=None,\n",
       "              n_estimators=5000, n_jobs=None, num_parallel_tree=None,\n",
       "              objective=&#x27;multi:softprob&#x27;, predictor=None, ...)</pre><b>In a Jupyter environment, please rerun this cell to show the HTML representation or trust the notebook. <br />On GitHub, the HTML representation is unable to render, please try loading this page with nbviewer.org.</b></div><div class=\"sk-container\" hidden><div class=\"sk-item\"><div class=\"sk-estimator sk-toggleable\"><input class=\"sk-toggleable__control sk-hidden--visually\" id=\"sk-estimator-id-6\" type=\"checkbox\" checked><label for=\"sk-estimator-id-6\" class=\"sk-toggleable__label sk-toggleable__label-arrow\">XGBClassifier</label><div class=\"sk-toggleable__content\"><pre>XGBClassifier(base_score=None, booster=None, callbacks=None,\n",
       "              colsample_bylevel=None, colsample_bynode=None,\n",
       "              colsample_bytree=0.5, early_stopping_rounds=None,\n",
       "              enable_categorical=False, eval_metric=&#x27;auc&#x27;, feature_types=None,\n",
       "              gamma=None, gpu_id=None, grow_policy=None, importance_type=None,\n",
       "              interaction_constraints=None, learning_rate=0.1, max_bin=None,\n",
       "              max_cat_threshold=None, max_cat_to_onehot=None,\n",
       "              max_delta_step=None, max_depth=5, max_leaves=None,\n",
       "              min_child_weight=None, missing=nan, monotone_constraints=None,\n",
       "              n_estimators=5000, n_jobs=None, num_parallel_tree=None,\n",
       "              objective=&#x27;multi:softprob&#x27;, predictor=None, ...)</pre></div></div></div></div></div>"
      ],
      "text/plain": [
       "XGBClassifier(base_score=None, booster=None, callbacks=None,\n",
       "              colsample_bylevel=None, colsample_bynode=None,\n",
       "              colsample_bytree=0.5, early_stopping_rounds=None,\n",
       "              enable_categorical=False, eval_metric='auc', feature_types=None,\n",
       "              gamma=None, gpu_id=None, grow_policy=None, importance_type=None,\n",
       "              interaction_constraints=None, learning_rate=0.1, max_bin=None,\n",
       "              max_cat_threshold=None, max_cat_to_onehot=None,\n",
       "              max_delta_step=None, max_depth=5, max_leaves=None,\n",
       "              min_child_weight=None, missing=nan, monotone_constraints=None,\n",
       "              n_estimators=5000, n_jobs=None, num_parallel_tree=None,\n",
       "              objective='multi:softprob', predictor=None, ...)"
      ]
     },
     "execution_count": 103,
     "metadata": {},
     "output_type": "execute_result"
    }
   ],
   "source": [
    "import xgboost\n",
    "from sklearn.model_selection import GridSearchCV\n",
    "from sklearn.metrics import classification_report,roc_auc_score\n",
    "\n",
    "\n",
    "\n",
    "model_xgboost = xgboost.XGBClassifier(learning_rate = 0.1, max_depth =5,\n",
    "                                     n_estimators = 5000,\n",
    "                                     subsample = 0.5,\n",
    "                                     colsample_bytree = 0.5,\n",
    "                                      verbosity = 1,\n",
    "                                      eval_metric = 'auc'\n",
    "                                     )\n",
    "\n",
    "eval_set = [(X_test,Y_test)]\n",
    "\n",
    "model_xgboost.fit(X_train,Y_train,early_stopping_rounds = 10,eval_set = eval_set,verbose = True)"
   ]
  },
  {
   "cell_type": "code",
   "execution_count": 122,
   "id": "0959d58c",
   "metadata": {},
   "outputs": [
    {
     "data": {
      "text/plain": [
       "array([0, 0, 0, 0, 1, 0, 0, 0, 0, 1, 2, 0, 0, 0, 0, 0, 0, 0, 0, 1, 0, 0,\n",
       "       0, 2, 0, 0, 0, 1, 0, 1, 0, 0, 0, 0, 0, 0, 1, 0, 2, 0, 0, 1, 0, 0,\n",
       "       1, 0, 0, 0, 0, 0, 0, 0, 1, 0, 0, 0, 0, 0, 0, 0, 0, 0, 0, 1, 0, 1,\n",
       "       0, 1, 0, 0, 0, 1, 0, 0, 0, 0, 0, 0, 0, 0, 0, 0, 0, 0, 0, 0, 0, 0,\n",
       "       0, 0, 0, 0, 0, 0, 1, 0, 0, 0, 0, 1, 0, 0, 0, 2, 1, 1, 0, 0, 2, 1,\n",
       "       0, 0, 0, 0, 0, 0, 1, 1, 0, 0, 2, 0, 0, 0, 0, 0, 0, 0, 0, 2, 0, 0,\n",
       "       1, 1, 2, 0, 1, 0, 0, 0, 0, 1, 0, 1, 0, 1, 2, 0, 0, 0, 0, 0, 0, 1,\n",
       "       0, 0, 0, 0, 0, 0, 1, 0, 0, 0, 0, 0, 0, 0, 0, 0, 2, 0, 0, 0, 0, 0,\n",
       "       0, 2, 0, 0, 0, 0, 0, 0, 0, 0, 2, 0, 1, 1, 0, 0, 0, 0, 0, 0, 2, 2,\n",
       "       0, 2, 0, 0, 2, 0, 0, 0, 0, 0, 0, 1, 0, 0, 0, 2, 0, 0, 0, 0, 1, 0,\n",
       "       1, 0, 2, 0, 0, 0, 0, 0, 2, 0, 0, 1, 0, 0, 0, 0, 2, 0, 0, 0, 1, 2,\n",
       "       0, 0, 0, 0, 0, 0, 0, 0, 1, 0, 0, 0, 0, 0, 2, 0, 0, 0, 1, 0, 0, 0,\n",
       "       0, 0, 0, 0, 0, 2, 0, 2, 0, 2, 0, 0, 0, 1, 0, 0, 0, 0, 0, 0, 0, 0,\n",
       "       1, 2, 0, 1, 0, 1, 0, 2, 0, 0, 2, 0, 2, 2, 0, 0, 0, 2, 0, 2, 0, 1,\n",
       "       0, 2, 0, 0, 0, 0, 0, 0, 0, 0, 0, 2, 0, 0, 0, 0, 1, 0, 0, 0, 0, 0,\n",
       "       0, 2, 0, 0, 0, 2, 2, 0, 1, 1, 0, 1, 0, 0, 1, 0, 0, 0, 0, 0, 0, 0,\n",
       "       0, 0, 1, 0, 0, 0, 0, 0, 0, 0, 0, 0, 0, 0, 0, 0, 1, 0, 1, 0, 0, 0,\n",
       "       0, 0, 0, 0, 0, 0, 0, 2, 0, 0, 0, 0, 0, 0, 0, 0, 2, 0, 0, 0, 0, 0,\n",
       "       0, 0, 0, 0, 0, 0, 0, 0, 0, 2, 1, 0, 0, 0, 0, 2, 0, 0, 0, 0, 0, 0,\n",
       "       0, 0, 0, 1, 0, 0, 0, 0, 0, 0, 0, 0, 0, 0, 1, 0, 0, 0, 0, 0, 0, 0,\n",
       "       0, 1, 0, 0, 0, 0, 0, 1, 0, 0, 0, 0, 0, 0, 0, 0, 0, 0, 0, 2, 2, 0,\n",
       "       0, 0, 0, 1, 0, 0, 0, 1, 0, 0, 1, 1, 0, 0, 0, 0, 1, 0, 0, 0, 0, 0,\n",
       "       0, 0, 0, 0, 0, 0, 0, 0, 0, 0, 0, 0, 0, 0, 2, 0, 2, 0, 0, 0, 1, 0,\n",
       "       0, 0, 0, 0, 0, 0, 1, 2, 1, 2, 0, 2, 0, 2, 0, 0, 0, 0, 0, 0, 0, 0,\n",
       "       0, 0, 0, 0, 0, 0, 0, 2, 0, 0, 0, 0, 0, 0, 2, 0, 0, 0, 0, 0, 0, 0,\n",
       "       2, 0, 0, 1, 0, 0, 0, 0, 0, 0, 0, 0, 0, 0, 0, 0, 0, 0, 0, 0, 2, 0,\n",
       "       2, 1, 0, 0, 0, 0, 0, 1, 0, 0, 1, 0, 0, 2, 0, 0, 0, 0, 0, 0, 0, 0,\n",
       "       0, 0, 0, 0, 0, 0, 0, 0, 0, 0, 0, 0, 0, 1, 1, 0, 0, 0, 0, 0, 0, 2,\n",
       "       0, 1, 0, 1, 0, 0, 0, 0, 0, 2, 0, 0, 0, 1, 0, 2, 0, 0, 0, 0, 0, 0],\n",
       "      dtype=int64)"
      ]
     },
     "execution_count": 122,
     "metadata": {},
     "output_type": "execute_result"
    }
   ],
   "source": [
    "prediction = model_xgboost.predict(X_test)\n",
    "prediction"
   ]
  },
  {
   "cell_type": "code",
   "execution_count": 123,
   "id": "9978ac70",
   "metadata": {},
   "outputs": [
    {
     "data": {
      "text/plain": [
       "0"
      ]
     },
     "execution_count": 123,
     "metadata": {},
     "output_type": "execute_result"
    }
   ],
   "source": [
    "prediction[0]"
   ]
  },
  {
   "cell_type": "markdown",
   "id": "502c0e45",
   "metadata": {},
   "source": [
    "## Model Evaluation"
   ]
  },
  {
   "cell_type": "code",
   "execution_count": 104,
   "id": "2f62d672",
   "metadata": {},
   "outputs": [
    {
     "name": "stdout",
     "output_type": "stream",
     "text": [
      "              precision    recall  f1-score   support\n",
      "\n",
      "           0       0.96      0.98      0.97       494\n",
      "           1       0.89      0.74      0.81        86\n",
      "           2       0.95      0.95      0.95        58\n",
      "\n",
      "    accuracy                           0.95       638\n",
      "   macro avg       0.93      0.89      0.91       638\n",
      "weighted avg       0.95      0.95      0.95       638\n",
      "\n"
     ]
    }
   ],
   "source": [
    "print(classification_report(Y_test,prediction))"
   ]
  },
  {
   "cell_type": "markdown",
   "id": "b4a39579",
   "metadata": {},
   "source": [
    "## Hyperparametric Tuning"
   ]
  },
  {
   "cell_type": "code",
   "execution_count": 115,
   "id": "490c2168",
   "metadata": {},
   "outputs": [
    {
     "name": "stderr",
     "output_type": "stream",
     "text": [
      "C:\\Python310\\lib\\site-packages\\xgboost\\sklearn.py:1395: UserWarning:\n",
      "\n",
      "`use_label_encoder` is deprecated in 1.7.0.\n",
      "\n",
      "C:\\Python310\\lib\\site-packages\\xgboost\\sklearn.py:1395: UserWarning:\n",
      "\n",
      "`use_label_encoder` is deprecated in 1.7.0.\n",
      "\n",
      "C:\\Python310\\lib\\site-packages\\xgboost\\sklearn.py:1395: UserWarning:\n",
      "\n",
      "`use_label_encoder` is deprecated in 1.7.0.\n",
      "\n"
     ]
    },
    {
     "name": "stdout",
     "output_type": "stream",
     "text": [
      "Fitting 5 folds for each of 80 candidates, totalling 400 fits\n",
      "[CV 1/5] END learning_rate=0.02, max_depth=2, n_estimators=1000;, score=(train=0.931, test=0.931) total time=   0.7s\n"
     ]
    },
    {
     "name": "stderr",
     "output_type": "stream",
     "text": [
      "C:\\Python310\\lib\\site-packages\\xgboost\\sklearn.py:1395: UserWarning:\n",
      "\n",
      "`use_label_encoder` is deprecated in 1.7.0.\n",
      "\n"
     ]
    },
    {
     "name": "stdout",
     "output_type": "stream",
     "text": [
      "[CV 2/5] END learning_rate=0.02, max_depth=2, n_estimators=1000;, score=(train=0.947, test=0.947) total time=   0.6s\n"
     ]
    },
    {
     "name": "stderr",
     "output_type": "stream",
     "text": [
      "C:\\Python310\\lib\\site-packages\\xgboost\\sklearn.py:1395: UserWarning:\n",
      "\n",
      "`use_label_encoder` is deprecated in 1.7.0.\n",
      "\n"
     ]
    },
    {
     "name": "stdout",
     "output_type": "stream",
     "text": [
      "[CV 3/5] END learning_rate=0.02, max_depth=2, n_estimators=1000;, score=(train=0.922, test=0.922) total time=   0.7s\n"
     ]
    },
    {
     "name": "stderr",
     "output_type": "stream",
     "text": [
      "C:\\Python310\\lib\\site-packages\\xgboost\\sklearn.py:1395: UserWarning:\n",
      "\n",
      "`use_label_encoder` is deprecated in 1.7.0.\n",
      "\n"
     ]
    },
    {
     "name": "stdout",
     "output_type": "stream",
     "text": [
      "[CV 4/5] END learning_rate=0.02, max_depth=2, n_estimators=1000;, score=(train=0.912, test=0.912) total time=   0.6s\n"
     ]
    },
    {
     "name": "stderr",
     "output_type": "stream",
     "text": [
      "C:\\Python310\\lib\\site-packages\\xgboost\\sklearn.py:1395: UserWarning:\n",
      "\n",
      "`use_label_encoder` is deprecated in 1.7.0.\n",
      "\n"
     ]
    },
    {
     "name": "stdout",
     "output_type": "stream",
     "text": [
      "[CV 5/5] END learning_rate=0.02, max_depth=2, n_estimators=1000;, score=(train=0.930, test=0.930) total time=   0.7s\n"
     ]
    },
    {
     "name": "stderr",
     "output_type": "stream",
     "text": [
      "C:\\Python310\\lib\\site-packages\\xgboost\\sklearn.py:1395: UserWarning:\n",
      "\n",
      "`use_label_encoder` is deprecated in 1.7.0.\n",
      "\n"
     ]
    },
    {
     "name": "stdout",
     "output_type": "stream",
     "text": [
      "[CV 1/5] END learning_rate=0.02, max_depth=2, n_estimators=2000;, score=(train=0.914, test=0.914) total time=   1.5s\n"
     ]
    },
    {
     "name": "stderr",
     "output_type": "stream",
     "text": [
      "C:\\Python310\\lib\\site-packages\\xgboost\\sklearn.py:1395: UserWarning:\n",
      "\n",
      "`use_label_encoder` is deprecated in 1.7.0.\n",
      "\n"
     ]
    },
    {
     "name": "stdout",
     "output_type": "stream",
     "text": [
      "[CV 2/5] END learning_rate=0.02, max_depth=2, n_estimators=2000;, score=(train=0.939, test=0.939) total time=   1.5s\n"
     ]
    },
    {
     "name": "stderr",
     "output_type": "stream",
     "text": [
      "C:\\Python310\\lib\\site-packages\\xgboost\\sklearn.py:1395: UserWarning:\n",
      "\n",
      "`use_label_encoder` is deprecated in 1.7.0.\n",
      "\n"
     ]
    },
    {
     "name": "stdout",
     "output_type": "stream",
     "text": [
      "[CV 3/5] END learning_rate=0.02, max_depth=2, n_estimators=2000;, score=(train=0.948, test=0.948) total time=   1.5s\n"
     ]
    },
    {
     "name": "stderr",
     "output_type": "stream",
     "text": [
      "C:\\Python310\\lib\\site-packages\\xgboost\\sklearn.py:1395: UserWarning:\n",
      "\n",
      "`use_label_encoder` is deprecated in 1.7.0.\n",
      "\n"
     ]
    },
    {
     "name": "stdout",
     "output_type": "stream",
     "text": [
      "[CV 4/5] END learning_rate=0.02, max_depth=2, n_estimators=2000;, score=(train=0.931, test=0.931) total time=   1.4s\n"
     ]
    },
    {
     "name": "stderr",
     "output_type": "stream",
     "text": [
      "C:\\Python310\\lib\\site-packages\\xgboost\\sklearn.py:1395: UserWarning:\n",
      "\n",
      "`use_label_encoder` is deprecated in 1.7.0.\n",
      "\n"
     ]
    },
    {
     "name": "stdout",
     "output_type": "stream",
     "text": [
      "[CV 5/5] END learning_rate=0.02, max_depth=2, n_estimators=2000;, score=(train=0.922, test=0.922) total time=   1.4s\n"
     ]
    },
    {
     "name": "stderr",
     "output_type": "stream",
     "text": [
      "C:\\Python310\\lib\\site-packages\\xgboost\\sklearn.py:1395: UserWarning:\n",
      "\n",
      "`use_label_encoder` is deprecated in 1.7.0.\n",
      "\n"
     ]
    },
    {
     "name": "stdout",
     "output_type": "stream",
     "text": [
      "[CV 1/5] END learning_rate=0.02, max_depth=2, n_estimators=3000;, score=(train=0.906, test=0.906) total time=   2.2s\n"
     ]
    },
    {
     "name": "stderr",
     "output_type": "stream",
     "text": [
      "C:\\Python310\\lib\\site-packages\\xgboost\\sklearn.py:1395: UserWarning:\n",
      "\n",
      "`use_label_encoder` is deprecated in 1.7.0.\n",
      "\n"
     ]
    },
    {
     "name": "stdout",
     "output_type": "stream",
     "text": [
      "[CV 2/5] END learning_rate=0.02, max_depth=2, n_estimators=3000;, score=(train=0.939, test=0.939) total time=   2.2s\n"
     ]
    },
    {
     "name": "stderr",
     "output_type": "stream",
     "text": [
      "C:\\Python310\\lib\\site-packages\\xgboost\\sklearn.py:1395: UserWarning:\n",
      "\n",
      "`use_label_encoder` is deprecated in 1.7.0.\n",
      "\n"
     ]
    },
    {
     "name": "stdout",
     "output_type": "stream",
     "text": [
      "[CV 3/5] END learning_rate=0.02, max_depth=2, n_estimators=3000;, score=(train=0.922, test=0.922) total time=   2.2s\n"
     ]
    },
    {
     "name": "stderr",
     "output_type": "stream",
     "text": [
      "C:\\Python310\\lib\\site-packages\\xgboost\\sklearn.py:1395: UserWarning:\n",
      "\n",
      "`use_label_encoder` is deprecated in 1.7.0.\n",
      "\n"
     ]
    },
    {
     "name": "stdout",
     "output_type": "stream",
     "text": [
      "[CV 4/5] END learning_rate=0.02, max_depth=2, n_estimators=3000;, score=(train=0.923, test=0.923) total time=   2.2s\n"
     ]
    },
    {
     "name": "stderr",
     "output_type": "stream",
     "text": [
      "C:\\Python310\\lib\\site-packages\\xgboost\\sklearn.py:1395: UserWarning:\n",
      "\n",
      "`use_label_encoder` is deprecated in 1.7.0.\n",
      "\n"
     ]
    },
    {
     "name": "stdout",
     "output_type": "stream",
     "text": [
      "[CV 5/5] END learning_rate=0.02, max_depth=2, n_estimators=3000;, score=(train=0.922, test=0.922) total time=   2.3s\n"
     ]
    },
    {
     "name": "stderr",
     "output_type": "stream",
     "text": [
      "C:\\Python310\\lib\\site-packages\\xgboost\\sklearn.py:1395: UserWarning:\n",
      "\n",
      "`use_label_encoder` is deprecated in 1.7.0.\n",
      "\n"
     ]
    },
    {
     "name": "stdout",
     "output_type": "stream",
     "text": [
      "[CV 1/5] END learning_rate=0.02, max_depth=2, n_estimators=4000;, score=(train=0.897, test=0.897) total time=   3.2s\n"
     ]
    },
    {
     "name": "stderr",
     "output_type": "stream",
     "text": [
      "C:\\Python310\\lib\\site-packages\\xgboost\\sklearn.py:1395: UserWarning:\n",
      "\n",
      "`use_label_encoder` is deprecated in 1.7.0.\n",
      "\n"
     ]
    },
    {
     "name": "stdout",
     "output_type": "stream",
     "text": [
      "[CV 2/5] END learning_rate=0.02, max_depth=2, n_estimators=4000;, score=(train=0.947, test=0.947) total time=   3.0s\n"
     ]
    },
    {
     "name": "stderr",
     "output_type": "stream",
     "text": [
      "C:\\Python310\\lib\\site-packages\\xgboost\\sklearn.py:1395: UserWarning:\n",
      "\n",
      "`use_label_encoder` is deprecated in 1.7.0.\n",
      "\n"
     ]
    },
    {
     "name": "stdout",
     "output_type": "stream",
     "text": [
      "[CV 3/5] END learning_rate=0.02, max_depth=2, n_estimators=4000;, score=(train=0.922, test=0.922) total time=   3.1s\n"
     ]
    },
    {
     "name": "stderr",
     "output_type": "stream",
     "text": [
      "C:\\Python310\\lib\\site-packages\\xgboost\\sklearn.py:1395: UserWarning:\n",
      "\n",
      "`use_label_encoder` is deprecated in 1.7.0.\n",
      "\n"
     ]
    },
    {
     "name": "stdout",
     "output_type": "stream",
     "text": [
      "[CV 4/5] END learning_rate=0.02, max_depth=2, n_estimators=4000;, score=(train=0.914, test=0.914) total time=   3.1s\n"
     ]
    },
    {
     "name": "stderr",
     "output_type": "stream",
     "text": [
      "C:\\Python310\\lib\\site-packages\\xgboost\\sklearn.py:1395: UserWarning:\n",
      "\n",
      "`use_label_encoder` is deprecated in 1.7.0.\n",
      "\n"
     ]
    },
    {
     "name": "stdout",
     "output_type": "stream",
     "text": [
      "[CV 5/5] END learning_rate=0.02, max_depth=2, n_estimators=4000;, score=(train=0.914, test=0.914) total time=   3.1s\n"
     ]
    },
    {
     "name": "stderr",
     "output_type": "stream",
     "text": [
      "C:\\Python310\\lib\\site-packages\\xgboost\\sklearn.py:1395: UserWarning:\n",
      "\n",
      "`use_label_encoder` is deprecated in 1.7.0.\n",
      "\n"
     ]
    },
    {
     "name": "stdout",
     "output_type": "stream",
     "text": [
      "[CV 1/5] END learning_rate=0.02, max_depth=2, n_estimators=5000;, score=(train=0.906, test=0.906) total time=   4.0s\n"
     ]
    },
    {
     "name": "stderr",
     "output_type": "stream",
     "text": [
      "C:\\Python310\\lib\\site-packages\\xgboost\\sklearn.py:1395: UserWarning:\n",
      "\n",
      "`use_label_encoder` is deprecated in 1.7.0.\n",
      "\n"
     ]
    },
    {
     "name": "stdout",
     "output_type": "stream",
     "text": [
      "[CV 2/5] END learning_rate=0.02, max_depth=2, n_estimators=5000;, score=(train=0.938, test=0.938) total time=   4.0s\n"
     ]
    },
    {
     "name": "stderr",
     "output_type": "stream",
     "text": [
      "C:\\Python310\\lib\\site-packages\\xgboost\\sklearn.py:1395: UserWarning:\n",
      "\n",
      "`use_label_encoder` is deprecated in 1.7.0.\n",
      "\n"
     ]
    },
    {
     "name": "stdout",
     "output_type": "stream",
     "text": [
      "[CV 3/5] END learning_rate=0.02, max_depth=2, n_estimators=5000;, score=(train=0.912, test=0.912) total time=   4.0s\n"
     ]
    },
    {
     "name": "stderr",
     "output_type": "stream",
     "text": [
      "C:\\Python310\\lib\\site-packages\\xgboost\\sklearn.py:1395: UserWarning:\n",
      "\n",
      "`use_label_encoder` is deprecated in 1.7.0.\n",
      "\n"
     ]
    },
    {
     "name": "stdout",
     "output_type": "stream",
     "text": [
      "[CV 4/5] END learning_rate=0.02, max_depth=2, n_estimators=5000;, score=(train=0.914, test=0.914) total time=   4.0s\n"
     ]
    },
    {
     "name": "stderr",
     "output_type": "stream",
     "text": [
      "C:\\Python310\\lib\\site-packages\\xgboost\\sklearn.py:1395: UserWarning:\n",
      "\n",
      "`use_label_encoder` is deprecated in 1.7.0.\n",
      "\n"
     ]
    },
    {
     "name": "stdout",
     "output_type": "stream",
     "text": [
      "[CV 5/5] END learning_rate=0.02, max_depth=2, n_estimators=5000;, score=(train=0.914, test=0.914) total time=   4.0s\n"
     ]
    },
    {
     "name": "stderr",
     "output_type": "stream",
     "text": [
      "C:\\Python310\\lib\\site-packages\\xgboost\\sklearn.py:1395: UserWarning:\n",
      "\n",
      "`use_label_encoder` is deprecated in 1.7.0.\n",
      "\n"
     ]
    },
    {
     "name": "stdout",
     "output_type": "stream",
     "text": [
      "[CV 1/5] END learning_rate=0.02, max_depth=3, n_estimators=1000;, score=(train=0.940, test=0.940) total time=   0.9s\n"
     ]
    },
    {
     "name": "stderr",
     "output_type": "stream",
     "text": [
      "C:\\Python310\\lib\\site-packages\\xgboost\\sklearn.py:1395: UserWarning:\n",
      "\n",
      "`use_label_encoder` is deprecated in 1.7.0.\n",
      "\n"
     ]
    },
    {
     "name": "stdout",
     "output_type": "stream",
     "text": [
      "[CV 2/5] END learning_rate=0.02, max_depth=3, n_estimators=1000;, score=(train=0.938, test=0.938) total time=   0.9s\n"
     ]
    },
    {
     "name": "stderr",
     "output_type": "stream",
     "text": [
      "C:\\Python310\\lib\\site-packages\\xgboost\\sklearn.py:1395: UserWarning:\n",
      "\n",
      "`use_label_encoder` is deprecated in 1.7.0.\n",
      "\n"
     ]
    },
    {
     "name": "stdout",
     "output_type": "stream",
     "text": [
      "[CV 3/5] END learning_rate=0.02, max_depth=3, n_estimators=1000;, score=(train=0.939, test=0.939) total time=   0.9s\n"
     ]
    },
    {
     "name": "stderr",
     "output_type": "stream",
     "text": [
      "C:\\Python310\\lib\\site-packages\\xgboost\\sklearn.py:1395: UserWarning:\n",
      "\n",
      "`use_label_encoder` is deprecated in 1.7.0.\n",
      "\n"
     ]
    },
    {
     "name": "stdout",
     "output_type": "stream",
     "text": [
      "[CV 4/5] END learning_rate=0.02, max_depth=3, n_estimators=1000;, score=(train=0.920, test=0.920) total time=   0.9s\n"
     ]
    },
    {
     "name": "stderr",
     "output_type": "stream",
     "text": [
      "C:\\Python310\\lib\\site-packages\\xgboost\\sklearn.py:1395: UserWarning:\n",
      "\n",
      "`use_label_encoder` is deprecated in 1.7.0.\n",
      "\n"
     ]
    },
    {
     "name": "stdout",
     "output_type": "stream",
     "text": [
      "[CV 5/5] END learning_rate=0.02, max_depth=3, n_estimators=1000;, score=(train=0.920, test=0.920) total time=   0.9s\n"
     ]
    },
    {
     "name": "stderr",
     "output_type": "stream",
     "text": [
      "C:\\Python310\\lib\\site-packages\\xgboost\\sklearn.py:1395: UserWarning:\n",
      "\n",
      "`use_label_encoder` is deprecated in 1.7.0.\n",
      "\n"
     ]
    },
    {
     "name": "stdout",
     "output_type": "stream",
     "text": [
      "[CV 1/5] END learning_rate=0.02, max_depth=3, n_estimators=2000;, score=(train=0.931, test=0.931) total time=   1.8s\n"
     ]
    },
    {
     "name": "stderr",
     "output_type": "stream",
     "text": [
      "C:\\Python310\\lib\\site-packages\\xgboost\\sklearn.py:1395: UserWarning:\n",
      "\n",
      "`use_label_encoder` is deprecated in 1.7.0.\n",
      "\n"
     ]
    },
    {
     "name": "stdout",
     "output_type": "stream",
     "text": [
      "[CV 2/5] END learning_rate=0.02, max_depth=3, n_estimators=2000;, score=(train=0.939, test=0.939) total time=   1.8s\n"
     ]
    },
    {
     "name": "stderr",
     "output_type": "stream",
     "text": [
      "C:\\Python310\\lib\\site-packages\\xgboost\\sklearn.py:1395: UserWarning:\n",
      "\n",
      "`use_label_encoder` is deprecated in 1.7.0.\n",
      "\n"
     ]
    },
    {
     "name": "stdout",
     "output_type": "stream",
     "text": [
      "[CV 3/5] END learning_rate=0.02, max_depth=3, n_estimators=2000;, score=(train=0.939, test=0.939) total time=   1.8s\n"
     ]
    },
    {
     "name": "stderr",
     "output_type": "stream",
     "text": [
      "C:\\Python310\\lib\\site-packages\\xgboost\\sklearn.py:1395: UserWarning:\n",
      "\n",
      "`use_label_encoder` is deprecated in 1.7.0.\n",
      "\n"
     ]
    },
    {
     "name": "stdout",
     "output_type": "stream",
     "text": [
      "[CV 4/5] END learning_rate=0.02, max_depth=3, n_estimators=2000;, score=(train=0.922, test=0.922) total time=   1.8s\n"
     ]
    },
    {
     "name": "stderr",
     "output_type": "stream",
     "text": [
      "C:\\Python310\\lib\\site-packages\\xgboost\\sklearn.py:1395: UserWarning:\n",
      "\n",
      "`use_label_encoder` is deprecated in 1.7.0.\n",
      "\n"
     ]
    },
    {
     "name": "stdout",
     "output_type": "stream",
     "text": [
      "[CV 5/5] END learning_rate=0.02, max_depth=3, n_estimators=2000;, score=(train=0.904, test=0.904) total time=   1.8s\n"
     ]
    },
    {
     "name": "stderr",
     "output_type": "stream",
     "text": [
      "C:\\Python310\\lib\\site-packages\\xgboost\\sklearn.py:1395: UserWarning:\n",
      "\n",
      "`use_label_encoder` is deprecated in 1.7.0.\n",
      "\n"
     ]
    },
    {
     "name": "stdout",
     "output_type": "stream",
     "text": [
      "[CV 1/5] END learning_rate=0.02, max_depth=3, n_estimators=3000;, score=(train=0.931, test=0.931) total time=   2.7s\n"
     ]
    },
    {
     "name": "stderr",
     "output_type": "stream",
     "text": [
      "C:\\Python310\\lib\\site-packages\\xgboost\\sklearn.py:1395: UserWarning:\n",
      "\n",
      "`use_label_encoder` is deprecated in 1.7.0.\n",
      "\n"
     ]
    },
    {
     "name": "stdout",
     "output_type": "stream",
     "text": [
      "[CV 2/5] END learning_rate=0.02, max_depth=3, n_estimators=3000;, score=(train=0.939, test=0.939) total time=   2.7s\n"
     ]
    },
    {
     "name": "stderr",
     "output_type": "stream",
     "text": [
      "C:\\Python310\\lib\\site-packages\\xgboost\\sklearn.py:1395: UserWarning:\n",
      "\n",
      "`use_label_encoder` is deprecated in 1.7.0.\n",
      "\n"
     ]
    },
    {
     "name": "stdout",
     "output_type": "stream",
     "text": [
      "[CV 3/5] END learning_rate=0.02, max_depth=3, n_estimators=3000;, score=(train=0.938, test=0.938) total time=   2.7s\n"
     ]
    },
    {
     "name": "stderr",
     "output_type": "stream",
     "text": [
      "C:\\Python310\\lib\\site-packages\\xgboost\\sklearn.py:1395: UserWarning:\n",
      "\n",
      "`use_label_encoder` is deprecated in 1.7.0.\n",
      "\n"
     ]
    },
    {
     "name": "stdout",
     "output_type": "stream",
     "text": [
      "[CV 4/5] END learning_rate=0.02, max_depth=3, n_estimators=3000;, score=(train=0.922, test=0.922) total time=   2.7s\n"
     ]
    },
    {
     "name": "stderr",
     "output_type": "stream",
     "text": [
      "C:\\Python310\\lib\\site-packages\\xgboost\\sklearn.py:1395: UserWarning:\n",
      "\n",
      "`use_label_encoder` is deprecated in 1.7.0.\n",
      "\n"
     ]
    },
    {
     "name": "stdout",
     "output_type": "stream",
     "text": [
      "[CV 5/5] END learning_rate=0.02, max_depth=3, n_estimators=3000;, score=(train=0.904, test=0.904) total time=   2.8s\n"
     ]
    },
    {
     "name": "stderr",
     "output_type": "stream",
     "text": [
      "C:\\Python310\\lib\\site-packages\\xgboost\\sklearn.py:1395: UserWarning:\n",
      "\n",
      "`use_label_encoder` is deprecated in 1.7.0.\n",
      "\n"
     ]
    },
    {
     "name": "stdout",
     "output_type": "stream",
     "text": [
      "[CV 1/5] END learning_rate=0.02, max_depth=3, n_estimators=4000;, score=(train=0.931, test=0.931) total time=   3.7s\n"
     ]
    },
    {
     "name": "stderr",
     "output_type": "stream",
     "text": [
      "C:\\Python310\\lib\\site-packages\\xgboost\\sklearn.py:1395: UserWarning:\n",
      "\n",
      "`use_label_encoder` is deprecated in 1.7.0.\n",
      "\n"
     ]
    },
    {
     "name": "stdout",
     "output_type": "stream",
     "text": [
      "[CV 2/5] END learning_rate=0.02, max_depth=3, n_estimators=4000;, score=(train=0.930, test=0.930) total time=   4.0s\n"
     ]
    },
    {
     "name": "stderr",
     "output_type": "stream",
     "text": [
      "C:\\Python310\\lib\\site-packages\\xgboost\\sklearn.py:1395: UserWarning:\n",
      "\n",
      "`use_label_encoder` is deprecated in 1.7.0.\n",
      "\n"
     ]
    },
    {
     "name": "stdout",
     "output_type": "stream",
     "text": [
      "[CV 3/5] END learning_rate=0.02, max_depth=3, n_estimators=4000;, score=(train=0.930, test=0.930) total time=   3.9s\n"
     ]
    },
    {
     "name": "stderr",
     "output_type": "stream",
     "text": [
      "C:\\Python310\\lib\\site-packages\\xgboost\\sklearn.py:1395: UserWarning:\n",
      "\n",
      "`use_label_encoder` is deprecated in 1.7.0.\n",
      "\n"
     ]
    },
    {
     "name": "stdout",
     "output_type": "stream",
     "text": [
      "[CV 4/5] END learning_rate=0.02, max_depth=3, n_estimators=4000;, score=(train=0.922, test=0.922) total time=   3.9s\n"
     ]
    },
    {
     "name": "stderr",
     "output_type": "stream",
     "text": [
      "C:\\Python310\\lib\\site-packages\\xgboost\\sklearn.py:1395: UserWarning:\n",
      "\n",
      "`use_label_encoder` is deprecated in 1.7.0.\n",
      "\n"
     ]
    },
    {
     "name": "stdout",
     "output_type": "stream",
     "text": [
      "[CV 5/5] END learning_rate=0.02, max_depth=3, n_estimators=4000;, score=(train=0.904, test=0.904) total time=   3.8s\n"
     ]
    },
    {
     "name": "stderr",
     "output_type": "stream",
     "text": [
      "C:\\Python310\\lib\\site-packages\\xgboost\\sklearn.py:1395: UserWarning:\n",
      "\n",
      "`use_label_encoder` is deprecated in 1.7.0.\n",
      "\n"
     ]
    },
    {
     "name": "stdout",
     "output_type": "stream",
     "text": [
      "[CV 1/5] END learning_rate=0.02, max_depth=3, n_estimators=5000;, score=(train=0.914, test=0.914) total time=   4.7s\n"
     ]
    },
    {
     "name": "stderr",
     "output_type": "stream",
     "text": [
      "C:\\Python310\\lib\\site-packages\\xgboost\\sklearn.py:1395: UserWarning:\n",
      "\n",
      "`use_label_encoder` is deprecated in 1.7.0.\n",
      "\n"
     ]
    },
    {
     "name": "stdout",
     "output_type": "stream",
     "text": [
      "[CV 2/5] END learning_rate=0.02, max_depth=3, n_estimators=5000;, score=(train=0.920, test=0.920) total time=   4.5s\n"
     ]
    },
    {
     "name": "stderr",
     "output_type": "stream",
     "text": [
      "C:\\Python310\\lib\\site-packages\\xgboost\\sklearn.py:1395: UserWarning:\n",
      "\n",
      "`use_label_encoder` is deprecated in 1.7.0.\n",
      "\n"
     ]
    },
    {
     "name": "stdout",
     "output_type": "stream",
     "text": [
      "[CV 3/5] END learning_rate=0.02, max_depth=3, n_estimators=5000;, score=(train=0.930, test=0.930) total time=   4.5s\n"
     ]
    },
    {
     "name": "stderr",
     "output_type": "stream",
     "text": [
      "C:\\Python310\\lib\\site-packages\\xgboost\\sklearn.py:1395: UserWarning:\n",
      "\n",
      "`use_label_encoder` is deprecated in 1.7.0.\n",
      "\n"
     ]
    },
    {
     "name": "stdout",
     "output_type": "stream",
     "text": [
      "[CV 4/5] END learning_rate=0.02, max_depth=3, n_estimators=5000;, score=(train=0.922, test=0.922) total time=   4.5s\n"
     ]
    },
    {
     "name": "stderr",
     "output_type": "stream",
     "text": [
      "C:\\Python310\\lib\\site-packages\\xgboost\\sklearn.py:1395: UserWarning:\n",
      "\n",
      "`use_label_encoder` is deprecated in 1.7.0.\n",
      "\n"
     ]
    },
    {
     "name": "stdout",
     "output_type": "stream",
     "text": [
      "[CV 5/5] END learning_rate=0.02, max_depth=3, n_estimators=5000;, score=(train=0.904, test=0.904) total time=   4.4s\n"
     ]
    },
    {
     "name": "stderr",
     "output_type": "stream",
     "text": [
      "C:\\Python310\\lib\\site-packages\\xgboost\\sklearn.py:1395: UserWarning:\n",
      "\n",
      "`use_label_encoder` is deprecated in 1.7.0.\n",
      "\n"
     ]
    },
    {
     "name": "stdout",
     "output_type": "stream",
     "text": [
      "[CV 1/5] END learning_rate=0.02, max_depth=5, n_estimators=1000;, score=(train=0.940, test=0.940) total time=   1.1s\n"
     ]
    },
    {
     "name": "stderr",
     "output_type": "stream",
     "text": [
      "C:\\Python310\\lib\\site-packages\\xgboost\\sklearn.py:1395: UserWarning:\n",
      "\n",
      "`use_label_encoder` is deprecated in 1.7.0.\n",
      "\n"
     ]
    },
    {
     "name": "stdout",
     "output_type": "stream",
     "text": [
      "[CV 2/5] END learning_rate=0.02, max_depth=5, n_estimators=1000;, score=(train=0.929, test=0.929) total time=   1.1s\n"
     ]
    },
    {
     "name": "stderr",
     "output_type": "stream",
     "text": [
      "C:\\Python310\\lib\\site-packages\\xgboost\\sklearn.py:1395: UserWarning:\n",
      "\n",
      "`use_label_encoder` is deprecated in 1.7.0.\n",
      "\n"
     ]
    },
    {
     "name": "stdout",
     "output_type": "stream",
     "text": [
      "[CV 3/5] END learning_rate=0.02, max_depth=5, n_estimators=1000;, score=(train=0.939, test=0.939) total time=   1.1s\n"
     ]
    },
    {
     "name": "stderr",
     "output_type": "stream",
     "text": [
      "C:\\Python310\\lib\\site-packages\\xgboost\\sklearn.py:1395: UserWarning:\n",
      "\n",
      "`use_label_encoder` is deprecated in 1.7.0.\n",
      "\n"
     ]
    },
    {
     "name": "stdout",
     "output_type": "stream",
     "text": [
      "[CV 4/5] END learning_rate=0.02, max_depth=5, n_estimators=1000;, score=(train=0.930, test=0.930) total time=   1.1s\n"
     ]
    },
    {
     "name": "stderr",
     "output_type": "stream",
     "text": [
      "C:\\Python310\\lib\\site-packages\\xgboost\\sklearn.py:1395: UserWarning:\n",
      "\n",
      "`use_label_encoder` is deprecated in 1.7.0.\n",
      "\n"
     ]
    },
    {
     "name": "stdout",
     "output_type": "stream",
     "text": [
      "[CV 5/5] END learning_rate=0.02, max_depth=5, n_estimators=1000;, score=(train=0.912, test=0.912) total time=   1.1s\n"
     ]
    },
    {
     "name": "stderr",
     "output_type": "stream",
     "text": [
      "C:\\Python310\\lib\\site-packages\\xgboost\\sklearn.py:1395: UserWarning:\n",
      "\n",
      "`use_label_encoder` is deprecated in 1.7.0.\n",
      "\n"
     ]
    },
    {
     "name": "stdout",
     "output_type": "stream",
     "text": [
      "[CV 1/5] END learning_rate=0.02, max_depth=5, n_estimators=2000;, score=(train=0.931, test=0.931) total time=   2.1s\n"
     ]
    },
    {
     "name": "stderr",
     "output_type": "stream",
     "text": [
      "C:\\Python310\\lib\\site-packages\\xgboost\\sklearn.py:1395: UserWarning:\n",
      "\n",
      "`use_label_encoder` is deprecated in 1.7.0.\n",
      "\n"
     ]
    },
    {
     "name": "stdout",
     "output_type": "stream",
     "text": [
      "[CV 2/5] END learning_rate=0.02, max_depth=5, n_estimators=2000;, score=(train=0.927, test=0.927) total time=   2.1s\n"
     ]
    },
    {
     "name": "stderr",
     "output_type": "stream",
     "text": [
      "C:\\Python310\\lib\\site-packages\\xgboost\\sklearn.py:1395: UserWarning:\n",
      "\n",
      "`use_label_encoder` is deprecated in 1.7.0.\n",
      "\n"
     ]
    },
    {
     "name": "stdout",
     "output_type": "stream",
     "text": [
      "[CV 3/5] END learning_rate=0.02, max_depth=5, n_estimators=2000;, score=(train=0.930, test=0.930) total time=   2.2s\n"
     ]
    },
    {
     "name": "stderr",
     "output_type": "stream",
     "text": [
      "C:\\Python310\\lib\\site-packages\\xgboost\\sklearn.py:1395: UserWarning:\n",
      "\n",
      "`use_label_encoder` is deprecated in 1.7.0.\n",
      "\n"
     ]
    },
    {
     "name": "stdout",
     "output_type": "stream",
     "text": [
      "[CV 4/5] END learning_rate=0.02, max_depth=5, n_estimators=2000;, score=(train=0.922, test=0.922) total time=   2.2s\n"
     ]
    },
    {
     "name": "stderr",
     "output_type": "stream",
     "text": [
      "C:\\Python310\\lib\\site-packages\\xgboost\\sklearn.py:1395: UserWarning:\n",
      "\n",
      "`use_label_encoder` is deprecated in 1.7.0.\n",
      "\n"
     ]
    },
    {
     "name": "stdout",
     "output_type": "stream",
     "text": [
      "[CV 5/5] END learning_rate=0.02, max_depth=5, n_estimators=2000;, score=(train=0.904, test=0.904) total time=   2.2s\n"
     ]
    },
    {
     "name": "stderr",
     "output_type": "stream",
     "text": [
      "C:\\Python310\\lib\\site-packages\\xgboost\\sklearn.py:1395: UserWarning:\n",
      "\n",
      "`use_label_encoder` is deprecated in 1.7.0.\n",
      "\n"
     ]
    },
    {
     "name": "stdout",
     "output_type": "stream",
     "text": [
      "[CV 1/5] END learning_rate=0.02, max_depth=5, n_estimators=3000;, score=(train=0.931, test=0.931) total time=   3.2s\n"
     ]
    },
    {
     "name": "stderr",
     "output_type": "stream",
     "text": [
      "C:\\Python310\\lib\\site-packages\\xgboost\\sklearn.py:1395: UserWarning:\n",
      "\n",
      "`use_label_encoder` is deprecated in 1.7.0.\n",
      "\n"
     ]
    },
    {
     "name": "stdout",
     "output_type": "stream",
     "text": [
      "[CV 2/5] END learning_rate=0.02, max_depth=5, n_estimators=3000;, score=(train=0.919, test=0.919) total time=   3.1s\n"
     ]
    },
    {
     "name": "stderr",
     "output_type": "stream",
     "text": [
      "C:\\Python310\\lib\\site-packages\\xgboost\\sklearn.py:1395: UserWarning:\n",
      "\n",
      "`use_label_encoder` is deprecated in 1.7.0.\n",
      "\n"
     ]
    },
    {
     "name": "stdout",
     "output_type": "stream",
     "text": [
      "[CV 3/5] END learning_rate=0.02, max_depth=5, n_estimators=3000;, score=(train=0.920, test=0.920) total time=   3.1s\n"
     ]
    },
    {
     "name": "stderr",
     "output_type": "stream",
     "text": [
      "C:\\Python310\\lib\\site-packages\\xgboost\\sklearn.py:1395: UserWarning:\n",
      "\n",
      "`use_label_encoder` is deprecated in 1.7.0.\n",
      "\n"
     ]
    },
    {
     "name": "stdout",
     "output_type": "stream",
     "text": [
      "[CV 4/5] END learning_rate=0.02, max_depth=5, n_estimators=3000;, score=(train=0.922, test=0.922) total time=   3.1s\n"
     ]
    },
    {
     "name": "stderr",
     "output_type": "stream",
     "text": [
      "C:\\Python310\\lib\\site-packages\\xgboost\\sklearn.py:1395: UserWarning:\n",
      "\n",
      "`use_label_encoder` is deprecated in 1.7.0.\n",
      "\n"
     ]
    },
    {
     "name": "stdout",
     "output_type": "stream",
     "text": [
      "[CV 5/5] END learning_rate=0.02, max_depth=5, n_estimators=3000;, score=(train=0.904, test=0.904) total time=   3.1s\n"
     ]
    },
    {
     "name": "stderr",
     "output_type": "stream",
     "text": [
      "C:\\Python310\\lib\\site-packages\\xgboost\\sklearn.py:1395: UserWarning:\n",
      "\n",
      "`use_label_encoder` is deprecated in 1.7.0.\n",
      "\n"
     ]
    },
    {
     "name": "stdout",
     "output_type": "stream",
     "text": [
      "[CV 1/5] END learning_rate=0.02, max_depth=5, n_estimators=4000;, score=(train=0.923, test=0.923) total time=   4.0s\n"
     ]
    },
    {
     "name": "stderr",
     "output_type": "stream",
     "text": [
      "C:\\Python310\\lib\\site-packages\\xgboost\\sklearn.py:1395: UserWarning:\n",
      "\n",
      "`use_label_encoder` is deprecated in 1.7.0.\n",
      "\n"
     ]
    },
    {
     "name": "stdout",
     "output_type": "stream",
     "text": [
      "[CV 2/5] END learning_rate=0.02, max_depth=5, n_estimators=4000;, score=(train=0.919, test=0.919) total time=   4.0s\n"
     ]
    },
    {
     "name": "stderr",
     "output_type": "stream",
     "text": [
      "C:\\Python310\\lib\\site-packages\\xgboost\\sklearn.py:1395: UserWarning:\n",
      "\n",
      "`use_label_encoder` is deprecated in 1.7.0.\n",
      "\n"
     ]
    },
    {
     "name": "stdout",
     "output_type": "stream",
     "text": [
      "[CV 3/5] END learning_rate=0.02, max_depth=5, n_estimators=4000;, score=(train=0.920, test=0.920) total time=   4.1s\n"
     ]
    },
    {
     "name": "stderr",
     "output_type": "stream",
     "text": [
      "C:\\Python310\\lib\\site-packages\\xgboost\\sklearn.py:1395: UserWarning:\n",
      "\n",
      "`use_label_encoder` is deprecated in 1.7.0.\n",
      "\n"
     ]
    },
    {
     "name": "stdout",
     "output_type": "stream",
     "text": [
      "[CV 4/5] END learning_rate=0.02, max_depth=5, n_estimators=4000;, score=(train=0.922, test=0.922) total time=   4.2s\n"
     ]
    },
    {
     "name": "stderr",
     "output_type": "stream",
     "text": [
      "C:\\Python310\\lib\\site-packages\\xgboost\\sklearn.py:1395: UserWarning:\n",
      "\n",
      "`use_label_encoder` is deprecated in 1.7.0.\n",
      "\n"
     ]
    },
    {
     "name": "stdout",
     "output_type": "stream",
     "text": [
      "[CV 5/5] END learning_rate=0.02, max_depth=5, n_estimators=4000;, score=(train=0.904, test=0.904) total time=   4.0s\n"
     ]
    },
    {
     "name": "stderr",
     "output_type": "stream",
     "text": [
      "C:\\Python310\\lib\\site-packages\\xgboost\\sklearn.py:1395: UserWarning:\n",
      "\n",
      "`use_label_encoder` is deprecated in 1.7.0.\n",
      "\n"
     ]
    },
    {
     "name": "stdout",
     "output_type": "stream",
     "text": [
      "[CV 1/5] END learning_rate=0.02, max_depth=5, n_estimators=5000;, score=(train=0.914, test=0.914) total time=   5.0s\n"
     ]
    },
    {
     "name": "stderr",
     "output_type": "stream",
     "text": [
      "C:\\Python310\\lib\\site-packages\\xgboost\\sklearn.py:1395: UserWarning:\n",
      "\n",
      "`use_label_encoder` is deprecated in 1.7.0.\n",
      "\n"
     ]
    },
    {
     "name": "stdout",
     "output_type": "stream",
     "text": [
      "[CV 2/5] END learning_rate=0.02, max_depth=5, n_estimators=5000;, score=(train=0.909, test=0.909) total time=   4.9s\n"
     ]
    },
    {
     "name": "stderr",
     "output_type": "stream",
     "text": [
      "C:\\Python310\\lib\\site-packages\\xgboost\\sklearn.py:1395: UserWarning:\n",
      "\n",
      "`use_label_encoder` is deprecated in 1.7.0.\n",
      "\n"
     ]
    },
    {
     "name": "stdout",
     "output_type": "stream",
     "text": [
      "[CV 3/5] END learning_rate=0.02, max_depth=5, n_estimators=5000;, score=(train=0.920, test=0.920) total time=   4.9s\n"
     ]
    },
    {
     "name": "stderr",
     "output_type": "stream",
     "text": [
      "C:\\Python310\\lib\\site-packages\\xgboost\\sklearn.py:1395: UserWarning:\n",
      "\n",
      "`use_label_encoder` is deprecated in 1.7.0.\n",
      "\n"
     ]
    },
    {
     "name": "stdout",
     "output_type": "stream",
     "text": [
      "[CV 4/5] END learning_rate=0.02, max_depth=5, n_estimators=5000;, score=(train=0.914, test=0.914) total time=   5.1s\n"
     ]
    },
    {
     "name": "stderr",
     "output_type": "stream",
     "text": [
      "C:\\Python310\\lib\\site-packages\\xgboost\\sklearn.py:1395: UserWarning:\n",
      "\n",
      "`use_label_encoder` is deprecated in 1.7.0.\n",
      "\n"
     ]
    },
    {
     "name": "stdout",
     "output_type": "stream",
     "text": [
      "[CV 5/5] END learning_rate=0.02, max_depth=5, n_estimators=5000;, score=(train=0.904, test=0.904) total time=   4.9s\n"
     ]
    },
    {
     "name": "stderr",
     "output_type": "stream",
     "text": [
      "C:\\Python310\\lib\\site-packages\\xgboost\\sklearn.py:1395: UserWarning:\n",
      "\n",
      "`use_label_encoder` is deprecated in 1.7.0.\n",
      "\n"
     ]
    },
    {
     "name": "stdout",
     "output_type": "stream",
     "text": [
      "[CV 1/5] END learning_rate=0.02, max_depth=7, n_estimators=1000;, score=(train=0.931, test=0.931) total time=   1.2s\n"
     ]
    },
    {
     "name": "stderr",
     "output_type": "stream",
     "text": [
      "C:\\Python310\\lib\\site-packages\\xgboost\\sklearn.py:1395: UserWarning:\n",
      "\n",
      "`use_label_encoder` is deprecated in 1.7.0.\n",
      "\n"
     ]
    },
    {
     "name": "stdout",
     "output_type": "stream",
     "text": [
      "[CV 2/5] END learning_rate=0.02, max_depth=7, n_estimators=1000;, score=(train=0.919, test=0.919) total time=   1.2s\n"
     ]
    },
    {
     "name": "stderr",
     "output_type": "stream",
     "text": [
      "C:\\Python310\\lib\\site-packages\\xgboost\\sklearn.py:1395: UserWarning:\n",
      "\n",
      "`use_label_encoder` is deprecated in 1.7.0.\n",
      "\n"
     ]
    },
    {
     "name": "stdout",
     "output_type": "stream",
     "text": [
      "[CV 3/5] END learning_rate=0.02, max_depth=7, n_estimators=1000;, score=(train=0.930, test=0.930) total time=   1.2s\n"
     ]
    },
    {
     "name": "stderr",
     "output_type": "stream",
     "text": [
      "C:\\Python310\\lib\\site-packages\\xgboost\\sklearn.py:1395: UserWarning:\n",
      "\n",
      "`use_label_encoder` is deprecated in 1.7.0.\n",
      "\n"
     ]
    },
    {
     "name": "stdout",
     "output_type": "stream",
     "text": [
      "[CV 4/5] END learning_rate=0.02, max_depth=7, n_estimators=1000;, score=(train=0.922, test=0.922) total time=   1.2s\n"
     ]
    },
    {
     "name": "stderr",
     "output_type": "stream",
     "text": [
      "C:\\Python310\\lib\\site-packages\\xgboost\\sklearn.py:1395: UserWarning:\n",
      "\n",
      "`use_label_encoder` is deprecated in 1.7.0.\n",
      "\n"
     ]
    },
    {
     "name": "stdout",
     "output_type": "stream",
     "text": [
      "[CV 5/5] END learning_rate=0.02, max_depth=7, n_estimators=1000;, score=(train=0.903, test=0.903) total time=   1.2s\n"
     ]
    },
    {
     "name": "stderr",
     "output_type": "stream",
     "text": [
      "C:\\Python310\\lib\\site-packages\\xgboost\\sklearn.py:1395: UserWarning:\n",
      "\n",
      "`use_label_encoder` is deprecated in 1.7.0.\n",
      "\n"
     ]
    },
    {
     "name": "stdout",
     "output_type": "stream",
     "text": [
      "[CV 1/5] END learning_rate=0.02, max_depth=7, n_estimators=2000;, score=(train=0.931, test=0.931) total time=   2.3s\n"
     ]
    },
    {
     "name": "stderr",
     "output_type": "stream",
     "text": [
      "C:\\Python310\\lib\\site-packages\\xgboost\\sklearn.py:1395: UserWarning:\n",
      "\n",
      "`use_label_encoder` is deprecated in 1.7.0.\n",
      "\n"
     ]
    },
    {
     "name": "stdout",
     "output_type": "stream",
     "text": [
      "[CV 2/5] END learning_rate=0.02, max_depth=7, n_estimators=2000;, score=(train=0.927, test=0.927) total time=   2.3s\n"
     ]
    },
    {
     "name": "stderr",
     "output_type": "stream",
     "text": [
      "C:\\Python310\\lib\\site-packages\\xgboost\\sklearn.py:1395: UserWarning:\n",
      "\n",
      "`use_label_encoder` is deprecated in 1.7.0.\n",
      "\n"
     ]
    },
    {
     "name": "stdout",
     "output_type": "stream",
     "text": [
      "[CV 3/5] END learning_rate=0.02, max_depth=7, n_estimators=2000;, score=(train=0.930, test=0.930) total time=   2.3s\n"
     ]
    },
    {
     "name": "stderr",
     "output_type": "stream",
     "text": [
      "C:\\Python310\\lib\\site-packages\\xgboost\\sklearn.py:1395: UserWarning:\n",
      "\n",
      "`use_label_encoder` is deprecated in 1.7.0.\n",
      "\n"
     ]
    },
    {
     "name": "stdout",
     "output_type": "stream",
     "text": [
      "[CV 4/5] END learning_rate=0.02, max_depth=7, n_estimators=2000;, score=(train=0.914, test=0.914) total time=   2.4s\n"
     ]
    },
    {
     "name": "stderr",
     "output_type": "stream",
     "text": [
      "C:\\Python310\\lib\\site-packages\\xgboost\\sklearn.py:1395: UserWarning:\n",
      "\n",
      "`use_label_encoder` is deprecated in 1.7.0.\n",
      "\n"
     ]
    },
    {
     "name": "stdout",
     "output_type": "stream",
     "text": [
      "[CV 5/5] END learning_rate=0.02, max_depth=7, n_estimators=2000;, score=(train=0.895, test=0.895) total time=   2.3s\n"
     ]
    },
    {
     "name": "stderr",
     "output_type": "stream",
     "text": [
      "C:\\Python310\\lib\\site-packages\\xgboost\\sklearn.py:1395: UserWarning:\n",
      "\n",
      "`use_label_encoder` is deprecated in 1.7.0.\n",
      "\n"
     ]
    },
    {
     "name": "stdout",
     "output_type": "stream",
     "text": [
      "[CV 1/5] END learning_rate=0.02, max_depth=7, n_estimators=3000;, score=(train=0.923, test=0.923) total time=   3.3s\n"
     ]
    },
    {
     "name": "stderr",
     "output_type": "stream",
     "text": [
      "C:\\Python310\\lib\\site-packages\\xgboost\\sklearn.py:1395: UserWarning:\n",
      "\n",
      "`use_label_encoder` is deprecated in 1.7.0.\n",
      "\n"
     ]
    },
    {
     "name": "stdout",
     "output_type": "stream",
     "text": [
      "[CV 2/5] END learning_rate=0.02, max_depth=7, n_estimators=3000;, score=(train=0.919, test=0.919) total time=   3.2s\n"
     ]
    },
    {
     "name": "stderr",
     "output_type": "stream",
     "text": [
      "C:\\Python310\\lib\\site-packages\\xgboost\\sklearn.py:1395: UserWarning:\n",
      "\n",
      "`use_label_encoder` is deprecated in 1.7.0.\n",
      "\n"
     ]
    },
    {
     "name": "stdout",
     "output_type": "stream",
     "text": [
      "[CV 3/5] END learning_rate=0.02, max_depth=7, n_estimators=3000;, score=(train=0.930, test=0.930) total time=   3.2s\n"
     ]
    },
    {
     "name": "stderr",
     "output_type": "stream",
     "text": [
      "C:\\Python310\\lib\\site-packages\\xgboost\\sklearn.py:1395: UserWarning:\n",
      "\n",
      "`use_label_encoder` is deprecated in 1.7.0.\n",
      "\n"
     ]
    },
    {
     "name": "stdout",
     "output_type": "stream",
     "text": [
      "[CV 4/5] END learning_rate=0.02, max_depth=7, n_estimators=3000;, score=(train=0.914, test=0.914) total time=   3.3s\n"
     ]
    },
    {
     "name": "stderr",
     "output_type": "stream",
     "text": [
      "C:\\Python310\\lib\\site-packages\\xgboost\\sklearn.py:1395: UserWarning:\n",
      "\n",
      "`use_label_encoder` is deprecated in 1.7.0.\n",
      "\n"
     ]
    },
    {
     "name": "stdout",
     "output_type": "stream",
     "text": [
      "[CV 5/5] END learning_rate=0.02, max_depth=7, n_estimators=3000;, score=(train=0.904, test=0.904) total time=   3.2s\n"
     ]
    },
    {
     "name": "stderr",
     "output_type": "stream",
     "text": [
      "C:\\Python310\\lib\\site-packages\\xgboost\\sklearn.py:1395: UserWarning:\n",
      "\n",
      "`use_label_encoder` is deprecated in 1.7.0.\n",
      "\n"
     ]
    },
    {
     "name": "stdout",
     "output_type": "stream",
     "text": [
      "[CV 1/5] END learning_rate=0.02, max_depth=7, n_estimators=4000;, score=(train=0.914, test=0.914) total time=   4.2s\n"
     ]
    },
    {
     "name": "stderr",
     "output_type": "stream",
     "text": [
      "C:\\Python310\\lib\\site-packages\\xgboost\\sklearn.py:1395: UserWarning:\n",
      "\n",
      "`use_label_encoder` is deprecated in 1.7.0.\n",
      "\n"
     ]
    },
    {
     "name": "stdout",
     "output_type": "stream",
     "text": [
      "[CV 2/5] END learning_rate=0.02, max_depth=7, n_estimators=4000;, score=(train=0.909, test=0.909) total time=   4.1s\n"
     ]
    },
    {
     "name": "stderr",
     "output_type": "stream",
     "text": [
      "C:\\Python310\\lib\\site-packages\\xgboost\\sklearn.py:1395: UserWarning:\n",
      "\n",
      "`use_label_encoder` is deprecated in 1.7.0.\n",
      "\n"
     ]
    },
    {
     "name": "stdout",
     "output_type": "stream",
     "text": [
      "[CV 3/5] END learning_rate=0.02, max_depth=7, n_estimators=4000;, score=(train=0.920, test=0.920) total time=   4.1s\n"
     ]
    },
    {
     "name": "stderr",
     "output_type": "stream",
     "text": [
      "C:\\Python310\\lib\\site-packages\\xgboost\\sklearn.py:1395: UserWarning:\n",
      "\n",
      "`use_label_encoder` is deprecated in 1.7.0.\n",
      "\n"
     ]
    },
    {
     "name": "stdout",
     "output_type": "stream",
     "text": [
      "[CV 4/5] END learning_rate=0.02, max_depth=7, n_estimators=4000;, score=(train=0.914, test=0.914) total time=   4.2s\n"
     ]
    },
    {
     "name": "stderr",
     "output_type": "stream",
     "text": [
      "C:\\Python310\\lib\\site-packages\\xgboost\\sklearn.py:1395: UserWarning:\n",
      "\n",
      "`use_label_encoder` is deprecated in 1.7.0.\n",
      "\n"
     ]
    },
    {
     "name": "stdout",
     "output_type": "stream",
     "text": [
      "[CV 5/5] END learning_rate=0.02, max_depth=7, n_estimators=4000;, score=(train=0.885, test=0.885) total time=   4.1s\n"
     ]
    },
    {
     "name": "stderr",
     "output_type": "stream",
     "text": [
      "C:\\Python310\\lib\\site-packages\\xgboost\\sklearn.py:1395: UserWarning:\n",
      "\n",
      "`use_label_encoder` is deprecated in 1.7.0.\n",
      "\n"
     ]
    },
    {
     "name": "stdout",
     "output_type": "stream",
     "text": [
      "[CV 1/5] END learning_rate=0.02, max_depth=7, n_estimators=5000;, score=(train=0.904, test=0.904) total time=   5.1s\n"
     ]
    },
    {
     "name": "stderr",
     "output_type": "stream",
     "text": [
      "C:\\Python310\\lib\\site-packages\\xgboost\\sklearn.py:1395: UserWarning:\n",
      "\n",
      "`use_label_encoder` is deprecated in 1.7.0.\n",
      "\n"
     ]
    },
    {
     "name": "stdout",
     "output_type": "stream",
     "text": [
      "[CV 2/5] END learning_rate=0.02, max_depth=7, n_estimators=5000;, score=(train=0.899, test=0.899) total time=   5.1s\n"
     ]
    },
    {
     "name": "stderr",
     "output_type": "stream",
     "text": [
      "C:\\Python310\\lib\\site-packages\\xgboost\\sklearn.py:1395: UserWarning:\n",
      "\n",
      "`use_label_encoder` is deprecated in 1.7.0.\n",
      "\n"
     ]
    },
    {
     "name": "stdout",
     "output_type": "stream",
     "text": [
      "[CV 3/5] END learning_rate=0.02, max_depth=7, n_estimators=5000;, score=(train=0.911, test=0.911) total time=   5.0s\n"
     ]
    },
    {
     "name": "stderr",
     "output_type": "stream",
     "text": [
      "C:\\Python310\\lib\\site-packages\\xgboost\\sklearn.py:1395: UserWarning:\n",
      "\n",
      "`use_label_encoder` is deprecated in 1.7.0.\n",
      "\n"
     ]
    },
    {
     "name": "stdout",
     "output_type": "stream",
     "text": [
      "[CV 4/5] END learning_rate=0.02, max_depth=7, n_estimators=5000;, score=(train=0.914, test=0.914) total time=   5.1s\n"
     ]
    },
    {
     "name": "stderr",
     "output_type": "stream",
     "text": [
      "C:\\Python310\\lib\\site-packages\\xgboost\\sklearn.py:1395: UserWarning:\n",
      "\n",
      "`use_label_encoder` is deprecated in 1.7.0.\n",
      "\n"
     ]
    },
    {
     "name": "stdout",
     "output_type": "stream",
     "text": [
      "[CV 5/5] END learning_rate=0.02, max_depth=7, n_estimators=5000;, score=(train=0.885, test=0.885) total time=   5.0s\n"
     ]
    },
    {
     "name": "stderr",
     "output_type": "stream",
     "text": [
      "C:\\Python310\\lib\\site-packages\\xgboost\\sklearn.py:1395: UserWarning:\n",
      "\n",
      "`use_label_encoder` is deprecated in 1.7.0.\n",
      "\n"
     ]
    },
    {
     "name": "stdout",
     "output_type": "stream",
     "text": [
      "[CV 1/5] END learning_rate=0.05, max_depth=2, n_estimators=1000;, score=(train=0.904, test=0.904) total time=   0.8s\n"
     ]
    },
    {
     "name": "stderr",
     "output_type": "stream",
     "text": [
      "C:\\Python310\\lib\\site-packages\\xgboost\\sklearn.py:1395: UserWarning:\n",
      "\n",
      "`use_label_encoder` is deprecated in 1.7.0.\n",
      "\n"
     ]
    },
    {
     "name": "stdout",
     "output_type": "stream",
     "text": [
      "[CV 2/5] END learning_rate=0.05, max_depth=2, n_estimators=1000;, score=(train=0.938, test=0.938) total time=   0.8s\n"
     ]
    },
    {
     "name": "stderr",
     "output_type": "stream",
     "text": [
      "C:\\Python310\\lib\\site-packages\\xgboost\\sklearn.py:1395: UserWarning:\n",
      "\n",
      "`use_label_encoder` is deprecated in 1.7.0.\n",
      "\n"
     ]
    },
    {
     "name": "stdout",
     "output_type": "stream",
     "text": [
      "[CV 3/5] END learning_rate=0.05, max_depth=2, n_estimators=1000;, score=(train=0.929, test=0.929) total time=   0.8s\n"
     ]
    },
    {
     "name": "stderr",
     "output_type": "stream",
     "text": [
      "C:\\Python310\\lib\\site-packages\\xgboost\\sklearn.py:1395: UserWarning:\n",
      "\n",
      "`use_label_encoder` is deprecated in 1.7.0.\n",
      "\n"
     ]
    },
    {
     "name": "stdout",
     "output_type": "stream",
     "text": [
      "[CV 4/5] END learning_rate=0.05, max_depth=2, n_estimators=1000;, score=(train=0.922, test=0.922) total time=   0.8s\n"
     ]
    },
    {
     "name": "stderr",
     "output_type": "stream",
     "text": [
      "C:\\Python310\\lib\\site-packages\\xgboost\\sklearn.py:1395: UserWarning:\n",
      "\n",
      "`use_label_encoder` is deprecated in 1.7.0.\n",
      "\n"
     ]
    },
    {
     "name": "stdout",
     "output_type": "stream",
     "text": [
      "[CV 5/5] END learning_rate=0.05, max_depth=2, n_estimators=1000;, score=(train=0.930, test=0.930) total time=   0.8s\n"
     ]
    },
    {
     "name": "stderr",
     "output_type": "stream",
     "text": [
      "C:\\Python310\\lib\\site-packages\\xgboost\\sklearn.py:1395: UserWarning:\n",
      "\n",
      "`use_label_encoder` is deprecated in 1.7.0.\n",
      "\n"
     ]
    },
    {
     "name": "stdout",
     "output_type": "stream",
     "text": [
      "[CV 1/5] END learning_rate=0.05, max_depth=2, n_estimators=2000;, score=(train=0.904, test=0.904) total time=   1.7s\n"
     ]
    },
    {
     "name": "stderr",
     "output_type": "stream",
     "text": [
      "C:\\Python310\\lib\\site-packages\\xgboost\\sklearn.py:1395: UserWarning:\n",
      "\n",
      "`use_label_encoder` is deprecated in 1.7.0.\n",
      "\n"
     ]
    },
    {
     "name": "stdout",
     "output_type": "stream",
     "text": [
      "[CV 2/5] END learning_rate=0.05, max_depth=2, n_estimators=2000;, score=(train=0.938, test=0.938) total time=   1.6s\n"
     ]
    },
    {
     "name": "stderr",
     "output_type": "stream",
     "text": [
      "C:\\Python310\\lib\\site-packages\\xgboost\\sklearn.py:1395: UserWarning:\n",
      "\n",
      "`use_label_encoder` is deprecated in 1.7.0.\n",
      "\n"
     ]
    },
    {
     "name": "stdout",
     "output_type": "stream",
     "text": [
      "[CV 3/5] END learning_rate=0.05, max_depth=2, n_estimators=2000;, score=(train=0.920, test=0.920) total time=   1.6s\n"
     ]
    },
    {
     "name": "stderr",
     "output_type": "stream",
     "text": [
      "C:\\Python310\\lib\\site-packages\\xgboost\\sklearn.py:1395: UserWarning:\n",
      "\n",
      "`use_label_encoder` is deprecated in 1.7.0.\n",
      "\n"
     ]
    },
    {
     "name": "stdout",
     "output_type": "stream",
     "text": [
      "[CV 4/5] END learning_rate=0.05, max_depth=2, n_estimators=2000;, score=(train=0.922, test=0.922) total time=   1.6s\n"
     ]
    },
    {
     "name": "stderr",
     "output_type": "stream",
     "text": [
      "C:\\Python310\\lib\\site-packages\\xgboost\\sklearn.py:1395: UserWarning:\n",
      "\n",
      "`use_label_encoder` is deprecated in 1.7.0.\n",
      "\n"
     ]
    },
    {
     "name": "stdout",
     "output_type": "stream",
     "text": [
      "[CV 5/5] END learning_rate=0.05, max_depth=2, n_estimators=2000;, score=(train=0.914, test=0.914) total time=   1.6s\n"
     ]
    },
    {
     "name": "stderr",
     "output_type": "stream",
     "text": [
      "C:\\Python310\\lib\\site-packages\\xgboost\\sklearn.py:1395: UserWarning:\n",
      "\n",
      "`use_label_encoder` is deprecated in 1.7.0.\n",
      "\n"
     ]
    },
    {
     "name": "stdout",
     "output_type": "stream",
     "text": [
      "[CV 1/5] END learning_rate=0.05, max_depth=2, n_estimators=3000;, score=(train=0.897, test=0.897) total time=   2.5s\n"
     ]
    },
    {
     "name": "stderr",
     "output_type": "stream",
     "text": [
      "C:\\Python310\\lib\\site-packages\\xgboost\\sklearn.py:1395: UserWarning:\n",
      "\n",
      "`use_label_encoder` is deprecated in 1.7.0.\n",
      "\n"
     ]
    },
    {
     "name": "stdout",
     "output_type": "stream",
     "text": [
      "[CV 2/5] END learning_rate=0.05, max_depth=2, n_estimators=3000;, score=(train=0.920, test=0.920) total time=   2.4s\n"
     ]
    },
    {
     "name": "stderr",
     "output_type": "stream",
     "text": [
      "C:\\Python310\\lib\\site-packages\\xgboost\\sklearn.py:1395: UserWarning:\n",
      "\n",
      "`use_label_encoder` is deprecated in 1.7.0.\n",
      "\n"
     ]
    },
    {
     "name": "stdout",
     "output_type": "stream",
     "text": [
      "[CV 3/5] END learning_rate=0.05, max_depth=2, n_estimators=3000;, score=(train=0.930, test=0.930) total time=   2.4s\n"
     ]
    },
    {
     "name": "stderr",
     "output_type": "stream",
     "text": [
      "C:\\Python310\\lib\\site-packages\\xgboost\\sklearn.py:1395: UserWarning:\n",
      "\n",
      "`use_label_encoder` is deprecated in 1.7.0.\n",
      "\n"
     ]
    },
    {
     "name": "stdout",
     "output_type": "stream",
     "text": [
      "[CV 4/5] END learning_rate=0.05, max_depth=2, n_estimators=3000;, score=(train=0.922, test=0.922) total time=   2.4s\n"
     ]
    },
    {
     "name": "stderr",
     "output_type": "stream",
     "text": [
      "C:\\Python310\\lib\\site-packages\\xgboost\\sklearn.py:1395: UserWarning:\n",
      "\n",
      "`use_label_encoder` is deprecated in 1.7.0.\n",
      "\n"
     ]
    },
    {
     "name": "stdout",
     "output_type": "stream",
     "text": [
      "[CV 5/5] END learning_rate=0.05, max_depth=2, n_estimators=3000;, score=(train=0.914, test=0.914) total time=   2.5s\n"
     ]
    },
    {
     "name": "stderr",
     "output_type": "stream",
     "text": [
      "C:\\Python310\\lib\\site-packages\\xgboost\\sklearn.py:1395: UserWarning:\n",
      "\n",
      "`use_label_encoder` is deprecated in 1.7.0.\n",
      "\n"
     ]
    },
    {
     "name": "stdout",
     "output_type": "stream",
     "text": [
      "[CV 1/5] END learning_rate=0.05, max_depth=2, n_estimators=4000;, score=(train=0.897, test=0.897) total time=   3.2s\n"
     ]
    },
    {
     "name": "stderr",
     "output_type": "stream",
     "text": [
      "C:\\Python310\\lib\\site-packages\\xgboost\\sklearn.py:1395: UserWarning:\n",
      "\n",
      "`use_label_encoder` is deprecated in 1.7.0.\n",
      "\n"
     ]
    },
    {
     "name": "stdout",
     "output_type": "stream",
     "text": [
      "[CV 2/5] END learning_rate=0.05, max_depth=2, n_estimators=4000;, score=(train=0.920, test=0.920) total time=   3.2s\n"
     ]
    },
    {
     "name": "stderr",
     "output_type": "stream",
     "text": [
      "C:\\Python310\\lib\\site-packages\\xgboost\\sklearn.py:1395: UserWarning:\n",
      "\n",
      "`use_label_encoder` is deprecated in 1.7.0.\n",
      "\n"
     ]
    },
    {
     "name": "stdout",
     "output_type": "stream",
     "text": [
      "[CV 3/5] END learning_rate=0.05, max_depth=2, n_estimators=4000;, score=(train=0.920, test=0.920) total time=   3.2s\n"
     ]
    },
    {
     "name": "stderr",
     "output_type": "stream",
     "text": [
      "C:\\Python310\\lib\\site-packages\\xgboost\\sklearn.py:1395: UserWarning:\n",
      "\n",
      "`use_label_encoder` is deprecated in 1.7.0.\n",
      "\n"
     ]
    },
    {
     "name": "stdout",
     "output_type": "stream",
     "text": [
      "[CV 4/5] END learning_rate=0.05, max_depth=2, n_estimators=4000;, score=(train=0.922, test=0.922) total time=   3.2s\n"
     ]
    },
    {
     "name": "stderr",
     "output_type": "stream",
     "text": [
      "C:\\Python310\\lib\\site-packages\\xgboost\\sklearn.py:1395: UserWarning:\n",
      "\n",
      "`use_label_encoder` is deprecated in 1.7.0.\n",
      "\n"
     ]
    },
    {
     "name": "stdout",
     "output_type": "stream",
     "text": [
      "[CV 5/5] END learning_rate=0.05, max_depth=2, n_estimators=4000;, score=(train=0.914, test=0.914) total time=   3.2s\n"
     ]
    },
    {
     "name": "stderr",
     "output_type": "stream",
     "text": [
      "C:\\Python310\\lib\\site-packages\\xgboost\\sklearn.py:1395: UserWarning:\n",
      "\n",
      "`use_label_encoder` is deprecated in 1.7.0.\n",
      "\n"
     ]
    },
    {
     "name": "stdout",
     "output_type": "stream",
     "text": [
      "[CV 1/5] END learning_rate=0.05, max_depth=2, n_estimators=5000;, score=(train=0.904, test=0.904) total time=   4.0s\n"
     ]
    },
    {
     "name": "stderr",
     "output_type": "stream",
     "text": [
      "C:\\Python310\\lib\\site-packages\\xgboost\\sklearn.py:1395: UserWarning:\n",
      "\n",
      "`use_label_encoder` is deprecated in 1.7.0.\n",
      "\n"
     ]
    },
    {
     "name": "stdout",
     "output_type": "stream",
     "text": [
      "[CV 2/5] END learning_rate=0.05, max_depth=2, n_estimators=5000;, score=(train=0.920, test=0.920) total time=   4.0s\n"
     ]
    },
    {
     "name": "stderr",
     "output_type": "stream",
     "text": [
      "C:\\Python310\\lib\\site-packages\\xgboost\\sklearn.py:1395: UserWarning:\n",
      "\n",
      "`use_label_encoder` is deprecated in 1.7.0.\n",
      "\n"
     ]
    },
    {
     "name": "stdout",
     "output_type": "stream",
     "text": [
      "[CV 3/5] END learning_rate=0.05, max_depth=2, n_estimators=5000;, score=(train=0.920, test=0.920) total time=   4.0s\n"
     ]
    },
    {
     "name": "stderr",
     "output_type": "stream",
     "text": [
      "C:\\Python310\\lib\\site-packages\\xgboost\\sklearn.py:1395: UserWarning:\n",
      "\n",
      "`use_label_encoder` is deprecated in 1.7.0.\n",
      "\n"
     ]
    },
    {
     "name": "stdout",
     "output_type": "stream",
     "text": [
      "[CV 4/5] END learning_rate=0.05, max_depth=2, n_estimators=5000;, score=(train=0.912, test=0.912) total time=   4.0s\n"
     ]
    },
    {
     "name": "stderr",
     "output_type": "stream",
     "text": [
      "C:\\Python310\\lib\\site-packages\\xgboost\\sklearn.py:1395: UserWarning:\n",
      "\n",
      "`use_label_encoder` is deprecated in 1.7.0.\n",
      "\n"
     ]
    },
    {
     "name": "stdout",
     "output_type": "stream",
     "text": [
      "[CV 5/5] END learning_rate=0.05, max_depth=2, n_estimators=5000;, score=(train=0.914, test=0.914) total time=   4.2s\n"
     ]
    },
    {
     "name": "stderr",
     "output_type": "stream",
     "text": [
      "C:\\Python310\\lib\\site-packages\\xgboost\\sklearn.py:1395: UserWarning:\n",
      "\n",
      "`use_label_encoder` is deprecated in 1.7.0.\n",
      "\n"
     ]
    },
    {
     "name": "stdout",
     "output_type": "stream",
     "text": [
      "[CV 1/5] END learning_rate=0.05, max_depth=3, n_estimators=1000;, score=(train=0.922, test=0.922) total time=   0.9s\n"
     ]
    },
    {
     "name": "stderr",
     "output_type": "stream",
     "text": [
      "C:\\Python310\\lib\\site-packages\\xgboost\\sklearn.py:1395: UserWarning:\n",
      "\n",
      "`use_label_encoder` is deprecated in 1.7.0.\n",
      "\n"
     ]
    },
    {
     "name": "stdout",
     "output_type": "stream",
     "text": [
      "[CV 2/5] END learning_rate=0.05, max_depth=3, n_estimators=1000;, score=(train=0.930, test=0.930) total time=   0.9s\n"
     ]
    },
    {
     "name": "stderr",
     "output_type": "stream",
     "text": [
      "C:\\Python310\\lib\\site-packages\\xgboost\\sklearn.py:1395: UserWarning:\n",
      "\n",
      "`use_label_encoder` is deprecated in 1.7.0.\n",
      "\n"
     ]
    },
    {
     "name": "stdout",
     "output_type": "stream",
     "text": [
      "[CV 3/5] END learning_rate=0.05, max_depth=3, n_estimators=1000;, score=(train=0.930, test=0.930) total time=   0.9s\n"
     ]
    },
    {
     "name": "stderr",
     "output_type": "stream",
     "text": [
      "C:\\Python310\\lib\\site-packages\\xgboost\\sklearn.py:1395: UserWarning:\n",
      "\n",
      "`use_label_encoder` is deprecated in 1.7.0.\n",
      "\n"
     ]
    },
    {
     "name": "stdout",
     "output_type": "stream",
     "text": [
      "[CV 4/5] END learning_rate=0.05, max_depth=3, n_estimators=1000;, score=(train=0.930, test=0.930) total time=   0.9s\n"
     ]
    },
    {
     "name": "stderr",
     "output_type": "stream",
     "text": [
      "C:\\Python310\\lib\\site-packages\\xgboost\\sklearn.py:1395: UserWarning:\n",
      "\n",
      "`use_label_encoder` is deprecated in 1.7.0.\n",
      "\n"
     ]
    },
    {
     "name": "stdout",
     "output_type": "stream",
     "text": [
      "[CV 5/5] END learning_rate=0.05, max_depth=3, n_estimators=1000;, score=(train=0.904, test=0.904) total time=   0.9s\n"
     ]
    },
    {
     "name": "stderr",
     "output_type": "stream",
     "text": [
      "C:\\Python310\\lib\\site-packages\\xgboost\\sklearn.py:1395: UserWarning:\n",
      "\n",
      "`use_label_encoder` is deprecated in 1.7.0.\n",
      "\n"
     ]
    },
    {
     "name": "stdout",
     "output_type": "stream",
     "text": [
      "[CV 1/5] END learning_rate=0.05, max_depth=3, n_estimators=2000;, score=(train=0.904, test=0.904) total time=   1.8s\n"
     ]
    },
    {
     "name": "stderr",
     "output_type": "stream",
     "text": [
      "C:\\Python310\\lib\\site-packages\\xgboost\\sklearn.py:1395: UserWarning:\n",
      "\n",
      "`use_label_encoder` is deprecated in 1.7.0.\n",
      "\n"
     ]
    },
    {
     "name": "stdout",
     "output_type": "stream",
     "text": [
      "[CV 2/5] END learning_rate=0.05, max_depth=3, n_estimators=2000;, score=(train=0.930, test=0.930) total time=   1.8s\n"
     ]
    },
    {
     "name": "stderr",
     "output_type": "stream",
     "text": [
      "C:\\Python310\\lib\\site-packages\\xgboost\\sklearn.py:1395: UserWarning:\n",
      "\n",
      "`use_label_encoder` is deprecated in 1.7.0.\n",
      "\n"
     ]
    },
    {
     "name": "stdout",
     "output_type": "stream",
     "text": [
      "[CV 3/5] END learning_rate=0.05, max_depth=3, n_estimators=2000;, score=(train=0.930, test=0.930) total time=   1.8s\n"
     ]
    },
    {
     "name": "stderr",
     "output_type": "stream",
     "text": [
      "C:\\Python310\\lib\\site-packages\\xgboost\\sklearn.py:1395: UserWarning:\n",
      "\n",
      "`use_label_encoder` is deprecated in 1.7.0.\n",
      "\n"
     ]
    },
    {
     "name": "stdout",
     "output_type": "stream",
     "text": [
      "[CV 4/5] END learning_rate=0.05, max_depth=3, n_estimators=2000;, score=(train=0.922, test=0.922) total time=   1.8s\n"
     ]
    },
    {
     "name": "stderr",
     "output_type": "stream",
     "text": [
      "C:\\Python310\\lib\\site-packages\\xgboost\\sklearn.py:1395: UserWarning:\n",
      "\n",
      "`use_label_encoder` is deprecated in 1.7.0.\n",
      "\n"
     ]
    },
    {
     "name": "stdout",
     "output_type": "stream",
     "text": [
      "[CV 5/5] END learning_rate=0.05, max_depth=3, n_estimators=2000;, score=(train=0.904, test=0.904) total time=   1.8s\n"
     ]
    },
    {
     "name": "stderr",
     "output_type": "stream",
     "text": [
      "C:\\Python310\\lib\\site-packages\\xgboost\\sklearn.py:1395: UserWarning:\n",
      "\n",
      "`use_label_encoder` is deprecated in 1.7.0.\n",
      "\n"
     ]
    },
    {
     "name": "stdout",
     "output_type": "stream",
     "text": [
      "[CV 1/5] END learning_rate=0.05, max_depth=3, n_estimators=3000;, score=(train=0.904, test=0.904) total time=   2.6s\n"
     ]
    },
    {
     "name": "stderr",
     "output_type": "stream",
     "text": [
      "C:\\Python310\\lib\\site-packages\\xgboost\\sklearn.py:1395: UserWarning:\n",
      "\n",
      "`use_label_encoder` is deprecated in 1.7.0.\n",
      "\n"
     ]
    },
    {
     "name": "stdout",
     "output_type": "stream",
     "text": [
      "[CV 2/5] END learning_rate=0.05, max_depth=3, n_estimators=3000;, score=(train=0.920, test=0.920) total time=   2.6s\n"
     ]
    },
    {
     "name": "stderr",
     "output_type": "stream",
     "text": [
      "C:\\Python310\\lib\\site-packages\\xgboost\\sklearn.py:1395: UserWarning:\n",
      "\n",
      "`use_label_encoder` is deprecated in 1.7.0.\n",
      "\n"
     ]
    },
    {
     "name": "stdout",
     "output_type": "stream",
     "text": [
      "[CV 3/5] END learning_rate=0.05, max_depth=3, n_estimators=3000;, score=(train=0.930, test=0.930) total time=   2.6s\n"
     ]
    },
    {
     "name": "stderr",
     "output_type": "stream",
     "text": [
      "C:\\Python310\\lib\\site-packages\\xgboost\\sklearn.py:1395: UserWarning:\n",
      "\n",
      "`use_label_encoder` is deprecated in 1.7.0.\n",
      "\n"
     ]
    },
    {
     "name": "stdout",
     "output_type": "stream",
     "text": [
      "[CV 4/5] END learning_rate=0.05, max_depth=3, n_estimators=3000;, score=(train=0.922, test=0.922) total time=   2.6s\n"
     ]
    },
    {
     "name": "stderr",
     "output_type": "stream",
     "text": [
      "C:\\Python310\\lib\\site-packages\\xgboost\\sklearn.py:1395: UserWarning:\n",
      "\n",
      "`use_label_encoder` is deprecated in 1.7.0.\n",
      "\n"
     ]
    },
    {
     "name": "stdout",
     "output_type": "stream",
     "text": [
      "[CV 5/5] END learning_rate=0.05, max_depth=3, n_estimators=3000;, score=(train=0.904, test=0.904) total time=   2.6s\n"
     ]
    },
    {
     "name": "stderr",
     "output_type": "stream",
     "text": [
      "C:\\Python310\\lib\\site-packages\\xgboost\\sklearn.py:1395: UserWarning:\n",
      "\n",
      "`use_label_encoder` is deprecated in 1.7.0.\n",
      "\n"
     ]
    },
    {
     "name": "stdout",
     "output_type": "stream",
     "text": [
      "[CV 1/5] END learning_rate=0.05, max_depth=3, n_estimators=4000;, score=(train=0.914, test=0.914) total time=   3.4s\n"
     ]
    },
    {
     "name": "stderr",
     "output_type": "stream",
     "text": [
      "C:\\Python310\\lib\\site-packages\\xgboost\\sklearn.py:1395: UserWarning:\n",
      "\n",
      "`use_label_encoder` is deprecated in 1.7.0.\n",
      "\n"
     ]
    },
    {
     "name": "stdout",
     "output_type": "stream",
     "text": [
      "[CV 2/5] END learning_rate=0.05, max_depth=3, n_estimators=4000;, score=(train=0.901, test=0.901) total time=   3.4s\n"
     ]
    },
    {
     "name": "stderr",
     "output_type": "stream",
     "text": [
      "C:\\Python310\\lib\\site-packages\\xgboost\\sklearn.py:1395: UserWarning:\n",
      "\n",
      "`use_label_encoder` is deprecated in 1.7.0.\n",
      "\n"
     ]
    },
    {
     "name": "stdout",
     "output_type": "stream",
     "text": [
      "[CV 3/5] END learning_rate=0.05, max_depth=3, n_estimators=4000;, score=(train=0.930, test=0.930) total time=   3.4s\n"
     ]
    },
    {
     "name": "stderr",
     "output_type": "stream",
     "text": [
      "C:\\Python310\\lib\\site-packages\\xgboost\\sklearn.py:1395: UserWarning:\n",
      "\n",
      "`use_label_encoder` is deprecated in 1.7.0.\n",
      "\n"
     ]
    },
    {
     "name": "stdout",
     "output_type": "stream",
     "text": [
      "[CV 4/5] END learning_rate=0.05, max_depth=3, n_estimators=4000;, score=(train=0.922, test=0.922) total time=   3.4s\n"
     ]
    },
    {
     "name": "stderr",
     "output_type": "stream",
     "text": [
      "C:\\Python310\\lib\\site-packages\\xgboost\\sklearn.py:1395: UserWarning:\n",
      "\n",
      "`use_label_encoder` is deprecated in 1.7.0.\n",
      "\n"
     ]
    },
    {
     "name": "stdout",
     "output_type": "stream",
     "text": [
      "[CV 5/5] END learning_rate=0.05, max_depth=3, n_estimators=4000;, score=(train=0.904, test=0.904) total time=   3.4s\n"
     ]
    },
    {
     "name": "stderr",
     "output_type": "stream",
     "text": [
      "C:\\Python310\\lib\\site-packages\\xgboost\\sklearn.py:1395: UserWarning:\n",
      "\n",
      "`use_label_encoder` is deprecated in 1.7.0.\n",
      "\n"
     ]
    },
    {
     "name": "stdout",
     "output_type": "stream",
     "text": [
      "[CV 1/5] END learning_rate=0.05, max_depth=3, n_estimators=5000;, score=(train=0.914, test=0.914) total time=   4.2s\n"
     ]
    },
    {
     "name": "stderr",
     "output_type": "stream",
     "text": [
      "C:\\Python310\\lib\\site-packages\\xgboost\\sklearn.py:1395: UserWarning:\n",
      "\n",
      "`use_label_encoder` is deprecated in 1.7.0.\n",
      "\n"
     ]
    },
    {
     "name": "stdout",
     "output_type": "stream",
     "text": [
      "[CV 2/5] END learning_rate=0.05, max_depth=3, n_estimators=5000;, score=(train=0.901, test=0.901) total time=   4.2s\n"
     ]
    },
    {
     "name": "stderr",
     "output_type": "stream",
     "text": [
      "C:\\Python310\\lib\\site-packages\\xgboost\\sklearn.py:1395: UserWarning:\n",
      "\n",
      "`use_label_encoder` is deprecated in 1.7.0.\n",
      "\n"
     ]
    },
    {
     "name": "stdout",
     "output_type": "stream",
     "text": [
      "[CV 3/5] END learning_rate=0.05, max_depth=3, n_estimators=5000;, score=(train=0.930, test=0.930) total time=   4.2s\n"
     ]
    },
    {
     "name": "stderr",
     "output_type": "stream",
     "text": [
      "C:\\Python310\\lib\\site-packages\\xgboost\\sklearn.py:1395: UserWarning:\n",
      "\n",
      "`use_label_encoder` is deprecated in 1.7.0.\n",
      "\n"
     ]
    },
    {
     "name": "stdout",
     "output_type": "stream",
     "text": [
      "[CV 4/5] END learning_rate=0.05, max_depth=3, n_estimators=5000;, score=(train=0.923, test=0.923) total time=   4.2s\n"
     ]
    },
    {
     "name": "stderr",
     "output_type": "stream",
     "text": [
      "C:\\Python310\\lib\\site-packages\\xgboost\\sklearn.py:1395: UserWarning:\n",
      "\n",
      "`use_label_encoder` is deprecated in 1.7.0.\n",
      "\n"
     ]
    },
    {
     "name": "stdout",
     "output_type": "stream",
     "text": [
      "[CV 5/5] END learning_rate=0.05, max_depth=3, n_estimators=5000;, score=(train=0.904, test=0.904) total time=   4.2s\n"
     ]
    },
    {
     "name": "stderr",
     "output_type": "stream",
     "text": [
      "C:\\Python310\\lib\\site-packages\\xgboost\\sklearn.py:1395: UserWarning:\n",
      "\n",
      "`use_label_encoder` is deprecated in 1.7.0.\n",
      "\n"
     ]
    },
    {
     "name": "stdout",
     "output_type": "stream",
     "text": [
      "[CV 1/5] END learning_rate=0.05, max_depth=5, n_estimators=1000;, score=(train=0.931, test=0.931) total time=   1.0s\n"
     ]
    },
    {
     "name": "stderr",
     "output_type": "stream",
     "text": [
      "C:\\Python310\\lib\\site-packages\\xgboost\\sklearn.py:1395: UserWarning:\n",
      "\n",
      "`use_label_encoder` is deprecated in 1.7.0.\n",
      "\n"
     ]
    },
    {
     "name": "stdout",
     "output_type": "stream",
     "text": [
      "[CV 2/5] END learning_rate=0.05, max_depth=5, n_estimators=1000;, score=(train=0.911, test=0.911) total time=   1.0s\n"
     ]
    },
    {
     "name": "stderr",
     "output_type": "stream",
     "text": [
      "C:\\Python310\\lib\\site-packages\\xgboost\\sklearn.py:1395: UserWarning:\n",
      "\n",
      "`use_label_encoder` is deprecated in 1.7.0.\n",
      "\n"
     ]
    },
    {
     "name": "stdout",
     "output_type": "stream",
     "text": [
      "[CV 3/5] END learning_rate=0.05, max_depth=5, n_estimators=1000;, score=(train=0.920, test=0.920) total time=   1.0s\n"
     ]
    },
    {
     "name": "stderr",
     "output_type": "stream",
     "text": [
      "C:\\Python310\\lib\\site-packages\\xgboost\\sklearn.py:1395: UserWarning:\n",
      "\n",
      "`use_label_encoder` is deprecated in 1.7.0.\n",
      "\n"
     ]
    },
    {
     "name": "stdout",
     "output_type": "stream",
     "text": [
      "[CV 4/5] END learning_rate=0.05, max_depth=5, n_estimators=1000;, score=(train=0.912, test=0.912) total time=   1.0s\n"
     ]
    },
    {
     "name": "stderr",
     "output_type": "stream",
     "text": [
      "C:\\Python310\\lib\\site-packages\\xgboost\\sklearn.py:1395: UserWarning:\n",
      "\n",
      "`use_label_encoder` is deprecated in 1.7.0.\n",
      "\n"
     ]
    },
    {
     "name": "stdout",
     "output_type": "stream",
     "text": [
      "[CV 5/5] END learning_rate=0.05, max_depth=5, n_estimators=1000;, score=(train=0.912, test=0.912) total time=   1.0s\n"
     ]
    },
    {
     "name": "stderr",
     "output_type": "stream",
     "text": [
      "C:\\Python310\\lib\\site-packages\\xgboost\\sklearn.py:1395: UserWarning:\n",
      "\n",
      "`use_label_encoder` is deprecated in 1.7.0.\n",
      "\n"
     ]
    },
    {
     "name": "stdout",
     "output_type": "stream",
     "text": [
      "[CV 1/5] END learning_rate=0.05, max_depth=5, n_estimators=2000;, score=(train=0.923, test=0.923) total time=   2.0s\n"
     ]
    },
    {
     "name": "stderr",
     "output_type": "stream",
     "text": [
      "C:\\Python310\\lib\\site-packages\\xgboost\\sklearn.py:1395: UserWarning:\n",
      "\n",
      "`use_label_encoder` is deprecated in 1.7.0.\n",
      "\n"
     ]
    },
    {
     "name": "stdout",
     "output_type": "stream",
     "text": [
      "[CV 2/5] END learning_rate=0.05, max_depth=5, n_estimators=2000;, score=(train=0.911, test=0.911) total time=   1.9s\n"
     ]
    },
    {
     "name": "stderr",
     "output_type": "stream",
     "text": [
      "C:\\Python310\\lib\\site-packages\\xgboost\\sklearn.py:1395: UserWarning:\n",
      "\n",
      "`use_label_encoder` is deprecated in 1.7.0.\n",
      "\n"
     ]
    },
    {
     "name": "stdout",
     "output_type": "stream",
     "text": [
      "[CV 3/5] END learning_rate=0.05, max_depth=5, n_estimators=2000;, score=(train=0.911, test=0.911) total time=   1.9s\n"
     ]
    },
    {
     "name": "stderr",
     "output_type": "stream",
     "text": [
      "C:\\Python310\\lib\\site-packages\\xgboost\\sklearn.py:1395: UserWarning:\n",
      "\n",
      "`use_label_encoder` is deprecated in 1.7.0.\n",
      "\n"
     ]
    },
    {
     "name": "stdout",
     "output_type": "stream",
     "text": [
      "[CV 4/5] END learning_rate=0.05, max_depth=5, n_estimators=2000;, score=(train=0.912, test=0.912) total time=   1.9s\n"
     ]
    },
    {
     "name": "stderr",
     "output_type": "stream",
     "text": [
      "C:\\Python310\\lib\\site-packages\\xgboost\\sklearn.py:1395: UserWarning:\n",
      "\n",
      "`use_label_encoder` is deprecated in 1.7.0.\n",
      "\n"
     ]
    },
    {
     "name": "stdout",
     "output_type": "stream",
     "text": [
      "[CV 5/5] END learning_rate=0.05, max_depth=5, n_estimators=2000;, score=(train=0.895, test=0.895) total time=   1.9s\n"
     ]
    },
    {
     "name": "stderr",
     "output_type": "stream",
     "text": [
      "C:\\Python310\\lib\\site-packages\\xgboost\\sklearn.py:1395: UserWarning:\n",
      "\n",
      "`use_label_encoder` is deprecated in 1.7.0.\n",
      "\n"
     ]
    },
    {
     "name": "stdout",
     "output_type": "stream",
     "text": [
      "[CV 1/5] END learning_rate=0.05, max_depth=5, n_estimators=3000;, score=(train=0.923, test=0.923) total time=   2.7s\n"
     ]
    },
    {
     "name": "stderr",
     "output_type": "stream",
     "text": [
      "C:\\Python310\\lib\\site-packages\\xgboost\\sklearn.py:1395: UserWarning:\n",
      "\n",
      "`use_label_encoder` is deprecated in 1.7.0.\n",
      "\n"
     ]
    },
    {
     "name": "stdout",
     "output_type": "stream",
     "text": [
      "[CV 2/5] END learning_rate=0.05, max_depth=5, n_estimators=3000;, score=(train=0.911, test=0.911) total time=   2.7s\n"
     ]
    },
    {
     "name": "stderr",
     "output_type": "stream",
     "text": [
      "C:\\Python310\\lib\\site-packages\\xgboost\\sklearn.py:1395: UserWarning:\n",
      "\n",
      "`use_label_encoder` is deprecated in 1.7.0.\n",
      "\n"
     ]
    },
    {
     "name": "stdout",
     "output_type": "stream",
     "text": [
      "[CV 3/5] END learning_rate=0.05, max_depth=5, n_estimators=3000;, score=(train=0.911, test=0.911) total time=   2.7s\n"
     ]
    },
    {
     "name": "stderr",
     "output_type": "stream",
     "text": [
      "C:\\Python310\\lib\\site-packages\\xgboost\\sklearn.py:1395: UserWarning:\n",
      "\n",
      "`use_label_encoder` is deprecated in 1.7.0.\n",
      "\n"
     ]
    },
    {
     "name": "stdout",
     "output_type": "stream",
     "text": [
      "[CV 4/5] END learning_rate=0.05, max_depth=5, n_estimators=3000;, score=(train=0.904, test=0.904) total time=   2.7s\n"
     ]
    },
    {
     "name": "stderr",
     "output_type": "stream",
     "text": [
      "C:\\Python310\\lib\\site-packages\\xgboost\\sklearn.py:1395: UserWarning:\n",
      "\n",
      "`use_label_encoder` is deprecated in 1.7.0.\n",
      "\n"
     ]
    },
    {
     "name": "stdout",
     "output_type": "stream",
     "text": [
      "[CV 5/5] END learning_rate=0.05, max_depth=5, n_estimators=3000;, score=(train=0.885, test=0.885) total time=   2.7s\n"
     ]
    },
    {
     "name": "stderr",
     "output_type": "stream",
     "text": [
      "C:\\Python310\\lib\\site-packages\\xgboost\\sklearn.py:1395: UserWarning:\n",
      "\n",
      "`use_label_encoder` is deprecated in 1.7.0.\n",
      "\n"
     ]
    },
    {
     "name": "stdout",
     "output_type": "stream",
     "text": [
      "[CV 1/5] END learning_rate=0.05, max_depth=5, n_estimators=4000;, score=(train=0.923, test=0.923) total time=   3.5s\n"
     ]
    },
    {
     "name": "stderr",
     "output_type": "stream",
     "text": [
      "C:\\Python310\\lib\\site-packages\\xgboost\\sklearn.py:1395: UserWarning:\n",
      "\n",
      "`use_label_encoder` is deprecated in 1.7.0.\n",
      "\n"
     ]
    },
    {
     "name": "stdout",
     "output_type": "stream",
     "text": [
      "[CV 2/5] END learning_rate=0.05, max_depth=5, n_estimators=4000;, score=(train=0.893, test=0.893) total time=   3.5s\n"
     ]
    },
    {
     "name": "stderr",
     "output_type": "stream",
     "text": [
      "C:\\Python310\\lib\\site-packages\\xgboost\\sklearn.py:1395: UserWarning:\n",
      "\n",
      "`use_label_encoder` is deprecated in 1.7.0.\n",
      "\n"
     ]
    },
    {
     "name": "stdout",
     "output_type": "stream",
     "text": [
      "[CV 3/5] END learning_rate=0.05, max_depth=5, n_estimators=4000;, score=(train=0.911, test=0.911) total time=   3.6s\n"
     ]
    },
    {
     "name": "stderr",
     "output_type": "stream",
     "text": [
      "C:\\Python310\\lib\\site-packages\\xgboost\\sklearn.py:1395: UserWarning:\n",
      "\n",
      "`use_label_encoder` is deprecated in 1.7.0.\n",
      "\n"
     ]
    },
    {
     "name": "stdout",
     "output_type": "stream",
     "text": [
      "[CV 4/5] END learning_rate=0.05, max_depth=5, n_estimators=4000;, score=(train=0.912, test=0.912) total time=   3.6s\n"
     ]
    },
    {
     "name": "stderr",
     "output_type": "stream",
     "text": [
      "C:\\Python310\\lib\\site-packages\\xgboost\\sklearn.py:1395: UserWarning:\n",
      "\n",
      "`use_label_encoder` is deprecated in 1.7.0.\n",
      "\n"
     ]
    },
    {
     "name": "stdout",
     "output_type": "stream",
     "text": [
      "[CV 5/5] END learning_rate=0.05, max_depth=5, n_estimators=4000;, score=(train=0.885, test=0.885) total time=   3.5s\n"
     ]
    },
    {
     "name": "stderr",
     "output_type": "stream",
     "text": [
      "C:\\Python310\\lib\\site-packages\\xgboost\\sklearn.py:1395: UserWarning:\n",
      "\n",
      "`use_label_encoder` is deprecated in 1.7.0.\n",
      "\n"
     ]
    },
    {
     "name": "stdout",
     "output_type": "stream",
     "text": [
      "[CV 1/5] END learning_rate=0.05, max_depth=5, n_estimators=5000;, score=(train=0.923, test=0.923) total time=   4.2s\n"
     ]
    },
    {
     "name": "stderr",
     "output_type": "stream",
     "text": [
      "C:\\Python310\\lib\\site-packages\\xgboost\\sklearn.py:1395: UserWarning:\n",
      "\n",
      "`use_label_encoder` is deprecated in 1.7.0.\n",
      "\n"
     ]
    },
    {
     "name": "stdout",
     "output_type": "stream",
     "text": [
      "[CV 2/5] END learning_rate=0.05, max_depth=5, n_estimators=5000;, score=(train=0.891, test=0.891) total time=   4.2s\n"
     ]
    },
    {
     "name": "stderr",
     "output_type": "stream",
     "text": [
      "C:\\Python310\\lib\\site-packages\\xgboost\\sklearn.py:1395: UserWarning:\n",
      "\n",
      "`use_label_encoder` is deprecated in 1.7.0.\n",
      "\n"
     ]
    },
    {
     "name": "stdout",
     "output_type": "stream",
     "text": [
      "[CV 3/5] END learning_rate=0.05, max_depth=5, n_estimators=5000;, score=(train=0.911, test=0.911) total time=   4.4s\n"
     ]
    },
    {
     "name": "stderr",
     "output_type": "stream",
     "text": [
      "C:\\Python310\\lib\\site-packages\\xgboost\\sklearn.py:1395: UserWarning:\n",
      "\n",
      "`use_label_encoder` is deprecated in 1.7.0.\n",
      "\n"
     ]
    },
    {
     "name": "stdout",
     "output_type": "stream",
     "text": [
      "[CV 4/5] END learning_rate=0.05, max_depth=5, n_estimators=5000;, score=(train=0.897, test=0.897) total time=   4.3s\n"
     ]
    },
    {
     "name": "stderr",
     "output_type": "stream",
     "text": [
      "C:\\Python310\\lib\\site-packages\\xgboost\\sklearn.py:1395: UserWarning:\n",
      "\n",
      "`use_label_encoder` is deprecated in 1.7.0.\n",
      "\n"
     ]
    },
    {
     "name": "stdout",
     "output_type": "stream",
     "text": [
      "[CV 5/5] END learning_rate=0.05, max_depth=5, n_estimators=5000;, score=(train=0.885, test=0.885) total time=   4.3s\n"
     ]
    },
    {
     "name": "stderr",
     "output_type": "stream",
     "text": [
      "C:\\Python310\\lib\\site-packages\\xgboost\\sklearn.py:1395: UserWarning:\n",
      "\n",
      "`use_label_encoder` is deprecated in 1.7.0.\n",
      "\n"
     ]
    },
    {
     "name": "stdout",
     "output_type": "stream",
     "text": [
      "[CV 1/5] END learning_rate=0.05, max_depth=7, n_estimators=1000;, score=(train=0.915, test=0.915) total time=   1.1s\n"
     ]
    },
    {
     "name": "stderr",
     "output_type": "stream",
     "text": [
      "C:\\Python310\\lib\\site-packages\\xgboost\\sklearn.py:1395: UserWarning:\n",
      "\n",
      "`use_label_encoder` is deprecated in 1.7.0.\n",
      "\n"
     ]
    },
    {
     "name": "stdout",
     "output_type": "stream",
     "text": [
      "[CV 2/5] END learning_rate=0.05, max_depth=7, n_estimators=1000;, score=(train=0.911, test=0.911) total time=   1.0s\n"
     ]
    },
    {
     "name": "stderr",
     "output_type": "stream",
     "text": [
      "C:\\Python310\\lib\\site-packages\\xgboost\\sklearn.py:1395: UserWarning:\n",
      "\n",
      "`use_label_encoder` is deprecated in 1.7.0.\n",
      "\n"
     ]
    },
    {
     "name": "stdout",
     "output_type": "stream",
     "text": [
      "[CV 3/5] END learning_rate=0.05, max_depth=7, n_estimators=1000;, score=(train=0.920, test=0.920) total time=   1.1s\n"
     ]
    },
    {
     "name": "stderr",
     "output_type": "stream",
     "text": [
      "C:\\Python310\\lib\\site-packages\\xgboost\\sklearn.py:1395: UserWarning:\n",
      "\n",
      "`use_label_encoder` is deprecated in 1.7.0.\n",
      "\n"
     ]
    },
    {
     "name": "stdout",
     "output_type": "stream",
     "text": [
      "[CV 4/5] END learning_rate=0.05, max_depth=7, n_estimators=1000;, score=(train=0.904, test=0.904) total time=   1.1s\n"
     ]
    },
    {
     "name": "stderr",
     "output_type": "stream",
     "text": [
      "C:\\Python310\\lib\\site-packages\\xgboost\\sklearn.py:1395: UserWarning:\n",
      "\n",
      "`use_label_encoder` is deprecated in 1.7.0.\n",
      "\n"
     ]
    },
    {
     "name": "stdout",
     "output_type": "stream",
     "text": [
      "[CV 5/5] END learning_rate=0.05, max_depth=7, n_estimators=1000;, score=(train=0.912, test=0.912) total time=   1.1s\n"
     ]
    },
    {
     "name": "stderr",
     "output_type": "stream",
     "text": [
      "C:\\Python310\\lib\\site-packages\\xgboost\\sklearn.py:1395: UserWarning:\n",
      "\n",
      "`use_label_encoder` is deprecated in 1.7.0.\n",
      "\n"
     ]
    },
    {
     "name": "stdout",
     "output_type": "stream",
     "text": [
      "[CV 1/5] END learning_rate=0.05, max_depth=7, n_estimators=2000;, score=(train=0.923, test=0.923) total time=   2.0s\n"
     ]
    },
    {
     "name": "stderr",
     "output_type": "stream",
     "text": [
      "C:\\Python310\\lib\\site-packages\\xgboost\\sklearn.py:1395: UserWarning:\n",
      "\n",
      "`use_label_encoder` is deprecated in 1.7.0.\n",
      "\n"
     ]
    },
    {
     "name": "stdout",
     "output_type": "stream",
     "text": [
      "[CV 2/5] END learning_rate=0.05, max_depth=7, n_estimators=2000;, score=(train=0.919, test=0.919) total time=   1.9s\n"
     ]
    },
    {
     "name": "stderr",
     "output_type": "stream",
     "text": [
      "C:\\Python310\\lib\\site-packages\\xgboost\\sklearn.py:1395: UserWarning:\n",
      "\n",
      "`use_label_encoder` is deprecated in 1.7.0.\n",
      "\n"
     ]
    },
    {
     "name": "stdout",
     "output_type": "stream",
     "text": [
      "[CV 3/5] END learning_rate=0.05, max_depth=7, n_estimators=2000;, score=(train=0.920, test=0.920) total time=   2.0s\n"
     ]
    },
    {
     "name": "stderr",
     "output_type": "stream",
     "text": [
      "C:\\Python310\\lib\\site-packages\\xgboost\\sklearn.py:1395: UserWarning:\n",
      "\n",
      "`use_label_encoder` is deprecated in 1.7.0.\n",
      "\n"
     ]
    },
    {
     "name": "stdout",
     "output_type": "stream",
     "text": [
      "[CV 4/5] END learning_rate=0.05, max_depth=7, n_estimators=2000;, score=(train=0.914, test=0.914) total time=   2.0s\n"
     ]
    },
    {
     "name": "stderr",
     "output_type": "stream",
     "text": [
      "C:\\Python310\\lib\\site-packages\\xgboost\\sklearn.py:1395: UserWarning:\n",
      "\n",
      "`use_label_encoder` is deprecated in 1.7.0.\n",
      "\n"
     ]
    },
    {
     "name": "stdout",
     "output_type": "stream",
     "text": [
      "[CV 5/5] END learning_rate=0.05, max_depth=7, n_estimators=2000;, score=(train=0.885, test=0.885) total time=   1.9s\n"
     ]
    },
    {
     "name": "stderr",
     "output_type": "stream",
     "text": [
      "C:\\Python310\\lib\\site-packages\\xgboost\\sklearn.py:1395: UserWarning:\n",
      "\n",
      "`use_label_encoder` is deprecated in 1.7.0.\n",
      "\n"
     ]
    },
    {
     "name": "stdout",
     "output_type": "stream",
     "text": [
      "[CV 1/5] END learning_rate=0.05, max_depth=7, n_estimators=3000;, score=(train=0.914, test=0.914) total time=   2.7s\n"
     ]
    },
    {
     "name": "stderr",
     "output_type": "stream",
     "text": [
      "C:\\Python310\\lib\\site-packages\\xgboost\\sklearn.py:1395: UserWarning:\n",
      "\n",
      "`use_label_encoder` is deprecated in 1.7.0.\n",
      "\n"
     ]
    },
    {
     "name": "stdout",
     "output_type": "stream",
     "text": [
      "[CV 2/5] END learning_rate=0.05, max_depth=7, n_estimators=3000;, score=(train=0.891, test=0.891) total time=   2.7s\n"
     ]
    },
    {
     "name": "stderr",
     "output_type": "stream",
     "text": [
      "C:\\Python310\\lib\\site-packages\\xgboost\\sklearn.py:1395: UserWarning:\n",
      "\n",
      "`use_label_encoder` is deprecated in 1.7.0.\n",
      "\n"
     ]
    },
    {
     "name": "stdout",
     "output_type": "stream",
     "text": [
      "[CV 3/5] END learning_rate=0.05, max_depth=7, n_estimators=3000;, score=(train=0.920, test=0.920) total time=   2.8s\n"
     ]
    },
    {
     "name": "stderr",
     "output_type": "stream",
     "text": [
      "C:\\Python310\\lib\\site-packages\\xgboost\\sklearn.py:1395: UserWarning:\n",
      "\n",
      "`use_label_encoder` is deprecated in 1.7.0.\n",
      "\n"
     ]
    },
    {
     "name": "stdout",
     "output_type": "stream",
     "text": [
      "[CV 4/5] END learning_rate=0.05, max_depth=7, n_estimators=3000;, score=(train=0.897, test=0.897) total time=   2.8s\n"
     ]
    },
    {
     "name": "stderr",
     "output_type": "stream",
     "text": [
      "C:\\Python310\\lib\\site-packages\\xgboost\\sklearn.py:1395: UserWarning:\n",
      "\n",
      "`use_label_encoder` is deprecated in 1.7.0.\n",
      "\n"
     ]
    },
    {
     "name": "stdout",
     "output_type": "stream",
     "text": [
      "[CV 5/5] END learning_rate=0.05, max_depth=7, n_estimators=3000;, score=(train=0.885, test=0.885) total time=   2.8s\n"
     ]
    },
    {
     "name": "stderr",
     "output_type": "stream",
     "text": [
      "C:\\Python310\\lib\\site-packages\\xgboost\\sklearn.py:1395: UserWarning:\n",
      "\n",
      "`use_label_encoder` is deprecated in 1.7.0.\n",
      "\n"
     ]
    },
    {
     "name": "stdout",
     "output_type": "stream",
     "text": [
      "[CV 1/5] END learning_rate=0.05, max_depth=7, n_estimators=4000;, score=(train=0.914, test=0.914) total time=   3.6s\n"
     ]
    },
    {
     "name": "stderr",
     "output_type": "stream",
     "text": [
      "C:\\Python310\\lib\\site-packages\\xgboost\\sklearn.py:1395: UserWarning:\n",
      "\n",
      "`use_label_encoder` is deprecated in 1.7.0.\n",
      "\n"
     ]
    },
    {
     "name": "stdout",
     "output_type": "stream",
     "text": [
      "[CV 2/5] END learning_rate=0.05, max_depth=7, n_estimators=4000;, score=(train=0.883, test=0.883) total time=   3.5s\n"
     ]
    },
    {
     "name": "stderr",
     "output_type": "stream",
     "text": [
      "C:\\Python310\\lib\\site-packages\\xgboost\\sklearn.py:1395: UserWarning:\n",
      "\n",
      "`use_label_encoder` is deprecated in 1.7.0.\n",
      "\n"
     ]
    },
    {
     "name": "stdout",
     "output_type": "stream",
     "text": [
      "[CV 3/5] END learning_rate=0.05, max_depth=7, n_estimators=4000;, score=(train=0.920, test=0.920) total time=   3.6s\n"
     ]
    },
    {
     "name": "stderr",
     "output_type": "stream",
     "text": [
      "C:\\Python310\\lib\\site-packages\\xgboost\\sklearn.py:1395: UserWarning:\n",
      "\n",
      "`use_label_encoder` is deprecated in 1.7.0.\n",
      "\n"
     ]
    },
    {
     "name": "stdout",
     "output_type": "stream",
     "text": [
      "[CV 4/5] END learning_rate=0.05, max_depth=7, n_estimators=4000;, score=(train=0.897, test=0.897) total time=   3.7s\n"
     ]
    },
    {
     "name": "stderr",
     "output_type": "stream",
     "text": [
      "C:\\Python310\\lib\\site-packages\\xgboost\\sklearn.py:1395: UserWarning:\n",
      "\n",
      "`use_label_encoder` is deprecated in 1.7.0.\n",
      "\n"
     ]
    },
    {
     "name": "stdout",
     "output_type": "stream",
     "text": [
      "[CV 5/5] END learning_rate=0.05, max_depth=7, n_estimators=4000;, score=(train=0.885, test=0.885) total time=   3.6s\n"
     ]
    },
    {
     "name": "stderr",
     "output_type": "stream",
     "text": [
      "C:\\Python310\\lib\\site-packages\\xgboost\\sklearn.py:1395: UserWarning:\n",
      "\n",
      "`use_label_encoder` is deprecated in 1.7.0.\n",
      "\n"
     ]
    },
    {
     "name": "stdout",
     "output_type": "stream",
     "text": [
      "[CV 1/5] END learning_rate=0.05, max_depth=7, n_estimators=5000;, score=(train=0.904, test=0.904) total time=   4.4s\n"
     ]
    },
    {
     "name": "stderr",
     "output_type": "stream",
     "text": [
      "C:\\Python310\\lib\\site-packages\\xgboost\\sklearn.py:1395: UserWarning:\n",
      "\n",
      "`use_label_encoder` is deprecated in 1.7.0.\n",
      "\n"
     ]
    },
    {
     "name": "stdout",
     "output_type": "stream",
     "text": [
      "[CV 2/5] END learning_rate=0.05, max_depth=7, n_estimators=5000;, score=(train=0.891, test=0.891) total time=   4.3s\n"
     ]
    },
    {
     "name": "stderr",
     "output_type": "stream",
     "text": [
      "C:\\Python310\\lib\\site-packages\\xgboost\\sklearn.py:1395: UserWarning:\n",
      "\n",
      "`use_label_encoder` is deprecated in 1.7.0.\n",
      "\n"
     ]
    },
    {
     "name": "stdout",
     "output_type": "stream",
     "text": [
      "[CV 3/5] END learning_rate=0.05, max_depth=7, n_estimators=5000;, score=(train=0.920, test=0.920) total time=   4.4s\n"
     ]
    },
    {
     "name": "stderr",
     "output_type": "stream",
     "text": [
      "C:\\Python310\\lib\\site-packages\\xgboost\\sklearn.py:1395: UserWarning:\n",
      "\n",
      "`use_label_encoder` is deprecated in 1.7.0.\n",
      "\n"
     ]
    },
    {
     "name": "stdout",
     "output_type": "stream",
     "text": [
      "[CV 4/5] END learning_rate=0.05, max_depth=7, n_estimators=5000;, score=(train=0.897, test=0.897) total time=   4.5s\n"
     ]
    },
    {
     "name": "stderr",
     "output_type": "stream",
     "text": [
      "C:\\Python310\\lib\\site-packages\\xgboost\\sklearn.py:1395: UserWarning:\n",
      "\n",
      "`use_label_encoder` is deprecated in 1.7.0.\n",
      "\n"
     ]
    },
    {
     "name": "stdout",
     "output_type": "stream",
     "text": [
      "[CV 5/5] END learning_rate=0.05, max_depth=7, n_estimators=5000;, score=(train=0.885, test=0.885) total time=   4.3s\n"
     ]
    },
    {
     "name": "stderr",
     "output_type": "stream",
     "text": [
      "C:\\Python310\\lib\\site-packages\\xgboost\\sklearn.py:1395: UserWarning:\n",
      "\n",
      "`use_label_encoder` is deprecated in 1.7.0.\n",
      "\n"
     ]
    },
    {
     "name": "stdout",
     "output_type": "stream",
     "text": [
      "[CV 1/5] END learning_rate=0.1, max_depth=2, n_estimators=1000;, score=(train=0.897, test=0.897) total time=   0.7s\n"
     ]
    },
    {
     "name": "stderr",
     "output_type": "stream",
     "text": [
      "C:\\Python310\\lib\\site-packages\\xgboost\\sklearn.py:1395: UserWarning:\n",
      "\n",
      "`use_label_encoder` is deprecated in 1.7.0.\n",
      "\n"
     ]
    },
    {
     "name": "stdout",
     "output_type": "stream",
     "text": [
      "[CV 2/5] END learning_rate=0.1, max_depth=2, n_estimators=1000;, score=(train=0.938, test=0.938) total time=   0.7s\n"
     ]
    },
    {
     "name": "stderr",
     "output_type": "stream",
     "text": [
      "C:\\Python310\\lib\\site-packages\\xgboost\\sklearn.py:1395: UserWarning:\n",
      "\n",
      "`use_label_encoder` is deprecated in 1.7.0.\n",
      "\n"
     ]
    },
    {
     "name": "stdout",
     "output_type": "stream",
     "text": [
      "[CV 3/5] END learning_rate=0.1, max_depth=2, n_estimators=1000;, score=(train=0.920, test=0.920) total time=   0.7s\n"
     ]
    },
    {
     "name": "stderr",
     "output_type": "stream",
     "text": [
      "C:\\Python310\\lib\\site-packages\\xgboost\\sklearn.py:1395: UserWarning:\n",
      "\n",
      "`use_label_encoder` is deprecated in 1.7.0.\n",
      "\n"
     ]
    },
    {
     "name": "stdout",
     "output_type": "stream",
     "text": [
      "[CV 4/5] END learning_rate=0.1, max_depth=2, n_estimators=1000;, score=(train=0.931, test=0.931) total time=   0.7s\n"
     ]
    },
    {
     "name": "stderr",
     "output_type": "stream",
     "text": [
      "C:\\Python310\\lib\\site-packages\\xgboost\\sklearn.py:1395: UserWarning:\n",
      "\n",
      "`use_label_encoder` is deprecated in 1.7.0.\n",
      "\n"
     ]
    },
    {
     "name": "stdout",
     "output_type": "stream",
     "text": [
      "[CV 5/5] END learning_rate=0.1, max_depth=2, n_estimators=1000;, score=(train=0.914, test=0.914) total time=   0.8s\n"
     ]
    },
    {
     "name": "stderr",
     "output_type": "stream",
     "text": [
      "C:\\Python310\\lib\\site-packages\\xgboost\\sklearn.py:1395: UserWarning:\n",
      "\n",
      "`use_label_encoder` is deprecated in 1.7.0.\n",
      "\n"
     ]
    },
    {
     "name": "stdout",
     "output_type": "stream",
     "text": [
      "[CV 1/5] END learning_rate=0.1, max_depth=2, n_estimators=2000;, score=(train=0.906, test=0.906) total time=   1.6s\n"
     ]
    },
    {
     "name": "stderr",
     "output_type": "stream",
     "text": [
      "C:\\Python310\\lib\\site-packages\\xgboost\\sklearn.py:1395: UserWarning:\n",
      "\n",
      "`use_label_encoder` is deprecated in 1.7.0.\n",
      "\n"
     ]
    },
    {
     "name": "stdout",
     "output_type": "stream",
     "text": [
      "[CV 2/5] END learning_rate=0.1, max_depth=2, n_estimators=2000;, score=(train=0.920, test=0.920) total time=   1.5s\n"
     ]
    },
    {
     "name": "stderr",
     "output_type": "stream",
     "text": [
      "C:\\Python310\\lib\\site-packages\\xgboost\\sklearn.py:1395: UserWarning:\n",
      "\n",
      "`use_label_encoder` is deprecated in 1.7.0.\n",
      "\n"
     ]
    },
    {
     "name": "stdout",
     "output_type": "stream",
     "text": [
      "[CV 3/5] END learning_rate=0.1, max_depth=2, n_estimators=2000;, score=(train=0.911, test=0.911) total time=   1.6s\n"
     ]
    },
    {
     "name": "stderr",
     "output_type": "stream",
     "text": [
      "C:\\Python310\\lib\\site-packages\\xgboost\\sklearn.py:1395: UserWarning:\n",
      "\n",
      "`use_label_encoder` is deprecated in 1.7.0.\n",
      "\n"
     ]
    },
    {
     "name": "stdout",
     "output_type": "stream",
     "text": [
      "[CV 4/5] END learning_rate=0.1, max_depth=2, n_estimators=2000;, score=(train=0.922, test=0.922) total time=   1.6s\n"
     ]
    },
    {
     "name": "stderr",
     "output_type": "stream",
     "text": [
      "C:\\Python310\\lib\\site-packages\\xgboost\\sklearn.py:1395: UserWarning:\n",
      "\n",
      "`use_label_encoder` is deprecated in 1.7.0.\n",
      "\n"
     ]
    },
    {
     "name": "stdout",
     "output_type": "stream",
     "text": [
      "[CV 5/5] END learning_rate=0.1, max_depth=2, n_estimators=2000;, score=(train=0.914, test=0.914) total time=   1.6s\n"
     ]
    },
    {
     "name": "stderr",
     "output_type": "stream",
     "text": [
      "C:\\Python310\\lib\\site-packages\\xgboost\\sklearn.py:1395: UserWarning:\n",
      "\n",
      "`use_label_encoder` is deprecated in 1.7.0.\n",
      "\n"
     ]
    },
    {
     "name": "stdout",
     "output_type": "stream",
     "text": [
      "[CV 1/5] END learning_rate=0.1, max_depth=2, n_estimators=3000;, score=(train=0.922, test=0.922) total time=   2.3s\n"
     ]
    },
    {
     "name": "stderr",
     "output_type": "stream",
     "text": [
      "C:\\Python310\\lib\\site-packages\\xgboost\\sklearn.py:1395: UserWarning:\n",
      "\n",
      "`use_label_encoder` is deprecated in 1.7.0.\n",
      "\n"
     ]
    },
    {
     "name": "stdout",
     "output_type": "stream",
     "text": [
      "[CV 2/5] END learning_rate=0.1, max_depth=2, n_estimators=3000;, score=(train=0.920, test=0.920) total time=   2.3s\n"
     ]
    },
    {
     "name": "stderr",
     "output_type": "stream",
     "text": [
      "C:\\Python310\\lib\\site-packages\\xgboost\\sklearn.py:1395: UserWarning:\n",
      "\n",
      "`use_label_encoder` is deprecated in 1.7.0.\n",
      "\n"
     ]
    },
    {
     "name": "stdout",
     "output_type": "stream",
     "text": [
      "[CV 3/5] END learning_rate=0.1, max_depth=2, n_estimators=3000;, score=(train=0.911, test=0.911) total time=   2.3s\n"
     ]
    },
    {
     "name": "stderr",
     "output_type": "stream",
     "text": [
      "C:\\Python310\\lib\\site-packages\\xgboost\\sklearn.py:1395: UserWarning:\n",
      "\n",
      "`use_label_encoder` is deprecated in 1.7.0.\n",
      "\n"
     ]
    },
    {
     "name": "stdout",
     "output_type": "stream",
     "text": [
      "[CV 4/5] END learning_rate=0.1, max_depth=2, n_estimators=3000;, score=(train=0.903, test=0.903) total time=   2.3s\n"
     ]
    },
    {
     "name": "stderr",
     "output_type": "stream",
     "text": [
      "C:\\Python310\\lib\\site-packages\\xgboost\\sklearn.py:1395: UserWarning:\n",
      "\n",
      "`use_label_encoder` is deprecated in 1.7.0.\n",
      "\n"
     ]
    },
    {
     "name": "stdout",
     "output_type": "stream",
     "text": [
      "[CV 5/5] END learning_rate=0.1, max_depth=2, n_estimators=3000;, score=(train=0.914, test=0.914) total time=   2.3s\n"
     ]
    },
    {
     "name": "stderr",
     "output_type": "stream",
     "text": [
      "C:\\Python310\\lib\\site-packages\\xgboost\\sklearn.py:1395: UserWarning:\n",
      "\n",
      "`use_label_encoder` is deprecated in 1.7.0.\n",
      "\n"
     ]
    },
    {
     "name": "stdout",
     "output_type": "stream",
     "text": [
      "[CV 1/5] END learning_rate=0.1, max_depth=2, n_estimators=4000;, score=(train=0.906, test=0.906) total time=   3.1s\n"
     ]
    },
    {
     "name": "stderr",
     "output_type": "stream",
     "text": [
      "C:\\Python310\\lib\\site-packages\\xgboost\\sklearn.py:1395: UserWarning:\n",
      "\n",
      "`use_label_encoder` is deprecated in 1.7.0.\n",
      "\n"
     ]
    },
    {
     "name": "stdout",
     "output_type": "stream",
     "text": [
      "[CV 2/5] END learning_rate=0.1, max_depth=2, n_estimators=4000;, score=(train=0.911, test=0.911) total time=   3.0s\n"
     ]
    },
    {
     "name": "stderr",
     "output_type": "stream",
     "text": [
      "C:\\Python310\\lib\\site-packages\\xgboost\\sklearn.py:1395: UserWarning:\n",
      "\n",
      "`use_label_encoder` is deprecated in 1.7.0.\n",
      "\n"
     ]
    },
    {
     "name": "stdout",
     "output_type": "stream",
     "text": [
      "[CV 3/5] END learning_rate=0.1, max_depth=2, n_estimators=4000;, score=(train=0.911, test=0.911) total time=   3.1s\n"
     ]
    },
    {
     "name": "stderr",
     "output_type": "stream",
     "text": [
      "C:\\Python310\\lib\\site-packages\\xgboost\\sklearn.py:1395: UserWarning:\n",
      "\n",
      "`use_label_encoder` is deprecated in 1.7.0.\n",
      "\n"
     ]
    },
    {
     "name": "stdout",
     "output_type": "stream",
     "text": [
      "[CV 4/5] END learning_rate=0.1, max_depth=2, n_estimators=4000;, score=(train=0.912, test=0.912) total time=   3.1s\n"
     ]
    },
    {
     "name": "stderr",
     "output_type": "stream",
     "text": [
      "C:\\Python310\\lib\\site-packages\\xgboost\\sklearn.py:1395: UserWarning:\n",
      "\n",
      "`use_label_encoder` is deprecated in 1.7.0.\n",
      "\n"
     ]
    },
    {
     "name": "stdout",
     "output_type": "stream",
     "text": [
      "[CV 5/5] END learning_rate=0.1, max_depth=2, n_estimators=4000;, score=(train=0.914, test=0.914) total time=   3.1s\n"
     ]
    },
    {
     "name": "stderr",
     "output_type": "stream",
     "text": [
      "C:\\Python310\\lib\\site-packages\\xgboost\\sklearn.py:1395: UserWarning:\n",
      "\n",
      "`use_label_encoder` is deprecated in 1.7.0.\n",
      "\n"
     ]
    },
    {
     "name": "stdout",
     "output_type": "stream",
     "text": [
      "[CV 1/5] END learning_rate=0.1, max_depth=2, n_estimators=5000;, score=(train=0.906, test=0.906) total time=   3.8s\n"
     ]
    },
    {
     "name": "stderr",
     "output_type": "stream",
     "text": [
      "C:\\Python310\\lib\\site-packages\\xgboost\\sklearn.py:1395: UserWarning:\n",
      "\n",
      "`use_label_encoder` is deprecated in 1.7.0.\n",
      "\n"
     ]
    },
    {
     "name": "stdout",
     "output_type": "stream",
     "text": [
      "[CV 2/5] END learning_rate=0.1, max_depth=2, n_estimators=5000;, score=(train=0.911, test=0.911) total time=   3.8s\n"
     ]
    },
    {
     "name": "stderr",
     "output_type": "stream",
     "text": [
      "C:\\Python310\\lib\\site-packages\\xgboost\\sklearn.py:1395: UserWarning:\n",
      "\n",
      "`use_label_encoder` is deprecated in 1.7.0.\n",
      "\n"
     ]
    },
    {
     "name": "stdout",
     "output_type": "stream",
     "text": [
      "[CV 3/5] END learning_rate=0.1, max_depth=2, n_estimators=5000;, score=(train=0.911, test=0.911) total time=   3.8s\n"
     ]
    },
    {
     "name": "stderr",
     "output_type": "stream",
     "text": [
      "C:\\Python310\\lib\\site-packages\\xgboost\\sklearn.py:1395: UserWarning:\n",
      "\n",
      "`use_label_encoder` is deprecated in 1.7.0.\n",
      "\n"
     ]
    },
    {
     "name": "stdout",
     "output_type": "stream",
     "text": [
      "[CV 4/5] END learning_rate=0.1, max_depth=2, n_estimators=5000;, score=(train=0.897, test=0.897) total time=   3.8s\n"
     ]
    },
    {
     "name": "stderr",
     "output_type": "stream",
     "text": [
      "C:\\Python310\\lib\\site-packages\\xgboost\\sklearn.py:1395: UserWarning:\n",
      "\n",
      "`use_label_encoder` is deprecated in 1.7.0.\n",
      "\n"
     ]
    },
    {
     "name": "stdout",
     "output_type": "stream",
     "text": [
      "[CV 5/5] END learning_rate=0.1, max_depth=2, n_estimators=5000;, score=(train=0.914, test=0.914) total time=   3.8s\n"
     ]
    },
    {
     "name": "stderr",
     "output_type": "stream",
     "text": [
      "C:\\Python310\\lib\\site-packages\\xgboost\\sklearn.py:1395: UserWarning:\n",
      "\n",
      "`use_label_encoder` is deprecated in 1.7.0.\n",
      "\n"
     ]
    },
    {
     "name": "stdout",
     "output_type": "stream",
     "text": [
      "[CV 1/5] END learning_rate=0.1, max_depth=3, n_estimators=1000;, score=(train=0.923, test=0.923) total time=   0.8s\n"
     ]
    },
    {
     "name": "stderr",
     "output_type": "stream",
     "text": [
      "C:\\Python310\\lib\\site-packages\\xgboost\\sklearn.py:1395: UserWarning:\n",
      "\n",
      "`use_label_encoder` is deprecated in 1.7.0.\n",
      "\n"
     ]
    },
    {
     "name": "stdout",
     "output_type": "stream",
     "text": [
      "[CV 2/5] END learning_rate=0.1, max_depth=3, n_estimators=1000;, score=(train=0.920, test=0.920) total time=   0.8s\n"
     ]
    },
    {
     "name": "stderr",
     "output_type": "stream",
     "text": [
      "C:\\Python310\\lib\\site-packages\\xgboost\\sklearn.py:1395: UserWarning:\n",
      "\n",
      "`use_label_encoder` is deprecated in 1.7.0.\n",
      "\n"
     ]
    },
    {
     "name": "stdout",
     "output_type": "stream",
     "text": [
      "[CV 3/5] END learning_rate=0.1, max_depth=3, n_estimators=1000;, score=(train=0.930, test=0.930) total time=   0.8s\n"
     ]
    },
    {
     "name": "stderr",
     "output_type": "stream",
     "text": [
      "C:\\Python310\\lib\\site-packages\\xgboost\\sklearn.py:1395: UserWarning:\n",
      "\n",
      "`use_label_encoder` is deprecated in 1.7.0.\n",
      "\n"
     ]
    },
    {
     "name": "stdout",
     "output_type": "stream",
     "text": [
      "[CV 4/5] END learning_rate=0.1, max_depth=3, n_estimators=1000;, score=(train=0.920, test=0.920) total time=   0.9s\n"
     ]
    },
    {
     "name": "stderr",
     "output_type": "stream",
     "text": [
      "C:\\Python310\\lib\\site-packages\\xgboost\\sklearn.py:1395: UserWarning:\n",
      "\n",
      "`use_label_encoder` is deprecated in 1.7.0.\n",
      "\n"
     ]
    },
    {
     "name": "stdout",
     "output_type": "stream",
     "text": [
      "[CV 5/5] END learning_rate=0.1, max_depth=3, n_estimators=1000;, score=(train=0.904, test=0.904) total time=   0.8s\n"
     ]
    },
    {
     "name": "stderr",
     "output_type": "stream",
     "text": [
      "C:\\Python310\\lib\\site-packages\\xgboost\\sklearn.py:1395: UserWarning:\n",
      "\n",
      "`use_label_encoder` is deprecated in 1.7.0.\n",
      "\n"
     ]
    },
    {
     "name": "stdout",
     "output_type": "stream",
     "text": [
      "[CV 1/5] END learning_rate=0.1, max_depth=3, n_estimators=2000;, score=(train=0.914, test=0.914) total time=   1.7s\n"
     ]
    },
    {
     "name": "stderr",
     "output_type": "stream",
     "text": [
      "C:\\Python310\\lib\\site-packages\\xgboost\\sklearn.py:1395: UserWarning:\n",
      "\n",
      "`use_label_encoder` is deprecated in 1.7.0.\n",
      "\n"
     ]
    },
    {
     "name": "stdout",
     "output_type": "stream",
     "text": [
      "[CV 2/5] END learning_rate=0.1, max_depth=3, n_estimators=2000;, score=(train=0.920, test=0.920) total time=   1.7s\n"
     ]
    },
    {
     "name": "stderr",
     "output_type": "stream",
     "text": [
      "C:\\Python310\\lib\\site-packages\\xgboost\\sklearn.py:1395: UserWarning:\n",
      "\n",
      "`use_label_encoder` is deprecated in 1.7.0.\n",
      "\n"
     ]
    },
    {
     "name": "stdout",
     "output_type": "stream",
     "text": [
      "[CV 3/5] END learning_rate=0.1, max_depth=3, n_estimators=2000;, score=(train=0.930, test=0.930) total time=   1.7s\n"
     ]
    },
    {
     "name": "stderr",
     "output_type": "stream",
     "text": [
      "C:\\Python310\\lib\\site-packages\\xgboost\\sklearn.py:1395: UserWarning:\n",
      "\n",
      "`use_label_encoder` is deprecated in 1.7.0.\n",
      "\n"
     ]
    },
    {
     "name": "stdout",
     "output_type": "stream",
     "text": [
      "[CV 4/5] END learning_rate=0.1, max_depth=3, n_estimators=2000;, score=(train=0.922, test=0.922) total time=   1.7s\n"
     ]
    },
    {
     "name": "stderr",
     "output_type": "stream",
     "text": [
      "C:\\Python310\\lib\\site-packages\\xgboost\\sklearn.py:1395: UserWarning:\n",
      "\n",
      "`use_label_encoder` is deprecated in 1.7.0.\n",
      "\n"
     ]
    },
    {
     "name": "stdout",
     "output_type": "stream",
     "text": [
      "[CV 5/5] END learning_rate=0.1, max_depth=3, n_estimators=2000;, score=(train=0.895, test=0.895) total time=   1.7s\n"
     ]
    },
    {
     "name": "stderr",
     "output_type": "stream",
     "text": [
      "C:\\Python310\\lib\\site-packages\\xgboost\\sklearn.py:1395: UserWarning:\n",
      "\n",
      "`use_label_encoder` is deprecated in 1.7.0.\n",
      "\n"
     ]
    },
    {
     "name": "stdout",
     "output_type": "stream",
     "text": [
      "[CV 1/5] END learning_rate=0.1, max_depth=3, n_estimators=3000;, score=(train=0.914, test=0.914) total time=   2.4s\n"
     ]
    },
    {
     "name": "stderr",
     "output_type": "stream",
     "text": [
      "C:\\Python310\\lib\\site-packages\\xgboost\\sklearn.py:1395: UserWarning:\n",
      "\n",
      "`use_label_encoder` is deprecated in 1.7.0.\n",
      "\n"
     ]
    },
    {
     "name": "stdout",
     "output_type": "stream",
     "text": [
      "[CV 2/5] END learning_rate=0.1, max_depth=3, n_estimators=3000;, score=(train=0.911, test=0.911) total time=   2.4s\n"
     ]
    },
    {
     "name": "stderr",
     "output_type": "stream",
     "text": [
      "C:\\Python310\\lib\\site-packages\\xgboost\\sklearn.py:1395: UserWarning:\n",
      "\n",
      "`use_label_encoder` is deprecated in 1.7.0.\n",
      "\n"
     ]
    },
    {
     "name": "stdout",
     "output_type": "stream",
     "text": [
      "[CV 3/5] END learning_rate=0.1, max_depth=3, n_estimators=3000;, score=(train=0.922, test=0.922) total time=   2.4s\n"
     ]
    },
    {
     "name": "stderr",
     "output_type": "stream",
     "text": [
      "C:\\Python310\\lib\\site-packages\\xgboost\\sklearn.py:1395: UserWarning:\n",
      "\n",
      "`use_label_encoder` is deprecated in 1.7.0.\n",
      "\n"
     ]
    },
    {
     "name": "stdout",
     "output_type": "stream",
     "text": [
      "[CV 4/5] END learning_rate=0.1, max_depth=3, n_estimators=3000;, score=(train=0.914, test=0.914) total time=   2.4s\n"
     ]
    },
    {
     "name": "stderr",
     "output_type": "stream",
     "text": [
      "C:\\Python310\\lib\\site-packages\\xgboost\\sklearn.py:1395: UserWarning:\n",
      "\n",
      "`use_label_encoder` is deprecated in 1.7.0.\n",
      "\n"
     ]
    },
    {
     "name": "stdout",
     "output_type": "stream",
     "text": [
      "[CV 5/5] END learning_rate=0.1, max_depth=3, n_estimators=3000;, score=(train=0.895, test=0.895) total time=   2.4s\n"
     ]
    },
    {
     "name": "stderr",
     "output_type": "stream",
     "text": [
      "C:\\Python310\\lib\\site-packages\\xgboost\\sklearn.py:1395: UserWarning:\n",
      "\n",
      "`use_label_encoder` is deprecated in 1.7.0.\n",
      "\n"
     ]
    },
    {
     "name": "stdout",
     "output_type": "stream",
     "text": [
      "[CV 1/5] END learning_rate=0.1, max_depth=3, n_estimators=4000;, score=(train=0.914, test=0.914) total time=   3.2s\n"
     ]
    },
    {
     "name": "stderr",
     "output_type": "stream",
     "text": [
      "C:\\Python310\\lib\\site-packages\\xgboost\\sklearn.py:1395: UserWarning:\n",
      "\n",
      "`use_label_encoder` is deprecated in 1.7.0.\n",
      "\n"
     ]
    },
    {
     "name": "stdout",
     "output_type": "stream",
     "text": [
      "[CV 2/5] END learning_rate=0.1, max_depth=3, n_estimators=4000;, score=(train=0.911, test=0.911) total time=   3.1s\n"
     ]
    },
    {
     "name": "stderr",
     "output_type": "stream",
     "text": [
      "C:\\Python310\\lib\\site-packages\\xgboost\\sklearn.py:1395: UserWarning:\n",
      "\n",
      "`use_label_encoder` is deprecated in 1.7.0.\n",
      "\n"
     ]
    },
    {
     "name": "stdout",
     "output_type": "stream",
     "text": [
      "[CV 3/5] END learning_rate=0.1, max_depth=3, n_estimators=4000;, score=(train=0.922, test=0.922) total time=   3.2s\n"
     ]
    },
    {
     "name": "stderr",
     "output_type": "stream",
     "text": [
      "C:\\Python310\\lib\\site-packages\\xgboost\\sklearn.py:1395: UserWarning:\n",
      "\n",
      "`use_label_encoder` is deprecated in 1.7.0.\n",
      "\n"
     ]
    },
    {
     "name": "stdout",
     "output_type": "stream",
     "text": [
      "[CV 4/5] END learning_rate=0.1, max_depth=3, n_estimators=4000;, score=(train=0.904, test=0.904) total time=   3.2s\n"
     ]
    },
    {
     "name": "stderr",
     "output_type": "stream",
     "text": [
      "C:\\Python310\\lib\\site-packages\\xgboost\\sklearn.py:1395: UserWarning:\n",
      "\n",
      "`use_label_encoder` is deprecated in 1.7.0.\n",
      "\n"
     ]
    },
    {
     "name": "stdout",
     "output_type": "stream",
     "text": [
      "[CV 5/5] END learning_rate=0.1, max_depth=3, n_estimators=4000;, score=(train=0.895, test=0.895) total time=   3.1s\n"
     ]
    },
    {
     "name": "stderr",
     "output_type": "stream",
     "text": [
      "C:\\Python310\\lib\\site-packages\\xgboost\\sklearn.py:1395: UserWarning:\n",
      "\n",
      "`use_label_encoder` is deprecated in 1.7.0.\n",
      "\n"
     ]
    },
    {
     "name": "stdout",
     "output_type": "stream",
     "text": [
      "[CV 1/5] END learning_rate=0.1, max_depth=3, n_estimators=5000;, score=(train=0.922, test=0.922) total time=   4.0s\n"
     ]
    },
    {
     "name": "stderr",
     "output_type": "stream",
     "text": [
      "C:\\Python310\\lib\\site-packages\\xgboost\\sklearn.py:1395: UserWarning:\n",
      "\n",
      "`use_label_encoder` is deprecated in 1.7.0.\n",
      "\n"
     ]
    },
    {
     "name": "stdout",
     "output_type": "stream",
     "text": [
      "[CV 2/5] END learning_rate=0.1, max_depth=3, n_estimators=5000;, score=(train=0.901, test=0.901) total time=   3.9s\n"
     ]
    },
    {
     "name": "stderr",
     "output_type": "stream",
     "text": [
      "C:\\Python310\\lib\\site-packages\\xgboost\\sklearn.py:1395: UserWarning:\n",
      "\n",
      "`use_label_encoder` is deprecated in 1.7.0.\n",
      "\n"
     ]
    },
    {
     "name": "stdout",
     "output_type": "stream",
     "text": [
      "[CV 3/5] END learning_rate=0.1, max_depth=3, n_estimators=5000;, score=(train=0.922, test=0.922) total time=   3.9s\n"
     ]
    },
    {
     "name": "stderr",
     "output_type": "stream",
     "text": [
      "C:\\Python310\\lib\\site-packages\\xgboost\\sklearn.py:1395: UserWarning:\n",
      "\n",
      "`use_label_encoder` is deprecated in 1.7.0.\n",
      "\n"
     ]
    },
    {
     "name": "stdout",
     "output_type": "stream",
     "text": [
      "[CV 4/5] END learning_rate=0.1, max_depth=3, n_estimators=5000;, score=(train=0.904, test=0.904) total time=   4.0s\n"
     ]
    },
    {
     "name": "stderr",
     "output_type": "stream",
     "text": [
      "C:\\Python310\\lib\\site-packages\\xgboost\\sklearn.py:1395: UserWarning:\n",
      "\n",
      "`use_label_encoder` is deprecated in 1.7.0.\n",
      "\n"
     ]
    },
    {
     "name": "stdout",
     "output_type": "stream",
     "text": [
      "[CV 5/5] END learning_rate=0.1, max_depth=3, n_estimators=5000;, score=(train=0.904, test=0.904) total time=   3.9s\n"
     ]
    },
    {
     "name": "stderr",
     "output_type": "stream",
     "text": [
      "C:\\Python310\\lib\\site-packages\\xgboost\\sklearn.py:1395: UserWarning:\n",
      "\n",
      "`use_label_encoder` is deprecated in 1.7.0.\n",
      "\n"
     ]
    },
    {
     "name": "stdout",
     "output_type": "stream",
     "text": [
      "[CV 1/5] END learning_rate=0.1, max_depth=5, n_estimators=1000;, score=(train=0.923, test=0.923) total time=   0.9s\n"
     ]
    },
    {
     "name": "stderr",
     "output_type": "stream",
     "text": [
      "C:\\Python310\\lib\\site-packages\\xgboost\\sklearn.py:1395: UserWarning:\n",
      "\n",
      "`use_label_encoder` is deprecated in 1.7.0.\n",
      "\n"
     ]
    },
    {
     "name": "stdout",
     "output_type": "stream",
     "text": [
      "[CV 2/5] END learning_rate=0.1, max_depth=5, n_estimators=1000;, score=(train=0.901, test=0.901) total time=   0.9s\n"
     ]
    },
    {
     "name": "stderr",
     "output_type": "stream",
     "text": [
      "C:\\Python310\\lib\\site-packages\\xgboost\\sklearn.py:1395: UserWarning:\n",
      "\n",
      "`use_label_encoder` is deprecated in 1.7.0.\n",
      "\n"
     ]
    },
    {
     "name": "stdout",
     "output_type": "stream",
     "text": [
      "[CV 3/5] END learning_rate=0.1, max_depth=5, n_estimators=1000;, score=(train=0.920, test=0.920) total time=   0.9s\n"
     ]
    },
    {
     "name": "stderr",
     "output_type": "stream",
     "text": [
      "C:\\Python310\\lib\\site-packages\\xgboost\\sklearn.py:1395: UserWarning:\n",
      "\n",
      "`use_label_encoder` is deprecated in 1.7.0.\n",
      "\n"
     ]
    },
    {
     "name": "stdout",
     "output_type": "stream",
     "text": [
      "[CV 4/5] END learning_rate=0.1, max_depth=5, n_estimators=1000;, score=(train=0.904, test=0.904) total time=   0.9s\n"
     ]
    },
    {
     "name": "stderr",
     "output_type": "stream",
     "text": [
      "C:\\Python310\\lib\\site-packages\\xgboost\\sklearn.py:1395: UserWarning:\n",
      "\n",
      "`use_label_encoder` is deprecated in 1.7.0.\n",
      "\n"
     ]
    },
    {
     "name": "stdout",
     "output_type": "stream",
     "text": [
      "[CV 5/5] END learning_rate=0.1, max_depth=5, n_estimators=1000;, score=(train=0.895, test=0.895) total time=   0.9s\n"
     ]
    },
    {
     "name": "stderr",
     "output_type": "stream",
     "text": [
      "C:\\Python310\\lib\\site-packages\\xgboost\\sklearn.py:1395: UserWarning:\n",
      "\n",
      "`use_label_encoder` is deprecated in 1.7.0.\n",
      "\n"
     ]
    },
    {
     "name": "stdout",
     "output_type": "stream",
     "text": [
      "[CV 1/5] END learning_rate=0.1, max_depth=5, n_estimators=2000;, score=(train=0.904, test=0.904) total time=   1.7s\n"
     ]
    },
    {
     "name": "stderr",
     "output_type": "stream",
     "text": [
      "C:\\Python310\\lib\\site-packages\\xgboost\\sklearn.py:1395: UserWarning:\n",
      "\n",
      "`use_label_encoder` is deprecated in 1.7.0.\n",
      "\n"
     ]
    },
    {
     "name": "stdout",
     "output_type": "stream",
     "text": [
      "[CV 2/5] END learning_rate=0.1, max_depth=5, n_estimators=2000;, score=(train=0.901, test=0.901) total time=   1.7s\n"
     ]
    },
    {
     "name": "stderr",
     "output_type": "stream",
     "text": [
      "C:\\Python310\\lib\\site-packages\\xgboost\\sklearn.py:1395: UserWarning:\n",
      "\n",
      "`use_label_encoder` is deprecated in 1.7.0.\n",
      "\n"
     ]
    },
    {
     "name": "stdout",
     "output_type": "stream",
     "text": [
      "[CV 3/5] END learning_rate=0.1, max_depth=5, n_estimators=2000;, score=(train=0.911, test=0.911) total time=   1.7s\n"
     ]
    },
    {
     "name": "stderr",
     "output_type": "stream",
     "text": [
      "C:\\Python310\\lib\\site-packages\\xgboost\\sklearn.py:1395: UserWarning:\n",
      "\n",
      "`use_label_encoder` is deprecated in 1.7.0.\n",
      "\n"
     ]
    },
    {
     "name": "stdout",
     "output_type": "stream",
     "text": [
      "[CV 4/5] END learning_rate=0.1, max_depth=5, n_estimators=2000;, score=(train=0.914, test=0.914) total time=   1.8s\n"
     ]
    },
    {
     "name": "stderr",
     "output_type": "stream",
     "text": [
      "C:\\Python310\\lib\\site-packages\\xgboost\\sklearn.py:1395: UserWarning:\n",
      "\n",
      "`use_label_encoder` is deprecated in 1.7.0.\n",
      "\n"
     ]
    },
    {
     "name": "stdout",
     "output_type": "stream",
     "text": [
      "[CV 5/5] END learning_rate=0.1, max_depth=5, n_estimators=2000;, score=(train=0.885, test=0.885) total time=   1.7s\n"
     ]
    },
    {
     "name": "stderr",
     "output_type": "stream",
     "text": [
      "C:\\Python310\\lib\\site-packages\\xgboost\\sklearn.py:1395: UserWarning:\n",
      "\n",
      "`use_label_encoder` is deprecated in 1.7.0.\n",
      "\n"
     ]
    },
    {
     "name": "stdout",
     "output_type": "stream",
     "text": [
      "[CV 1/5] END learning_rate=0.1, max_depth=5, n_estimators=3000;, score=(train=0.914, test=0.914) total time=   2.5s\n"
     ]
    },
    {
     "name": "stderr",
     "output_type": "stream",
     "text": [
      "C:\\Python310\\lib\\site-packages\\xgboost\\sklearn.py:1395: UserWarning:\n",
      "\n",
      "`use_label_encoder` is deprecated in 1.7.0.\n",
      "\n"
     ]
    },
    {
     "name": "stdout",
     "output_type": "stream",
     "text": [
      "[CV 2/5] END learning_rate=0.1, max_depth=5, n_estimators=3000;, score=(train=0.901, test=0.901) total time=   2.4s\n"
     ]
    },
    {
     "name": "stderr",
     "output_type": "stream",
     "text": [
      "C:\\Python310\\lib\\site-packages\\xgboost\\sklearn.py:1395: UserWarning:\n",
      "\n",
      "`use_label_encoder` is deprecated in 1.7.0.\n",
      "\n"
     ]
    },
    {
     "name": "stdout",
     "output_type": "stream",
     "text": [
      "[CV 3/5] END learning_rate=0.1, max_depth=5, n_estimators=3000;, score=(train=0.911, test=0.911) total time=   2.5s\n"
     ]
    },
    {
     "name": "stderr",
     "output_type": "stream",
     "text": [
      "C:\\Python310\\lib\\site-packages\\xgboost\\sklearn.py:1395: UserWarning:\n",
      "\n",
      "`use_label_encoder` is deprecated in 1.7.0.\n",
      "\n"
     ]
    },
    {
     "name": "stdout",
     "output_type": "stream",
     "text": [
      "[CV 4/5] END learning_rate=0.1, max_depth=5, n_estimators=3000;, score=(train=0.904, test=0.904) total time=   2.5s\n"
     ]
    },
    {
     "name": "stderr",
     "output_type": "stream",
     "text": [
      "C:\\Python310\\lib\\site-packages\\xgboost\\sklearn.py:1395: UserWarning:\n",
      "\n",
      "`use_label_encoder` is deprecated in 1.7.0.\n",
      "\n"
     ]
    },
    {
     "name": "stdout",
     "output_type": "stream",
     "text": [
      "[CV 5/5] END learning_rate=0.1, max_depth=5, n_estimators=3000;, score=(train=0.885, test=0.885) total time=   2.5s\n"
     ]
    },
    {
     "name": "stderr",
     "output_type": "stream",
     "text": [
      "C:\\Python310\\lib\\site-packages\\xgboost\\sklearn.py:1395: UserWarning:\n",
      "\n",
      "`use_label_encoder` is deprecated in 1.7.0.\n",
      "\n"
     ]
    },
    {
     "name": "stdout",
     "output_type": "stream",
     "text": [
      "[CV 1/5] END learning_rate=0.1, max_depth=5, n_estimators=4000;, score=(train=0.904, test=0.904) total time=   3.2s\n"
     ]
    },
    {
     "name": "stderr",
     "output_type": "stream",
     "text": [
      "C:\\Python310\\lib\\site-packages\\xgboost\\sklearn.py:1395: UserWarning:\n",
      "\n",
      "`use_label_encoder` is deprecated in 1.7.0.\n",
      "\n"
     ]
    },
    {
     "name": "stdout",
     "output_type": "stream",
     "text": [
      "[CV 2/5] END learning_rate=0.1, max_depth=5, n_estimators=4000;, score=(train=0.891, test=0.891) total time=   3.2s\n"
     ]
    },
    {
     "name": "stderr",
     "output_type": "stream",
     "text": [
      "C:\\Python310\\lib\\site-packages\\xgboost\\sklearn.py:1395: UserWarning:\n",
      "\n",
      "`use_label_encoder` is deprecated in 1.7.0.\n",
      "\n"
     ]
    },
    {
     "name": "stdout",
     "output_type": "stream",
     "text": [
      "[CV 3/5] END learning_rate=0.1, max_depth=5, n_estimators=4000;, score=(train=0.911, test=0.911) total time=   3.3s\n"
     ]
    },
    {
     "name": "stderr",
     "output_type": "stream",
     "text": [
      "C:\\Python310\\lib\\site-packages\\xgboost\\sklearn.py:1395: UserWarning:\n",
      "\n",
      "`use_label_encoder` is deprecated in 1.7.0.\n",
      "\n"
     ]
    },
    {
     "name": "stdout",
     "output_type": "stream",
     "text": [
      "[CV 4/5] END learning_rate=0.1, max_depth=5, n_estimators=4000;, score=(train=0.904, test=0.904) total time=   3.3s\n"
     ]
    },
    {
     "name": "stderr",
     "output_type": "stream",
     "text": [
      "C:\\Python310\\lib\\site-packages\\xgboost\\sklearn.py:1395: UserWarning:\n",
      "\n",
      "`use_label_encoder` is deprecated in 1.7.0.\n",
      "\n"
     ]
    },
    {
     "name": "stdout",
     "output_type": "stream",
     "text": [
      "[CV 5/5] END learning_rate=0.1, max_depth=5, n_estimators=4000;, score=(train=0.885, test=0.885) total time=   3.2s\n"
     ]
    },
    {
     "name": "stderr",
     "output_type": "stream",
     "text": [
      "C:\\Python310\\lib\\site-packages\\xgboost\\sklearn.py:1395: UserWarning:\n",
      "\n",
      "`use_label_encoder` is deprecated in 1.7.0.\n",
      "\n"
     ]
    },
    {
     "name": "stdout",
     "output_type": "stream",
     "text": [
      "[CV 1/5] END learning_rate=0.1, max_depth=5, n_estimators=5000;, score=(train=0.904, test=0.904) total time=   4.0s\n"
     ]
    },
    {
     "name": "stderr",
     "output_type": "stream",
     "text": [
      "C:\\Python310\\lib\\site-packages\\xgboost\\sklearn.py:1395: UserWarning:\n",
      "\n",
      "`use_label_encoder` is deprecated in 1.7.0.\n",
      "\n"
     ]
    },
    {
     "name": "stdout",
     "output_type": "stream",
     "text": [
      "[CV 2/5] END learning_rate=0.1, max_depth=5, n_estimators=5000;, score=(train=0.881, test=0.881) total time=   3.9s\n"
     ]
    },
    {
     "name": "stderr",
     "output_type": "stream",
     "text": [
      "C:\\Python310\\lib\\site-packages\\xgboost\\sklearn.py:1395: UserWarning:\n",
      "\n",
      "`use_label_encoder` is deprecated in 1.7.0.\n",
      "\n"
     ]
    },
    {
     "name": "stdout",
     "output_type": "stream",
     "text": [
      "[CV 3/5] END learning_rate=0.1, max_depth=5, n_estimators=5000;, score=(train=0.911, test=0.911) total time=   4.0s\n"
     ]
    },
    {
     "name": "stderr",
     "output_type": "stream",
     "text": [
      "C:\\Python310\\lib\\site-packages\\xgboost\\sklearn.py:1395: UserWarning:\n",
      "\n",
      "`use_label_encoder` is deprecated in 1.7.0.\n",
      "\n"
     ]
    },
    {
     "name": "stdout",
     "output_type": "stream",
     "text": [
      "[CV 4/5] END learning_rate=0.1, max_depth=5, n_estimators=5000;, score=(train=0.904, test=0.904) total time=   4.0s\n"
     ]
    },
    {
     "name": "stderr",
     "output_type": "stream",
     "text": [
      "C:\\Python310\\lib\\site-packages\\xgboost\\sklearn.py:1395: UserWarning:\n",
      "\n",
      "`use_label_encoder` is deprecated in 1.7.0.\n",
      "\n"
     ]
    },
    {
     "name": "stdout",
     "output_type": "stream",
     "text": [
      "[CV 5/5] END learning_rate=0.1, max_depth=5, n_estimators=5000;, score=(train=0.885, test=0.885) total time=   3.9s\n"
     ]
    },
    {
     "name": "stderr",
     "output_type": "stream",
     "text": [
      "C:\\Python310\\lib\\site-packages\\xgboost\\sklearn.py:1395: UserWarning:\n",
      "\n",
      "`use_label_encoder` is deprecated in 1.7.0.\n",
      "\n"
     ]
    },
    {
     "name": "stdout",
     "output_type": "stream",
     "text": [
      "[CV 1/5] END learning_rate=0.1, max_depth=7, n_estimators=1000;, score=(train=0.930, test=0.930) total time=   0.9s\n"
     ]
    },
    {
     "name": "stderr",
     "output_type": "stream",
     "text": [
      "C:\\Python310\\lib\\site-packages\\xgboost\\sklearn.py:1395: UserWarning:\n",
      "\n",
      "`use_label_encoder` is deprecated in 1.7.0.\n",
      "\n"
     ]
    },
    {
     "name": "stdout",
     "output_type": "stream",
     "text": [
      "[CV 2/5] END learning_rate=0.1, max_depth=7, n_estimators=1000;, score=(train=0.901, test=0.901) total time=   0.9s\n"
     ]
    },
    {
     "name": "stderr",
     "output_type": "stream",
     "text": [
      "C:\\Python310\\lib\\site-packages\\xgboost\\sklearn.py:1395: UserWarning:\n",
      "\n",
      "`use_label_encoder` is deprecated in 1.7.0.\n",
      "\n"
     ]
    },
    {
     "name": "stdout",
     "output_type": "stream",
     "text": [
      "[CV 3/5] END learning_rate=0.1, max_depth=7, n_estimators=1000;, score=(train=0.911, test=0.911) total time=   0.9s\n"
     ]
    },
    {
     "name": "stderr",
     "output_type": "stream",
     "text": [
      "C:\\Python310\\lib\\site-packages\\xgboost\\sklearn.py:1395: UserWarning:\n",
      "\n",
      "`use_label_encoder` is deprecated in 1.7.0.\n",
      "\n"
     ]
    },
    {
     "name": "stdout",
     "output_type": "stream",
     "text": [
      "[CV 4/5] END learning_rate=0.1, max_depth=7, n_estimators=1000;, score=(train=0.904, test=0.904) total time=   0.9s\n"
     ]
    },
    {
     "name": "stderr",
     "output_type": "stream",
     "text": [
      "C:\\Python310\\lib\\site-packages\\xgboost\\sklearn.py:1395: UserWarning:\n",
      "\n",
      "`use_label_encoder` is deprecated in 1.7.0.\n",
      "\n"
     ]
    },
    {
     "name": "stdout",
     "output_type": "stream",
     "text": [
      "[CV 5/5] END learning_rate=0.1, max_depth=7, n_estimators=1000;, score=(train=0.885, test=0.885) total time=   0.9s\n"
     ]
    },
    {
     "name": "stderr",
     "output_type": "stream",
     "text": [
      "C:\\Python310\\lib\\site-packages\\xgboost\\sklearn.py:1395: UserWarning:\n",
      "\n",
      "`use_label_encoder` is deprecated in 1.7.0.\n",
      "\n"
     ]
    },
    {
     "name": "stdout",
     "output_type": "stream",
     "text": [
      "[CV 1/5] END learning_rate=0.1, max_depth=7, n_estimators=2000;, score=(train=0.922, test=0.922) total time=   1.8s\n"
     ]
    },
    {
     "name": "stderr",
     "output_type": "stream",
     "text": [
      "C:\\Python310\\lib\\site-packages\\xgboost\\sklearn.py:1395: UserWarning:\n",
      "\n",
      "`use_label_encoder` is deprecated in 1.7.0.\n",
      "\n"
     ]
    },
    {
     "name": "stdout",
     "output_type": "stream",
     "text": [
      "[CV 2/5] END learning_rate=0.1, max_depth=7, n_estimators=2000;, score=(train=0.891, test=0.891) total time=   1.8s\n"
     ]
    },
    {
     "name": "stderr",
     "output_type": "stream",
     "text": [
      "C:\\Python310\\lib\\site-packages\\xgboost\\sklearn.py:1395: UserWarning:\n",
      "\n",
      "`use_label_encoder` is deprecated in 1.7.0.\n",
      "\n"
     ]
    },
    {
     "name": "stdout",
     "output_type": "stream",
     "text": [
      "[CV 3/5] END learning_rate=0.1, max_depth=7, n_estimators=2000;, score=(train=0.911, test=0.911) total time=   1.7s\n"
     ]
    },
    {
     "name": "stderr",
     "output_type": "stream",
     "text": [
      "C:\\Python310\\lib\\site-packages\\xgboost\\sklearn.py:1395: UserWarning:\n",
      "\n",
      "`use_label_encoder` is deprecated in 1.7.0.\n",
      "\n"
     ]
    },
    {
     "name": "stdout",
     "output_type": "stream",
     "text": [
      "[CV 4/5] END learning_rate=0.1, max_depth=7, n_estimators=2000;, score=(train=0.904, test=0.904) total time=   1.8s\n"
     ]
    },
    {
     "name": "stderr",
     "output_type": "stream",
     "text": [
      "C:\\Python310\\lib\\site-packages\\xgboost\\sklearn.py:1395: UserWarning:\n",
      "\n",
      "`use_label_encoder` is deprecated in 1.7.0.\n",
      "\n"
     ]
    },
    {
     "name": "stdout",
     "output_type": "stream",
     "text": [
      "[CV 5/5] END learning_rate=0.1, max_depth=7, n_estimators=2000;, score=(train=0.885, test=0.885) total time=   1.7s\n"
     ]
    },
    {
     "name": "stderr",
     "output_type": "stream",
     "text": [
      "C:\\Python310\\lib\\site-packages\\xgboost\\sklearn.py:1395: UserWarning:\n",
      "\n",
      "`use_label_encoder` is deprecated in 1.7.0.\n",
      "\n"
     ]
    },
    {
     "name": "stdout",
     "output_type": "stream",
     "text": [
      "[CV 1/5] END learning_rate=0.1, max_depth=7, n_estimators=3000;, score=(train=0.922, test=0.922) total time=   2.5s\n"
     ]
    },
    {
     "name": "stderr",
     "output_type": "stream",
     "text": [
      "C:\\Python310\\lib\\site-packages\\xgboost\\sklearn.py:1395: UserWarning:\n",
      "\n",
      "`use_label_encoder` is deprecated in 1.7.0.\n",
      "\n"
     ]
    },
    {
     "name": "stdout",
     "output_type": "stream",
     "text": [
      "[CV 2/5] END learning_rate=0.1, max_depth=7, n_estimators=3000;, score=(train=0.891, test=0.891) total time=   2.5s\n"
     ]
    },
    {
     "name": "stderr",
     "output_type": "stream",
     "text": [
      "C:\\Python310\\lib\\site-packages\\xgboost\\sklearn.py:1395: UserWarning:\n",
      "\n",
      "`use_label_encoder` is deprecated in 1.7.0.\n",
      "\n"
     ]
    },
    {
     "name": "stdout",
     "output_type": "stream",
     "text": [
      "[CV 3/5] END learning_rate=0.1, max_depth=7, n_estimators=3000;, score=(train=0.911, test=0.911) total time=   2.5s\n"
     ]
    },
    {
     "name": "stderr",
     "output_type": "stream",
     "text": [
      "C:\\Python310\\lib\\site-packages\\xgboost\\sklearn.py:1395: UserWarning:\n",
      "\n",
      "`use_label_encoder` is deprecated in 1.7.0.\n",
      "\n"
     ]
    },
    {
     "name": "stdout",
     "output_type": "stream",
     "text": [
      "[CV 4/5] END learning_rate=0.1, max_depth=7, n_estimators=3000;, score=(train=0.904, test=0.904) total time=   2.5s\n"
     ]
    },
    {
     "name": "stderr",
     "output_type": "stream",
     "text": [
      "C:\\Python310\\lib\\site-packages\\xgboost\\sklearn.py:1395: UserWarning:\n",
      "\n",
      "`use_label_encoder` is deprecated in 1.7.0.\n",
      "\n"
     ]
    },
    {
     "name": "stdout",
     "output_type": "stream",
     "text": [
      "[CV 5/5] END learning_rate=0.1, max_depth=7, n_estimators=3000;, score=(train=0.885, test=0.885) total time=   2.5s\n"
     ]
    },
    {
     "name": "stderr",
     "output_type": "stream",
     "text": [
      "C:\\Python310\\lib\\site-packages\\xgboost\\sklearn.py:1395: UserWarning:\n",
      "\n",
      "`use_label_encoder` is deprecated in 1.7.0.\n",
      "\n"
     ]
    },
    {
     "name": "stdout",
     "output_type": "stream",
     "text": [
      "[CV 1/5] END learning_rate=0.1, max_depth=7, n_estimators=4000;, score=(train=0.922, test=0.922) total time=   3.3s\n"
     ]
    },
    {
     "name": "stderr",
     "output_type": "stream",
     "text": [
      "C:\\Python310\\lib\\site-packages\\xgboost\\sklearn.py:1395: UserWarning:\n",
      "\n",
      "`use_label_encoder` is deprecated in 1.7.0.\n",
      "\n"
     ]
    },
    {
     "name": "stdout",
     "output_type": "stream",
     "text": [
      "[CV 2/5] END learning_rate=0.1, max_depth=7, n_estimators=4000;, score=(train=0.891, test=0.891) total time=   3.2s\n"
     ]
    },
    {
     "name": "stderr",
     "output_type": "stream",
     "text": [
      "C:\\Python310\\lib\\site-packages\\xgboost\\sklearn.py:1395: UserWarning:\n",
      "\n",
      "`use_label_encoder` is deprecated in 1.7.0.\n",
      "\n"
     ]
    },
    {
     "name": "stdout",
     "output_type": "stream",
     "text": [
      "[CV 3/5] END learning_rate=0.1, max_depth=7, n_estimators=4000;, score=(train=0.911, test=0.911) total time=   3.3s\n"
     ]
    },
    {
     "name": "stderr",
     "output_type": "stream",
     "text": [
      "C:\\Python310\\lib\\site-packages\\xgboost\\sklearn.py:1395: UserWarning:\n",
      "\n",
      "`use_label_encoder` is deprecated in 1.7.0.\n",
      "\n"
     ]
    },
    {
     "name": "stdout",
     "output_type": "stream",
     "text": [
      "[CV 4/5] END learning_rate=0.1, max_depth=7, n_estimators=4000;, score=(train=0.904, test=0.904) total time=   3.3s\n"
     ]
    },
    {
     "name": "stderr",
     "output_type": "stream",
     "text": [
      "C:\\Python310\\lib\\site-packages\\xgboost\\sklearn.py:1395: UserWarning:\n",
      "\n",
      "`use_label_encoder` is deprecated in 1.7.0.\n",
      "\n"
     ]
    },
    {
     "name": "stdout",
     "output_type": "stream",
     "text": [
      "[CV 5/5] END learning_rate=0.1, max_depth=7, n_estimators=4000;, score=(train=0.885, test=0.885) total time=   3.4s\n"
     ]
    },
    {
     "name": "stderr",
     "output_type": "stream",
     "text": [
      "C:\\Python310\\lib\\site-packages\\xgboost\\sklearn.py:1395: UserWarning:\n",
      "\n",
      "`use_label_encoder` is deprecated in 1.7.0.\n",
      "\n"
     ]
    },
    {
     "name": "stdout",
     "output_type": "stream",
     "text": [
      "[CV 1/5] END learning_rate=0.1, max_depth=7, n_estimators=5000;, score=(train=0.922, test=0.922) total time=   4.0s\n"
     ]
    },
    {
     "name": "stderr",
     "output_type": "stream",
     "text": [
      "C:\\Python310\\lib\\site-packages\\xgboost\\sklearn.py:1395: UserWarning:\n",
      "\n",
      "`use_label_encoder` is deprecated in 1.7.0.\n",
      "\n"
     ]
    },
    {
     "name": "stdout",
     "output_type": "stream",
     "text": [
      "[CV 2/5] END learning_rate=0.1, max_depth=7, n_estimators=5000;, score=(train=0.891, test=0.891) total time=   3.9s\n"
     ]
    },
    {
     "name": "stderr",
     "output_type": "stream",
     "text": [
      "C:\\Python310\\lib\\site-packages\\xgboost\\sklearn.py:1395: UserWarning:\n",
      "\n",
      "`use_label_encoder` is deprecated in 1.7.0.\n",
      "\n"
     ]
    },
    {
     "name": "stdout",
     "output_type": "stream",
     "text": [
      "[CV 3/5] END learning_rate=0.1, max_depth=7, n_estimators=5000;, score=(train=0.911, test=0.911) total time=   4.0s\n"
     ]
    },
    {
     "name": "stderr",
     "output_type": "stream",
     "text": [
      "C:\\Python310\\lib\\site-packages\\xgboost\\sklearn.py:1395: UserWarning:\n",
      "\n",
      "`use_label_encoder` is deprecated in 1.7.0.\n",
      "\n"
     ]
    },
    {
     "name": "stdout",
     "output_type": "stream",
     "text": [
      "[CV 4/5] END learning_rate=0.1, max_depth=7, n_estimators=5000;, score=(train=0.912, test=0.912) total time=   4.0s\n"
     ]
    },
    {
     "name": "stderr",
     "output_type": "stream",
     "text": [
      "C:\\Python310\\lib\\site-packages\\xgboost\\sklearn.py:1395: UserWarning:\n",
      "\n",
      "`use_label_encoder` is deprecated in 1.7.0.\n",
      "\n"
     ]
    },
    {
     "name": "stdout",
     "output_type": "stream",
     "text": [
      "[CV 5/5] END learning_rate=0.1, max_depth=7, n_estimators=5000;, score=(train=0.885, test=0.885) total time=   4.0s\n"
     ]
    },
    {
     "name": "stderr",
     "output_type": "stream",
     "text": [
      "C:\\Python310\\lib\\site-packages\\xgboost\\sklearn.py:1395: UserWarning:\n",
      "\n",
      "`use_label_encoder` is deprecated in 1.7.0.\n",
      "\n"
     ]
    },
    {
     "name": "stdout",
     "output_type": "stream",
     "text": [
      "[CV 1/5] END learning_rate=0.105, max_depth=2, n_estimators=1000;, score=(train=0.897, test=0.897) total time=   0.7s\n"
     ]
    },
    {
     "name": "stderr",
     "output_type": "stream",
     "text": [
      "C:\\Python310\\lib\\site-packages\\xgboost\\sklearn.py:1395: UserWarning:\n",
      "\n",
      "`use_label_encoder` is deprecated in 1.7.0.\n",
      "\n"
     ]
    },
    {
     "name": "stdout",
     "output_type": "stream",
     "text": [
      "[CV 2/5] END learning_rate=0.105, max_depth=2, n_estimators=1000;, score=(train=0.930, test=0.930) total time=   0.7s\n"
     ]
    },
    {
     "name": "stderr",
     "output_type": "stream",
     "text": [
      "C:\\Python310\\lib\\site-packages\\xgboost\\sklearn.py:1395: UserWarning:\n",
      "\n",
      "`use_label_encoder` is deprecated in 1.7.0.\n",
      "\n"
     ]
    },
    {
     "name": "stdout",
     "output_type": "stream",
     "text": [
      "[CV 3/5] END learning_rate=0.105, max_depth=2, n_estimators=1000;, score=(train=0.920, test=0.920) total time=   0.7s\n"
     ]
    },
    {
     "name": "stderr",
     "output_type": "stream",
     "text": [
      "C:\\Python310\\lib\\site-packages\\xgboost\\sklearn.py:1395: UserWarning:\n",
      "\n",
      "`use_label_encoder` is deprecated in 1.7.0.\n",
      "\n"
     ]
    },
    {
     "name": "stdout",
     "output_type": "stream",
     "text": [
      "[CV 4/5] END learning_rate=0.105, max_depth=2, n_estimators=1000;, score=(train=0.912, test=0.912) total time=   0.8s\n"
     ]
    },
    {
     "name": "stderr",
     "output_type": "stream",
     "text": [
      "C:\\Python310\\lib\\site-packages\\xgboost\\sklearn.py:1395: UserWarning:\n",
      "\n",
      "`use_label_encoder` is deprecated in 1.7.0.\n",
      "\n"
     ]
    },
    {
     "name": "stdout",
     "output_type": "stream",
     "text": [
      "[CV 5/5] END learning_rate=0.105, max_depth=2, n_estimators=1000;, score=(train=0.914, test=0.914) total time=   0.7s\n"
     ]
    },
    {
     "name": "stderr",
     "output_type": "stream",
     "text": [
      "C:\\Python310\\lib\\site-packages\\xgboost\\sklearn.py:1395: UserWarning:\n",
      "\n",
      "`use_label_encoder` is deprecated in 1.7.0.\n",
      "\n"
     ]
    },
    {
     "name": "stdout",
     "output_type": "stream",
     "text": [
      "[CV 1/5] END learning_rate=0.105, max_depth=2, n_estimators=2000;, score=(train=0.914, test=0.914) total time=   1.6s\n"
     ]
    },
    {
     "name": "stderr",
     "output_type": "stream",
     "text": [
      "C:\\Python310\\lib\\site-packages\\xgboost\\sklearn.py:1395: UserWarning:\n",
      "\n",
      "`use_label_encoder` is deprecated in 1.7.0.\n",
      "\n"
     ]
    },
    {
     "name": "stdout",
     "output_type": "stream",
     "text": [
      "[CV 2/5] END learning_rate=0.105, max_depth=2, n_estimators=2000;, score=(train=0.920, test=0.920) total time=   1.6s\n"
     ]
    },
    {
     "name": "stderr",
     "output_type": "stream",
     "text": [
      "C:\\Python310\\lib\\site-packages\\xgboost\\sklearn.py:1395: UserWarning:\n",
      "\n",
      "`use_label_encoder` is deprecated in 1.7.0.\n",
      "\n"
     ]
    },
    {
     "name": "stdout",
     "output_type": "stream",
     "text": [
      "[CV 3/5] END learning_rate=0.105, max_depth=2, n_estimators=2000;, score=(train=0.912, test=0.912) total time=   1.6s\n"
     ]
    },
    {
     "name": "stderr",
     "output_type": "stream",
     "text": [
      "C:\\Python310\\lib\\site-packages\\xgboost\\sklearn.py:1395: UserWarning:\n",
      "\n",
      "`use_label_encoder` is deprecated in 1.7.0.\n",
      "\n"
     ]
    },
    {
     "name": "stdout",
     "output_type": "stream",
     "text": [
      "[CV 4/5] END learning_rate=0.105, max_depth=2, n_estimators=2000;, score=(train=0.912, test=0.912) total time=   1.6s\n"
     ]
    },
    {
     "name": "stderr",
     "output_type": "stream",
     "text": [
      "C:\\Python310\\lib\\site-packages\\xgboost\\sklearn.py:1395: UserWarning:\n",
      "\n",
      "`use_label_encoder` is deprecated in 1.7.0.\n",
      "\n"
     ]
    },
    {
     "name": "stdout",
     "output_type": "stream",
     "text": [
      "[CV 5/5] END learning_rate=0.105, max_depth=2, n_estimators=2000;, score=(train=0.914, test=0.914) total time=   1.6s\n"
     ]
    },
    {
     "name": "stderr",
     "output_type": "stream",
     "text": [
      "C:\\Python310\\lib\\site-packages\\xgboost\\sklearn.py:1395: UserWarning:\n",
      "\n",
      "`use_label_encoder` is deprecated in 1.7.0.\n",
      "\n"
     ]
    },
    {
     "name": "stdout",
     "output_type": "stream",
     "text": [
      "[CV 1/5] END learning_rate=0.105, max_depth=2, n_estimators=3000;, score=(train=0.923, test=0.923) total time=   2.3s\n"
     ]
    },
    {
     "name": "stderr",
     "output_type": "stream",
     "text": [
      "C:\\Python310\\lib\\site-packages\\xgboost\\sklearn.py:1395: UserWarning:\n",
      "\n",
      "`use_label_encoder` is deprecated in 1.7.0.\n",
      "\n"
     ]
    },
    {
     "name": "stdout",
     "output_type": "stream",
     "text": [
      "[CV 2/5] END learning_rate=0.105, max_depth=2, n_estimators=3000;, score=(train=0.920, test=0.920) total time=   2.3s\n"
     ]
    },
    {
     "name": "stderr",
     "output_type": "stream",
     "text": [
      "C:\\Python310\\lib\\site-packages\\xgboost\\sklearn.py:1395: UserWarning:\n",
      "\n",
      "`use_label_encoder` is deprecated in 1.7.0.\n",
      "\n"
     ]
    },
    {
     "name": "stdout",
     "output_type": "stream",
     "text": [
      "[CV 3/5] END learning_rate=0.105, max_depth=2, n_estimators=3000;, score=(train=0.911, test=0.911) total time=   2.3s\n"
     ]
    },
    {
     "name": "stderr",
     "output_type": "stream",
     "text": [
      "C:\\Python310\\lib\\site-packages\\xgboost\\sklearn.py:1395: UserWarning:\n",
      "\n",
      "`use_label_encoder` is deprecated in 1.7.0.\n",
      "\n"
     ]
    },
    {
     "name": "stdout",
     "output_type": "stream",
     "text": [
      "[CV 4/5] END learning_rate=0.105, max_depth=2, n_estimators=3000;, score=(train=0.903, test=0.903) total time=   2.3s\n"
     ]
    },
    {
     "name": "stderr",
     "output_type": "stream",
     "text": [
      "C:\\Python310\\lib\\site-packages\\xgboost\\sklearn.py:1395: UserWarning:\n",
      "\n",
      "`use_label_encoder` is deprecated in 1.7.0.\n",
      "\n"
     ]
    },
    {
     "name": "stdout",
     "output_type": "stream",
     "text": [
      "[CV 5/5] END learning_rate=0.105, max_depth=2, n_estimators=3000;, score=(train=0.914, test=0.914) total time=   2.3s\n"
     ]
    },
    {
     "name": "stderr",
     "output_type": "stream",
     "text": [
      "C:\\Python310\\lib\\site-packages\\xgboost\\sklearn.py:1395: UserWarning:\n",
      "\n",
      "`use_label_encoder` is deprecated in 1.7.0.\n",
      "\n"
     ]
    },
    {
     "name": "stdout",
     "output_type": "stream",
     "text": [
      "[CV 1/5] END learning_rate=0.105, max_depth=2, n_estimators=4000;, score=(train=0.923, test=0.923) total time=   3.1s\n"
     ]
    },
    {
     "name": "stderr",
     "output_type": "stream",
     "text": [
      "C:\\Python310\\lib\\site-packages\\xgboost\\sklearn.py:1395: UserWarning:\n",
      "\n",
      "`use_label_encoder` is deprecated in 1.7.0.\n",
      "\n"
     ]
    },
    {
     "name": "stdout",
     "output_type": "stream",
     "text": [
      "[CV 2/5] END learning_rate=0.105, max_depth=2, n_estimators=4000;, score=(train=0.920, test=0.920) total time=   3.0s\n"
     ]
    },
    {
     "name": "stderr",
     "output_type": "stream",
     "text": [
      "C:\\Python310\\lib\\site-packages\\xgboost\\sklearn.py:1395: UserWarning:\n",
      "\n",
      "`use_label_encoder` is deprecated in 1.7.0.\n",
      "\n"
     ]
    },
    {
     "name": "stdout",
     "output_type": "stream",
     "text": [
      "[CV 3/5] END learning_rate=0.105, max_depth=2, n_estimators=4000;, score=(train=0.920, test=0.920) total time=   3.1s\n"
     ]
    },
    {
     "name": "stderr",
     "output_type": "stream",
     "text": [
      "C:\\Python310\\lib\\site-packages\\xgboost\\sklearn.py:1395: UserWarning:\n",
      "\n",
      "`use_label_encoder` is deprecated in 1.7.0.\n",
      "\n"
     ]
    },
    {
     "name": "stdout",
     "output_type": "stream",
     "text": [
      "[CV 4/5] END learning_rate=0.105, max_depth=2, n_estimators=4000;, score=(train=0.912, test=0.912) total time=   3.1s\n"
     ]
    },
    {
     "name": "stderr",
     "output_type": "stream",
     "text": [
      "C:\\Python310\\lib\\site-packages\\xgboost\\sklearn.py:1395: UserWarning:\n",
      "\n",
      "`use_label_encoder` is deprecated in 1.7.0.\n",
      "\n"
     ]
    },
    {
     "name": "stdout",
     "output_type": "stream",
     "text": [
      "[CV 5/5] END learning_rate=0.105, max_depth=2, n_estimators=4000;, score=(train=0.914, test=0.914) total time=   3.0s\n"
     ]
    },
    {
     "name": "stderr",
     "output_type": "stream",
     "text": [
      "C:\\Python310\\lib\\site-packages\\xgboost\\sklearn.py:1395: UserWarning:\n",
      "\n",
      "`use_label_encoder` is deprecated in 1.7.0.\n",
      "\n"
     ]
    },
    {
     "name": "stdout",
     "output_type": "stream",
     "text": [
      "[CV 1/5] END learning_rate=0.105, max_depth=2, n_estimators=5000;, score=(train=0.914, test=0.914) total time=   3.8s\n"
     ]
    },
    {
     "name": "stderr",
     "output_type": "stream",
     "text": [
      "C:\\Python310\\lib\\site-packages\\xgboost\\sklearn.py:1395: UserWarning:\n",
      "\n",
      "`use_label_encoder` is deprecated in 1.7.0.\n",
      "\n"
     ]
    },
    {
     "name": "stdout",
     "output_type": "stream",
     "text": [
      "[CV 2/5] END learning_rate=0.105, max_depth=2, n_estimators=5000;, score=(train=0.920, test=0.920) total time=   3.7s\n"
     ]
    },
    {
     "name": "stderr",
     "output_type": "stream",
     "text": [
      "C:\\Python310\\lib\\site-packages\\xgboost\\sklearn.py:1395: UserWarning:\n",
      "\n",
      "`use_label_encoder` is deprecated in 1.7.0.\n",
      "\n"
     ]
    },
    {
     "name": "stdout",
     "output_type": "stream",
     "text": [
      "[CV 3/5] END learning_rate=0.105, max_depth=2, n_estimators=5000;, score=(train=0.920, test=0.920) total time=   3.8s\n"
     ]
    },
    {
     "name": "stderr",
     "output_type": "stream",
     "text": [
      "C:\\Python310\\lib\\site-packages\\xgboost\\sklearn.py:1395: UserWarning:\n",
      "\n",
      "`use_label_encoder` is deprecated in 1.7.0.\n",
      "\n"
     ]
    },
    {
     "name": "stdout",
     "output_type": "stream",
     "text": [
      "[CV 4/5] END learning_rate=0.105, max_depth=2, n_estimators=5000;, score=(train=0.922, test=0.922) total time=   3.8s\n"
     ]
    },
    {
     "name": "stderr",
     "output_type": "stream",
     "text": [
      "C:\\Python310\\lib\\site-packages\\xgboost\\sklearn.py:1395: UserWarning:\n",
      "\n",
      "`use_label_encoder` is deprecated in 1.7.0.\n",
      "\n"
     ]
    },
    {
     "name": "stdout",
     "output_type": "stream",
     "text": [
      "[CV 5/5] END learning_rate=0.105, max_depth=2, n_estimators=5000;, score=(train=0.914, test=0.914) total time=   3.8s\n"
     ]
    },
    {
     "name": "stderr",
     "output_type": "stream",
     "text": [
      "C:\\Python310\\lib\\site-packages\\xgboost\\sklearn.py:1395: UserWarning:\n",
      "\n",
      "`use_label_encoder` is deprecated in 1.7.0.\n",
      "\n"
     ]
    },
    {
     "name": "stdout",
     "output_type": "stream",
     "text": [
      "[CV 1/5] END learning_rate=0.105, max_depth=3, n_estimators=1000;, score=(train=0.931, test=0.931) total time=   0.8s\n"
     ]
    },
    {
     "name": "stderr",
     "output_type": "stream",
     "text": [
      "C:\\Python310\\lib\\site-packages\\xgboost\\sklearn.py:1395: UserWarning:\n",
      "\n",
      "`use_label_encoder` is deprecated in 1.7.0.\n",
      "\n"
     ]
    },
    {
     "name": "stdout",
     "output_type": "stream",
     "text": [
      "[CV 2/5] END learning_rate=0.105, max_depth=3, n_estimators=1000;, score=(train=0.920, test=0.920) total time=   0.8s\n"
     ]
    },
    {
     "name": "stderr",
     "output_type": "stream",
     "text": [
      "C:\\Python310\\lib\\site-packages\\xgboost\\sklearn.py:1395: UserWarning:\n",
      "\n",
      "`use_label_encoder` is deprecated in 1.7.0.\n",
      "\n"
     ]
    },
    {
     "name": "stdout",
     "output_type": "stream",
     "text": [
      "[CV 3/5] END learning_rate=0.105, max_depth=3, n_estimators=1000;, score=(train=0.930, test=0.930) total time=   0.8s\n"
     ]
    },
    {
     "name": "stderr",
     "output_type": "stream",
     "text": [
      "C:\\Python310\\lib\\site-packages\\xgboost\\sklearn.py:1395: UserWarning:\n",
      "\n",
      "`use_label_encoder` is deprecated in 1.7.0.\n",
      "\n"
     ]
    },
    {
     "name": "stdout",
     "output_type": "stream",
     "text": [
      "[CV 4/5] END learning_rate=0.105, max_depth=3, n_estimators=1000;, score=(train=0.912, test=0.912) total time=   0.8s\n"
     ]
    },
    {
     "name": "stderr",
     "output_type": "stream",
     "text": [
      "C:\\Python310\\lib\\site-packages\\xgboost\\sklearn.py:1395: UserWarning:\n",
      "\n",
      "`use_label_encoder` is deprecated in 1.7.0.\n",
      "\n"
     ]
    },
    {
     "name": "stdout",
     "output_type": "stream",
     "text": [
      "[CV 5/5] END learning_rate=0.105, max_depth=3, n_estimators=1000;, score=(train=0.904, test=0.904) total time=   0.8s\n"
     ]
    },
    {
     "name": "stderr",
     "output_type": "stream",
     "text": [
      "C:\\Python310\\lib\\site-packages\\xgboost\\sklearn.py:1395: UserWarning:\n",
      "\n",
      "`use_label_encoder` is deprecated in 1.7.0.\n",
      "\n"
     ]
    },
    {
     "name": "stdout",
     "output_type": "stream",
     "text": [
      "[CV 1/5] END learning_rate=0.105, max_depth=3, n_estimators=2000;, score=(train=0.914, test=0.914) total time=   1.7s\n"
     ]
    },
    {
     "name": "stderr",
     "output_type": "stream",
     "text": [
      "C:\\Python310\\lib\\site-packages\\xgboost\\sklearn.py:1395: UserWarning:\n",
      "\n",
      "`use_label_encoder` is deprecated in 1.7.0.\n",
      "\n"
     ]
    },
    {
     "name": "stdout",
     "output_type": "stream",
     "text": [
      "[CV 2/5] END learning_rate=0.105, max_depth=3, n_estimators=2000;, score=(train=0.920, test=0.920) total time=   1.6s\n"
     ]
    },
    {
     "name": "stderr",
     "output_type": "stream",
     "text": [
      "C:\\Python310\\lib\\site-packages\\xgboost\\sklearn.py:1395: UserWarning:\n",
      "\n",
      "`use_label_encoder` is deprecated in 1.7.0.\n",
      "\n"
     ]
    },
    {
     "name": "stdout",
     "output_type": "stream",
     "text": [
      "[CV 3/5] END learning_rate=0.105, max_depth=3, n_estimators=2000;, score=(train=0.930, test=0.930) total time=   1.7s\n"
     ]
    },
    {
     "name": "stderr",
     "output_type": "stream",
     "text": [
      "C:\\Python310\\lib\\site-packages\\xgboost\\sklearn.py:1395: UserWarning:\n",
      "\n",
      "`use_label_encoder` is deprecated in 1.7.0.\n",
      "\n"
     ]
    },
    {
     "name": "stdout",
     "output_type": "stream",
     "text": [
      "[CV 4/5] END learning_rate=0.105, max_depth=3, n_estimators=2000;, score=(train=0.922, test=0.922) total time=   1.7s\n"
     ]
    },
    {
     "name": "stderr",
     "output_type": "stream",
     "text": [
      "C:\\Python310\\lib\\site-packages\\xgboost\\sklearn.py:1395: UserWarning:\n",
      "\n",
      "`use_label_encoder` is deprecated in 1.7.0.\n",
      "\n"
     ]
    },
    {
     "name": "stdout",
     "output_type": "stream",
     "text": [
      "[CV 5/5] END learning_rate=0.105, max_depth=3, n_estimators=2000;, score=(train=0.914, test=0.914) total time=   1.6s\n"
     ]
    },
    {
     "name": "stderr",
     "output_type": "stream",
     "text": [
      "C:\\Python310\\lib\\site-packages\\xgboost\\sklearn.py:1395: UserWarning:\n",
      "\n",
      "`use_label_encoder` is deprecated in 1.7.0.\n",
      "\n"
     ]
    },
    {
     "name": "stdout",
     "output_type": "stream",
     "text": [
      "[CV 1/5] END learning_rate=0.105, max_depth=3, n_estimators=3000;, score=(train=0.914, test=0.914) total time=   2.4s\n"
     ]
    },
    {
     "name": "stderr",
     "output_type": "stream",
     "text": [
      "C:\\Python310\\lib\\site-packages\\xgboost\\sklearn.py:1395: UserWarning:\n",
      "\n",
      "`use_label_encoder` is deprecated in 1.7.0.\n",
      "\n"
     ]
    },
    {
     "name": "stdout",
     "output_type": "stream",
     "text": [
      "[CV 2/5] END learning_rate=0.105, max_depth=3, n_estimators=3000;, score=(train=0.920, test=0.920) total time=   2.4s\n"
     ]
    },
    {
     "name": "stderr",
     "output_type": "stream",
     "text": [
      "C:\\Python310\\lib\\site-packages\\xgboost\\sklearn.py:1395: UserWarning:\n",
      "\n",
      "`use_label_encoder` is deprecated in 1.7.0.\n",
      "\n"
     ]
    },
    {
     "name": "stdout",
     "output_type": "stream",
     "text": [
      "[CV 3/5] END learning_rate=0.105, max_depth=3, n_estimators=3000;, score=(train=0.930, test=0.930) total time=   2.4s\n"
     ]
    },
    {
     "name": "stderr",
     "output_type": "stream",
     "text": [
      "C:\\Python310\\lib\\site-packages\\xgboost\\sklearn.py:1395: UserWarning:\n",
      "\n",
      "`use_label_encoder` is deprecated in 1.7.0.\n",
      "\n"
     ]
    },
    {
     "name": "stdout",
     "output_type": "stream",
     "text": [
      "[CV 4/5] END learning_rate=0.105, max_depth=3, n_estimators=3000;, score=(train=0.914, test=0.914) total time=   2.4s\n"
     ]
    },
    {
     "name": "stderr",
     "output_type": "stream",
     "text": [
      "C:\\Python310\\lib\\site-packages\\xgboost\\sklearn.py:1395: UserWarning:\n",
      "\n",
      "`use_label_encoder` is deprecated in 1.7.0.\n",
      "\n"
     ]
    },
    {
     "name": "stdout",
     "output_type": "stream",
     "text": [
      "[CV 5/5] END learning_rate=0.105, max_depth=3, n_estimators=3000;, score=(train=0.904, test=0.904) total time=   2.4s\n"
     ]
    },
    {
     "name": "stderr",
     "output_type": "stream",
     "text": [
      "C:\\Python310\\lib\\site-packages\\xgboost\\sklearn.py:1395: UserWarning:\n",
      "\n",
      "`use_label_encoder` is deprecated in 1.7.0.\n",
      "\n"
     ]
    },
    {
     "name": "stdout",
     "output_type": "stream",
     "text": [
      "[CV 1/5] END learning_rate=0.105, max_depth=3, n_estimators=4000;, score=(train=0.914, test=0.914) total time=   3.2s\n"
     ]
    },
    {
     "name": "stderr",
     "output_type": "stream",
     "text": [
      "C:\\Python310\\lib\\site-packages\\xgboost\\sklearn.py:1395: UserWarning:\n",
      "\n",
      "`use_label_encoder` is deprecated in 1.7.0.\n",
      "\n"
     ]
    },
    {
     "name": "stdout",
     "output_type": "stream",
     "text": [
      "[CV 2/5] END learning_rate=0.105, max_depth=3, n_estimators=4000;, score=(train=0.911, test=0.911) total time=   3.2s\n"
     ]
    },
    {
     "name": "stderr",
     "output_type": "stream",
     "text": [
      "C:\\Python310\\lib\\site-packages\\xgboost\\sklearn.py:1395: UserWarning:\n",
      "\n",
      "`use_label_encoder` is deprecated in 1.7.0.\n",
      "\n"
     ]
    },
    {
     "name": "stdout",
     "output_type": "stream",
     "text": [
      "[CV 3/5] END learning_rate=0.105, max_depth=3, n_estimators=4000;, score=(train=0.930, test=0.930) total time=   3.1s\n"
     ]
    },
    {
     "name": "stderr",
     "output_type": "stream",
     "text": [
      "C:\\Python310\\lib\\site-packages\\xgboost\\sklearn.py:1395: UserWarning:\n",
      "\n",
      "`use_label_encoder` is deprecated in 1.7.0.\n",
      "\n"
     ]
    },
    {
     "name": "stdout",
     "output_type": "stream",
     "text": [
      "[CV 4/5] END learning_rate=0.105, max_depth=3, n_estimators=4000;, score=(train=0.904, test=0.904) total time=   3.2s\n"
     ]
    },
    {
     "name": "stderr",
     "output_type": "stream",
     "text": [
      "C:\\Python310\\lib\\site-packages\\xgboost\\sklearn.py:1395: UserWarning:\n",
      "\n",
      "`use_label_encoder` is deprecated in 1.7.0.\n",
      "\n"
     ]
    },
    {
     "name": "stdout",
     "output_type": "stream",
     "text": [
      "[CV 5/5] END learning_rate=0.105, max_depth=3, n_estimators=4000;, score=(train=0.904, test=0.904) total time=   3.1s\n"
     ]
    },
    {
     "name": "stderr",
     "output_type": "stream",
     "text": [
      "C:\\Python310\\lib\\site-packages\\xgboost\\sklearn.py:1395: UserWarning:\n",
      "\n",
      "`use_label_encoder` is deprecated in 1.7.0.\n",
      "\n"
     ]
    },
    {
     "name": "stdout",
     "output_type": "stream",
     "text": [
      "[CV 1/5] END learning_rate=0.105, max_depth=3, n_estimators=5000;, score=(train=0.914, test=0.914) total time=   3.9s\n"
     ]
    },
    {
     "name": "stderr",
     "output_type": "stream",
     "text": [
      "C:\\Python310\\lib\\site-packages\\xgboost\\sklearn.py:1395: UserWarning:\n",
      "\n",
      "`use_label_encoder` is deprecated in 1.7.0.\n",
      "\n"
     ]
    },
    {
     "name": "stdout",
     "output_type": "stream",
     "text": [
      "[CV 2/5] END learning_rate=0.105, max_depth=3, n_estimators=5000;, score=(train=0.911, test=0.911) total time=   3.9s\n"
     ]
    },
    {
     "name": "stderr",
     "output_type": "stream",
     "text": [
      "C:\\Python310\\lib\\site-packages\\xgboost\\sklearn.py:1395: UserWarning:\n",
      "\n",
      "`use_label_encoder` is deprecated in 1.7.0.\n",
      "\n"
     ]
    },
    {
     "name": "stdout",
     "output_type": "stream",
     "text": [
      "[CV 3/5] END learning_rate=0.105, max_depth=3, n_estimators=5000;, score=(train=0.920, test=0.920) total time=   3.9s\n"
     ]
    },
    {
     "name": "stderr",
     "output_type": "stream",
     "text": [
      "C:\\Python310\\lib\\site-packages\\xgboost\\sklearn.py:1395: UserWarning:\n",
      "\n",
      "`use_label_encoder` is deprecated in 1.7.0.\n",
      "\n"
     ]
    },
    {
     "name": "stdout",
     "output_type": "stream",
     "text": [
      "[CV 4/5] END learning_rate=0.105, max_depth=3, n_estimators=5000;, score=(train=0.904, test=0.904) total time=   3.9s\n"
     ]
    },
    {
     "name": "stderr",
     "output_type": "stream",
     "text": [
      "C:\\Python310\\lib\\site-packages\\xgboost\\sklearn.py:1395: UserWarning:\n",
      "\n",
      "`use_label_encoder` is deprecated in 1.7.0.\n",
      "\n"
     ]
    },
    {
     "name": "stdout",
     "output_type": "stream",
     "text": [
      "[CV 5/5] END learning_rate=0.105, max_depth=3, n_estimators=5000;, score=(train=0.904, test=0.904) total time=   3.9s\n"
     ]
    },
    {
     "name": "stderr",
     "output_type": "stream",
     "text": [
      "C:\\Python310\\lib\\site-packages\\xgboost\\sklearn.py:1395: UserWarning:\n",
      "\n",
      "`use_label_encoder` is deprecated in 1.7.0.\n",
      "\n"
     ]
    },
    {
     "name": "stdout",
     "output_type": "stream",
     "text": [
      "[CV 1/5] END learning_rate=0.105, max_depth=5, n_estimators=1000;, score=(train=0.923, test=0.923) total time=   0.9s\n"
     ]
    },
    {
     "name": "stderr",
     "output_type": "stream",
     "text": [
      "C:\\Python310\\lib\\site-packages\\xgboost\\sklearn.py:1395: UserWarning:\n",
      "\n",
      "`use_label_encoder` is deprecated in 1.7.0.\n",
      "\n"
     ]
    },
    {
     "name": "stdout",
     "output_type": "stream",
     "text": [
      "[CV 2/5] END learning_rate=0.105, max_depth=5, n_estimators=1000;, score=(train=0.911, test=0.911) total time=   0.9s\n"
     ]
    },
    {
     "name": "stderr",
     "output_type": "stream",
     "text": [
      "C:\\Python310\\lib\\site-packages\\xgboost\\sklearn.py:1395: UserWarning:\n",
      "\n",
      "`use_label_encoder` is deprecated in 1.7.0.\n",
      "\n"
     ]
    },
    {
     "name": "stdout",
     "output_type": "stream",
     "text": [
      "[CV 3/5] END learning_rate=0.105, max_depth=5, n_estimators=1000;, score=(train=0.912, test=0.912) total time=   0.9s\n"
     ]
    },
    {
     "name": "stderr",
     "output_type": "stream",
     "text": [
      "C:\\Python310\\lib\\site-packages\\xgboost\\sklearn.py:1395: UserWarning:\n",
      "\n",
      "`use_label_encoder` is deprecated in 1.7.0.\n",
      "\n"
     ]
    },
    {
     "name": "stdout",
     "output_type": "stream",
     "text": [
      "[CV 4/5] END learning_rate=0.105, max_depth=5, n_estimators=1000;, score=(train=0.912, test=0.912) total time=   0.9s\n"
     ]
    },
    {
     "name": "stderr",
     "output_type": "stream",
     "text": [
      "C:\\Python310\\lib\\site-packages\\xgboost\\sklearn.py:1395: UserWarning:\n",
      "\n",
      "`use_label_encoder` is deprecated in 1.7.0.\n",
      "\n"
     ]
    },
    {
     "name": "stdout",
     "output_type": "stream",
     "text": [
      "[CV 5/5] END learning_rate=0.105, max_depth=5, n_estimators=1000;, score=(train=0.885, test=0.885) total time=   0.9s\n"
     ]
    },
    {
     "name": "stderr",
     "output_type": "stream",
     "text": [
      "C:\\Python310\\lib\\site-packages\\xgboost\\sklearn.py:1395: UserWarning:\n",
      "\n",
      "`use_label_encoder` is deprecated in 1.7.0.\n",
      "\n"
     ]
    },
    {
     "name": "stdout",
     "output_type": "stream",
     "text": [
      "[CV 1/5] END learning_rate=0.105, max_depth=5, n_estimators=2000;, score=(train=0.914, test=0.914) total time=   1.7s\n"
     ]
    },
    {
     "name": "stderr",
     "output_type": "stream",
     "text": [
      "C:\\Python310\\lib\\site-packages\\xgboost\\sklearn.py:1395: UserWarning:\n",
      "\n",
      "`use_label_encoder` is deprecated in 1.7.0.\n",
      "\n"
     ]
    },
    {
     "name": "stdout",
     "output_type": "stream",
     "text": [
      "[CV 2/5] END learning_rate=0.105, max_depth=5, n_estimators=2000;, score=(train=0.911, test=0.911) total time=   1.7s\n"
     ]
    },
    {
     "name": "stderr",
     "output_type": "stream",
     "text": [
      "C:\\Python310\\lib\\site-packages\\xgboost\\sklearn.py:1395: UserWarning:\n",
      "\n",
      "`use_label_encoder` is deprecated in 1.7.0.\n",
      "\n"
     ]
    },
    {
     "name": "stdout",
     "output_type": "stream",
     "text": [
      "[CV 3/5] END learning_rate=0.105, max_depth=5, n_estimators=2000;, score=(train=0.920, test=0.920) total time=   1.7s\n"
     ]
    },
    {
     "name": "stderr",
     "output_type": "stream",
     "text": [
      "C:\\Python310\\lib\\site-packages\\xgboost\\sklearn.py:1395: UserWarning:\n",
      "\n",
      "`use_label_encoder` is deprecated in 1.7.0.\n",
      "\n"
     ]
    },
    {
     "name": "stdout",
     "output_type": "stream",
     "text": [
      "[CV 4/5] END learning_rate=0.105, max_depth=5, n_estimators=2000;, score=(train=0.904, test=0.904) total time=   1.7s\n"
     ]
    },
    {
     "name": "stderr",
     "output_type": "stream",
     "text": [
      "C:\\Python310\\lib\\site-packages\\xgboost\\sklearn.py:1395: UserWarning:\n",
      "\n",
      "`use_label_encoder` is deprecated in 1.7.0.\n",
      "\n"
     ]
    },
    {
     "name": "stdout",
     "output_type": "stream",
     "text": [
      "[CV 5/5] END learning_rate=0.105, max_depth=5, n_estimators=2000;, score=(train=0.885, test=0.885) total time=   1.7s\n"
     ]
    },
    {
     "name": "stderr",
     "output_type": "stream",
     "text": [
      "C:\\Python310\\lib\\site-packages\\xgboost\\sklearn.py:1395: UserWarning:\n",
      "\n",
      "`use_label_encoder` is deprecated in 1.7.0.\n",
      "\n"
     ]
    },
    {
     "name": "stdout",
     "output_type": "stream",
     "text": [
      "[CV 1/5] END learning_rate=0.105, max_depth=5, n_estimators=3000;, score=(train=0.914, test=0.914) total time=   2.5s\n"
     ]
    },
    {
     "name": "stderr",
     "output_type": "stream",
     "text": [
      "C:\\Python310\\lib\\site-packages\\xgboost\\sklearn.py:1395: UserWarning:\n",
      "\n",
      "`use_label_encoder` is deprecated in 1.7.0.\n",
      "\n"
     ]
    },
    {
     "name": "stdout",
     "output_type": "stream",
     "text": [
      "[CV 2/5] END learning_rate=0.105, max_depth=5, n_estimators=3000;, score=(train=0.891, test=0.891) total time=   2.4s\n"
     ]
    },
    {
     "name": "stderr",
     "output_type": "stream",
     "text": [
      "C:\\Python310\\lib\\site-packages\\xgboost\\sklearn.py:1395: UserWarning:\n",
      "\n",
      "`use_label_encoder` is deprecated in 1.7.0.\n",
      "\n"
     ]
    },
    {
     "name": "stdout",
     "output_type": "stream",
     "text": [
      "[CV 3/5] END learning_rate=0.105, max_depth=5, n_estimators=3000;, score=(train=0.930, test=0.930) total time=   2.5s\n"
     ]
    },
    {
     "name": "stderr",
     "output_type": "stream",
     "text": [
      "C:\\Python310\\lib\\site-packages\\xgboost\\sklearn.py:1395: UserWarning:\n",
      "\n",
      "`use_label_encoder` is deprecated in 1.7.0.\n",
      "\n"
     ]
    },
    {
     "name": "stdout",
     "output_type": "stream",
     "text": [
      "[CV 4/5] END learning_rate=0.105, max_depth=5, n_estimators=3000;, score=(train=0.904, test=0.904) total time=   2.5s\n"
     ]
    },
    {
     "name": "stderr",
     "output_type": "stream",
     "text": [
      "C:\\Python310\\lib\\site-packages\\xgboost\\sklearn.py:1395: UserWarning:\n",
      "\n",
      "`use_label_encoder` is deprecated in 1.7.0.\n",
      "\n"
     ]
    },
    {
     "name": "stdout",
     "output_type": "stream",
     "text": [
      "[CV 5/5] END learning_rate=0.105, max_depth=5, n_estimators=3000;, score=(train=0.885, test=0.885) total time=   2.5s\n"
     ]
    },
    {
     "name": "stderr",
     "output_type": "stream",
     "text": [
      "C:\\Python310\\lib\\site-packages\\xgboost\\sklearn.py:1395: UserWarning:\n",
      "\n",
      "`use_label_encoder` is deprecated in 1.7.0.\n",
      "\n"
     ]
    },
    {
     "name": "stdout",
     "output_type": "stream",
     "text": [
      "[CV 1/5] END learning_rate=0.105, max_depth=5, n_estimators=4000;, score=(train=0.914, test=0.914) total time=   3.2s\n"
     ]
    },
    {
     "name": "stderr",
     "output_type": "stream",
     "text": [
      "C:\\Python310\\lib\\site-packages\\xgboost\\sklearn.py:1395: UserWarning:\n",
      "\n",
      "`use_label_encoder` is deprecated in 1.7.0.\n",
      "\n"
     ]
    },
    {
     "name": "stdout",
     "output_type": "stream",
     "text": [
      "[CV 2/5] END learning_rate=0.105, max_depth=5, n_estimators=4000;, score=(train=0.881, test=0.881) total time=   3.2s\n"
     ]
    },
    {
     "name": "stderr",
     "output_type": "stream",
     "text": [
      "C:\\Python310\\lib\\site-packages\\xgboost\\sklearn.py:1395: UserWarning:\n",
      "\n",
      "`use_label_encoder` is deprecated in 1.7.0.\n",
      "\n"
     ]
    },
    {
     "name": "stdout",
     "output_type": "stream",
     "text": [
      "[CV 3/5] END learning_rate=0.105, max_depth=5, n_estimators=4000;, score=(train=0.920, test=0.920) total time=   3.2s\n"
     ]
    },
    {
     "name": "stderr",
     "output_type": "stream",
     "text": [
      "C:\\Python310\\lib\\site-packages\\xgboost\\sklearn.py:1395: UserWarning:\n",
      "\n",
      "`use_label_encoder` is deprecated in 1.7.0.\n",
      "\n"
     ]
    },
    {
     "name": "stdout",
     "output_type": "stream",
     "text": [
      "[CV 4/5] END learning_rate=0.105, max_depth=5, n_estimators=4000;, score=(train=0.904, test=0.904) total time=   3.3s\n"
     ]
    },
    {
     "name": "stderr",
     "output_type": "stream",
     "text": [
      "C:\\Python310\\lib\\site-packages\\xgboost\\sklearn.py:1395: UserWarning:\n",
      "\n",
      "`use_label_encoder` is deprecated in 1.7.0.\n",
      "\n"
     ]
    },
    {
     "name": "stdout",
     "output_type": "stream",
     "text": [
      "[CV 5/5] END learning_rate=0.105, max_depth=5, n_estimators=4000;, score=(train=0.885, test=0.885) total time=   3.2s\n"
     ]
    },
    {
     "name": "stderr",
     "output_type": "stream",
     "text": [
      "C:\\Python310\\lib\\site-packages\\xgboost\\sklearn.py:1395: UserWarning:\n",
      "\n",
      "`use_label_encoder` is deprecated in 1.7.0.\n",
      "\n"
     ]
    },
    {
     "name": "stdout",
     "output_type": "stream",
     "text": [
      "[CV 1/5] END learning_rate=0.105, max_depth=5, n_estimators=5000;, score=(train=0.914, test=0.914) total time=   4.0s\n"
     ]
    },
    {
     "name": "stderr",
     "output_type": "stream",
     "text": [
      "C:\\Python310\\lib\\site-packages\\xgboost\\sklearn.py:1395: UserWarning:\n",
      "\n",
      "`use_label_encoder` is deprecated in 1.7.0.\n",
      "\n"
     ]
    },
    {
     "name": "stdout",
     "output_type": "stream",
     "text": [
      "[CV 2/5] END learning_rate=0.105, max_depth=5, n_estimators=5000;, score=(train=0.881, test=0.881) total time=   3.9s\n"
     ]
    },
    {
     "name": "stderr",
     "output_type": "stream",
     "text": [
      "C:\\Python310\\lib\\site-packages\\xgboost\\sklearn.py:1395: UserWarning:\n",
      "\n",
      "`use_label_encoder` is deprecated in 1.7.0.\n",
      "\n"
     ]
    },
    {
     "name": "stdout",
     "output_type": "stream",
     "text": [
      "[CV 3/5] END learning_rate=0.105, max_depth=5, n_estimators=5000;, score=(train=0.920, test=0.920) total time=   4.0s\n"
     ]
    },
    {
     "name": "stderr",
     "output_type": "stream",
     "text": [
      "C:\\Python310\\lib\\site-packages\\xgboost\\sklearn.py:1395: UserWarning:\n",
      "\n",
      "`use_label_encoder` is deprecated in 1.7.0.\n",
      "\n"
     ]
    },
    {
     "name": "stdout",
     "output_type": "stream",
     "text": [
      "[CV 4/5] END learning_rate=0.105, max_depth=5, n_estimators=5000;, score=(train=0.904, test=0.904) total time=   4.0s\n"
     ]
    },
    {
     "name": "stderr",
     "output_type": "stream",
     "text": [
      "C:\\Python310\\lib\\site-packages\\xgboost\\sklearn.py:1395: UserWarning:\n",
      "\n",
      "`use_label_encoder` is deprecated in 1.7.0.\n",
      "\n"
     ]
    },
    {
     "name": "stdout",
     "output_type": "stream",
     "text": [
      "[CV 5/5] END learning_rate=0.105, max_depth=5, n_estimators=5000;, score=(train=0.885, test=0.885) total time=   4.0s\n"
     ]
    },
    {
     "name": "stderr",
     "output_type": "stream",
     "text": [
      "C:\\Python310\\lib\\site-packages\\xgboost\\sklearn.py:1395: UserWarning:\n",
      "\n",
      "`use_label_encoder` is deprecated in 1.7.0.\n",
      "\n"
     ]
    },
    {
     "name": "stdout",
     "output_type": "stream",
     "text": [
      "[CV 1/5] END learning_rate=0.105, max_depth=7, n_estimators=1000;, score=(train=0.920, test=0.920) total time=   0.9s\n"
     ]
    },
    {
     "name": "stderr",
     "output_type": "stream",
     "text": [
      "C:\\Python310\\lib\\site-packages\\xgboost\\sklearn.py:1395: UserWarning:\n",
      "\n",
      "`use_label_encoder` is deprecated in 1.7.0.\n",
      "\n"
     ]
    },
    {
     "name": "stdout",
     "output_type": "stream",
     "text": [
      "[CV 2/5] END learning_rate=0.105, max_depth=7, n_estimators=1000;, score=(train=0.901, test=0.901) total time=   0.9s\n"
     ]
    },
    {
     "name": "stderr",
     "output_type": "stream",
     "text": [
      "C:\\Python310\\lib\\site-packages\\xgboost\\sklearn.py:1395: UserWarning:\n",
      "\n",
      "`use_label_encoder` is deprecated in 1.7.0.\n",
      "\n"
     ]
    },
    {
     "name": "stdout",
     "output_type": "stream",
     "text": [
      "[CV 3/5] END learning_rate=0.105, max_depth=7, n_estimators=1000;, score=(train=0.901, test=0.901) total time=   0.9s\n"
     ]
    },
    {
     "name": "stderr",
     "output_type": "stream",
     "text": [
      "C:\\Python310\\lib\\site-packages\\xgboost\\sklearn.py:1395: UserWarning:\n",
      "\n",
      "`use_label_encoder` is deprecated in 1.7.0.\n",
      "\n"
     ]
    },
    {
     "name": "stdout",
     "output_type": "stream",
     "text": [
      "[CV 4/5] END learning_rate=0.105, max_depth=7, n_estimators=1000;, score=(train=0.904, test=0.904) total time=   0.9s\n"
     ]
    },
    {
     "name": "stderr",
     "output_type": "stream",
     "text": [
      "C:\\Python310\\lib\\site-packages\\xgboost\\sklearn.py:1395: UserWarning:\n",
      "\n",
      "`use_label_encoder` is deprecated in 1.7.0.\n",
      "\n"
     ]
    },
    {
     "name": "stdout",
     "output_type": "stream",
     "text": [
      "[CV 5/5] END learning_rate=0.105, max_depth=7, n_estimators=1000;, score=(train=0.895, test=0.895) total time=   0.9s\n"
     ]
    },
    {
     "name": "stderr",
     "output_type": "stream",
     "text": [
      "C:\\Python310\\lib\\site-packages\\xgboost\\sklearn.py:1395: UserWarning:\n",
      "\n",
      "`use_label_encoder` is deprecated in 1.7.0.\n",
      "\n"
     ]
    },
    {
     "name": "stdout",
     "output_type": "stream",
     "text": [
      "[CV 1/5] END learning_rate=0.105, max_depth=7, n_estimators=2000;, score=(train=0.930, test=0.930) total time=   1.8s\n"
     ]
    },
    {
     "name": "stderr",
     "output_type": "stream",
     "text": [
      "C:\\Python310\\lib\\site-packages\\xgboost\\sklearn.py:1395: UserWarning:\n",
      "\n",
      "`use_label_encoder` is deprecated in 1.7.0.\n",
      "\n"
     ]
    },
    {
     "name": "stdout",
     "output_type": "stream",
     "text": [
      "[CV 2/5] END learning_rate=0.105, max_depth=7, n_estimators=2000;, score=(train=0.891, test=0.891) total time=   1.7s\n"
     ]
    },
    {
     "name": "stderr",
     "output_type": "stream",
     "text": [
      "C:\\Python310\\lib\\site-packages\\xgboost\\sklearn.py:1395: UserWarning:\n",
      "\n",
      "`use_label_encoder` is deprecated in 1.7.0.\n",
      "\n"
     ]
    },
    {
     "name": "stdout",
     "output_type": "stream",
     "text": [
      "[CV 3/5] END learning_rate=0.105, max_depth=7, n_estimators=2000;, score=(train=0.911, test=0.911) total time=   1.8s\n"
     ]
    },
    {
     "name": "stderr",
     "output_type": "stream",
     "text": [
      "C:\\Python310\\lib\\site-packages\\xgboost\\sklearn.py:1395: UserWarning:\n",
      "\n",
      "`use_label_encoder` is deprecated in 1.7.0.\n",
      "\n"
     ]
    },
    {
     "name": "stdout",
     "output_type": "stream",
     "text": [
      "[CV 4/5] END learning_rate=0.105, max_depth=7, n_estimators=2000;, score=(train=0.897, test=0.897) total time=   1.8s\n"
     ]
    },
    {
     "name": "stderr",
     "output_type": "stream",
     "text": [
      "C:\\Python310\\lib\\site-packages\\xgboost\\sklearn.py:1395: UserWarning:\n",
      "\n",
      "`use_label_encoder` is deprecated in 1.7.0.\n",
      "\n"
     ]
    },
    {
     "name": "stdout",
     "output_type": "stream",
     "text": [
      "[CV 5/5] END learning_rate=0.105, max_depth=7, n_estimators=2000;, score=(train=0.885, test=0.885) total time=   1.8s\n"
     ]
    },
    {
     "name": "stderr",
     "output_type": "stream",
     "text": [
      "C:\\Python310\\lib\\site-packages\\xgboost\\sklearn.py:1395: UserWarning:\n",
      "\n",
      "`use_label_encoder` is deprecated in 1.7.0.\n",
      "\n"
     ]
    },
    {
     "name": "stdout",
     "output_type": "stream",
     "text": [
      "[CV 1/5] END learning_rate=0.105, max_depth=7, n_estimators=3000;, score=(train=0.920, test=0.920) total time=   2.5s\n"
     ]
    },
    {
     "name": "stderr",
     "output_type": "stream",
     "text": [
      "C:\\Python310\\lib\\site-packages\\xgboost\\sklearn.py:1395: UserWarning:\n",
      "\n",
      "`use_label_encoder` is deprecated in 1.7.0.\n",
      "\n"
     ]
    },
    {
     "name": "stdout",
     "output_type": "stream",
     "text": [
      "[CV 2/5] END learning_rate=0.105, max_depth=7, n_estimators=3000;, score=(train=0.891, test=0.891) total time=   2.5s\n"
     ]
    },
    {
     "name": "stderr",
     "output_type": "stream",
     "text": [
      "C:\\Python310\\lib\\site-packages\\xgboost\\sklearn.py:1395: UserWarning:\n",
      "\n",
      "`use_label_encoder` is deprecated in 1.7.0.\n",
      "\n"
     ]
    },
    {
     "name": "stdout",
     "output_type": "stream",
     "text": [
      "[CV 3/5] END learning_rate=0.105, max_depth=7, n_estimators=3000;, score=(train=0.911, test=0.911) total time=   2.5s\n"
     ]
    },
    {
     "name": "stderr",
     "output_type": "stream",
     "text": [
      "C:\\Python310\\lib\\site-packages\\xgboost\\sklearn.py:1395: UserWarning:\n",
      "\n",
      "`use_label_encoder` is deprecated in 1.7.0.\n",
      "\n"
     ]
    },
    {
     "name": "stdout",
     "output_type": "stream",
     "text": [
      "[CV 4/5] END learning_rate=0.105, max_depth=7, n_estimators=3000;, score=(train=0.904, test=0.904) total time=   2.5s\n"
     ]
    },
    {
     "name": "stderr",
     "output_type": "stream",
     "text": [
      "C:\\Python310\\lib\\site-packages\\xgboost\\sklearn.py:1395: UserWarning:\n",
      "\n",
      "`use_label_encoder` is deprecated in 1.7.0.\n",
      "\n"
     ]
    },
    {
     "name": "stdout",
     "output_type": "stream",
     "text": [
      "[CV 5/5] END learning_rate=0.105, max_depth=7, n_estimators=3000;, score=(train=0.885, test=0.885) total time=   2.6s\n"
     ]
    },
    {
     "name": "stderr",
     "output_type": "stream",
     "text": [
      "C:\\Python310\\lib\\site-packages\\xgboost\\sklearn.py:1395: UserWarning:\n",
      "\n",
      "`use_label_encoder` is deprecated in 1.7.0.\n",
      "\n"
     ]
    },
    {
     "name": "stdout",
     "output_type": "stream",
     "text": [
      "[CV 1/5] END learning_rate=0.105, max_depth=7, n_estimators=4000;, score=(train=0.920, test=0.920) total time=   3.3s\n"
     ]
    },
    {
     "name": "stderr",
     "output_type": "stream",
     "text": [
      "C:\\Python310\\lib\\site-packages\\xgboost\\sklearn.py:1395: UserWarning:\n",
      "\n",
      "`use_label_encoder` is deprecated in 1.7.0.\n",
      "\n"
     ]
    },
    {
     "name": "stdout",
     "output_type": "stream",
     "text": [
      "[CV 2/5] END learning_rate=0.105, max_depth=7, n_estimators=4000;, score=(train=0.891, test=0.891) total time=   3.3s\n"
     ]
    },
    {
     "name": "stderr",
     "output_type": "stream",
     "text": [
      "C:\\Python310\\lib\\site-packages\\xgboost\\sklearn.py:1395: UserWarning:\n",
      "\n",
      "`use_label_encoder` is deprecated in 1.7.0.\n",
      "\n"
     ]
    },
    {
     "name": "stdout",
     "output_type": "stream",
     "text": [
      "[CV 3/5] END learning_rate=0.105, max_depth=7, n_estimators=4000;, score=(train=0.911, test=0.911) total time=   3.2s\n"
     ]
    },
    {
     "name": "stderr",
     "output_type": "stream",
     "text": [
      "C:\\Python310\\lib\\site-packages\\xgboost\\sklearn.py:1395: UserWarning:\n",
      "\n",
      "`use_label_encoder` is deprecated in 1.7.0.\n",
      "\n"
     ]
    },
    {
     "name": "stdout",
     "output_type": "stream",
     "text": [
      "[CV 4/5] END learning_rate=0.105, max_depth=7, n_estimators=4000;, score=(train=0.904, test=0.904) total time=   3.3s\n"
     ]
    },
    {
     "name": "stderr",
     "output_type": "stream",
     "text": [
      "C:\\Python310\\lib\\site-packages\\xgboost\\sklearn.py:1395: UserWarning:\n",
      "\n",
      "`use_label_encoder` is deprecated in 1.7.0.\n",
      "\n"
     ]
    },
    {
     "name": "stdout",
     "output_type": "stream",
     "text": [
      "[CV 5/5] END learning_rate=0.105, max_depth=7, n_estimators=4000;, score=(train=0.885, test=0.885) total time=   3.2s\n"
     ]
    },
    {
     "name": "stderr",
     "output_type": "stream",
     "text": [
      "C:\\Python310\\lib\\site-packages\\xgboost\\sklearn.py:1395: UserWarning:\n",
      "\n",
      "`use_label_encoder` is deprecated in 1.7.0.\n",
      "\n"
     ]
    },
    {
     "name": "stdout",
     "output_type": "stream",
     "text": [
      "[CV 1/5] END learning_rate=0.105, max_depth=7, n_estimators=5000;, score=(train=0.912, test=0.912) total time=   3.9s\n"
     ]
    },
    {
     "name": "stderr",
     "output_type": "stream",
     "text": [
      "C:\\Python310\\lib\\site-packages\\xgboost\\sklearn.py:1395: UserWarning:\n",
      "\n",
      "`use_label_encoder` is deprecated in 1.7.0.\n",
      "\n"
     ]
    },
    {
     "name": "stdout",
     "output_type": "stream",
     "text": [
      "[CV 2/5] END learning_rate=0.105, max_depth=7, n_estimators=5000;, score=(train=0.891, test=0.891) total time=   3.9s\n"
     ]
    },
    {
     "name": "stderr",
     "output_type": "stream",
     "text": [
      "C:\\Python310\\lib\\site-packages\\xgboost\\sklearn.py:1395: UserWarning:\n",
      "\n",
      "`use_label_encoder` is deprecated in 1.7.0.\n",
      "\n"
     ]
    },
    {
     "name": "stdout",
     "output_type": "stream",
     "text": [
      "[CV 3/5] END learning_rate=0.105, max_depth=7, n_estimators=5000;, score=(train=0.911, test=0.911) total time=   4.0s\n"
     ]
    },
    {
     "name": "stderr",
     "output_type": "stream",
     "text": [
      "C:\\Python310\\lib\\site-packages\\xgboost\\sklearn.py:1395: UserWarning:\n",
      "\n",
      "`use_label_encoder` is deprecated in 1.7.0.\n",
      "\n"
     ]
    },
    {
     "name": "stdout",
     "output_type": "stream",
     "text": [
      "[CV 4/5] END learning_rate=0.105, max_depth=7, n_estimators=5000;, score=(train=0.897, test=0.897) total time=   4.1s\n"
     ]
    },
    {
     "name": "stderr",
     "output_type": "stream",
     "text": [
      "C:\\Python310\\lib\\site-packages\\xgboost\\sklearn.py:1395: UserWarning:\n",
      "\n",
      "`use_label_encoder` is deprecated in 1.7.0.\n",
      "\n"
     ]
    },
    {
     "name": "stdout",
     "output_type": "stream",
     "text": [
      "[CV 5/5] END learning_rate=0.105, max_depth=7, n_estimators=5000;, score=(train=0.885, test=0.885) total time=   4.0s\n"
     ]
    },
    {
     "name": "stderr",
     "output_type": "stream",
     "text": [
      "C:\\Python310\\lib\\site-packages\\xgboost\\sklearn.py:1395: UserWarning:\n",
      "\n",
      "`use_label_encoder` is deprecated in 1.7.0.\n",
      "\n"
     ]
    },
    {
     "data": {
      "text/html": [
       "<style>#sk-container-id-10 {color: black;background-color: white;}#sk-container-id-10 pre{padding: 0;}#sk-container-id-10 div.sk-toggleable {background-color: white;}#sk-container-id-10 label.sk-toggleable__label {cursor: pointer;display: block;width: 100%;margin-bottom: 0;padding: 0.3em;box-sizing: border-box;text-align: center;}#sk-container-id-10 label.sk-toggleable__label-arrow:before {content: \"▸\";float: left;margin-right: 0.25em;color: #696969;}#sk-container-id-10 label.sk-toggleable__label-arrow:hover:before {color: black;}#sk-container-id-10 div.sk-estimator:hover label.sk-toggleable__label-arrow:before {color: black;}#sk-container-id-10 div.sk-toggleable__content {max-height: 0;max-width: 0;overflow: hidden;text-align: left;background-color: #f0f8ff;}#sk-container-id-10 div.sk-toggleable__content pre {margin: 0.2em;color: black;border-radius: 0.25em;background-color: #f0f8ff;}#sk-container-id-10 input.sk-toggleable__control:checked~div.sk-toggleable__content {max-height: 200px;max-width: 100%;overflow: auto;}#sk-container-id-10 input.sk-toggleable__control:checked~label.sk-toggleable__label-arrow:before {content: \"▾\";}#sk-container-id-10 div.sk-estimator input.sk-toggleable__control:checked~label.sk-toggleable__label {background-color: #d4ebff;}#sk-container-id-10 div.sk-label input.sk-toggleable__control:checked~label.sk-toggleable__label {background-color: #d4ebff;}#sk-container-id-10 input.sk-hidden--visually {border: 0;clip: rect(1px 1px 1px 1px);clip: rect(1px, 1px, 1px, 1px);height: 1px;margin: -1px;overflow: hidden;padding: 0;position: absolute;width: 1px;}#sk-container-id-10 div.sk-estimator {font-family: monospace;background-color: #f0f8ff;border: 1px dotted black;border-radius: 0.25em;box-sizing: border-box;margin-bottom: 0.5em;}#sk-container-id-10 div.sk-estimator:hover {background-color: #d4ebff;}#sk-container-id-10 div.sk-parallel-item::after {content: \"\";width: 100%;border-bottom: 1px solid gray;flex-grow: 1;}#sk-container-id-10 div.sk-label:hover label.sk-toggleable__label {background-color: #d4ebff;}#sk-container-id-10 div.sk-serial::before {content: \"\";position: absolute;border-left: 1px solid gray;box-sizing: border-box;top: 0;bottom: 0;left: 50%;z-index: 0;}#sk-container-id-10 div.sk-serial {display: flex;flex-direction: column;align-items: center;background-color: white;padding-right: 0.2em;padding-left: 0.2em;position: relative;}#sk-container-id-10 div.sk-item {position: relative;z-index: 1;}#sk-container-id-10 div.sk-parallel {display: flex;align-items: stretch;justify-content: center;background-color: white;position: relative;}#sk-container-id-10 div.sk-item::before, #sk-container-id-10 div.sk-parallel-item::before {content: \"\";position: absolute;border-left: 1px solid gray;box-sizing: border-box;top: 0;bottom: 0;left: 50%;z-index: -1;}#sk-container-id-10 div.sk-parallel-item {display: flex;flex-direction: column;z-index: 1;position: relative;background-color: white;}#sk-container-id-10 div.sk-parallel-item:first-child::after {align-self: flex-end;width: 50%;}#sk-container-id-10 div.sk-parallel-item:last-child::after {align-self: flex-start;width: 50%;}#sk-container-id-10 div.sk-parallel-item:only-child::after {width: 0;}#sk-container-id-10 div.sk-dashed-wrapped {border: 1px dashed gray;margin: 0 0.4em 0.5em 0.4em;box-sizing: border-box;padding-bottom: 0.4em;background-color: white;}#sk-container-id-10 div.sk-label label {font-family: monospace;font-weight: bold;display: inline-block;line-height: 1.2em;}#sk-container-id-10 div.sk-label-container {text-align: center;}#sk-container-id-10 div.sk-container {/* jupyter's `normalize.less` sets `[hidden] { display: none; }` but bootstrap.min.css set `[hidden] { display: none !important; }` so we also need the `!important` here to be able to override the default hidden behavior on the sphinx rendered scikit-learn.org. See: https://github.com/scikit-learn/scikit-learn/issues/21755 */display: inline-block !important;position: relative;}#sk-container-id-10 div.sk-text-repr-fallback {display: none;}</style><div id=\"sk-container-id-10\" class=\"sk-top-container\"><div class=\"sk-text-repr-fallback\"><pre>GridSearchCV(cv=5,\n",
       "             estimator=XGBClassifier(base_score=None, booster=None,\n",
       "                                     callbacks=None, colsample_bylevel=None,\n",
       "                                     colsample_bynode=None,\n",
       "                                     colsample_bytree=0.25,\n",
       "                                     early_stopping_rounds=None,\n",
       "                                     enable_categorical=False,\n",
       "                                     eval_metric=&#x27;auc&#x27;, feature_types=None,\n",
       "                                     gamma=None, gpu_id=None, grow_policy=None,\n",
       "                                     importance_type=None,\n",
       "                                     interaction_constraints=None,\n",
       "                                     learning_rate=None...\n",
       "                                     max_leaves=None, min_child_weight=None,\n",
       "                                     missing=nan, monotone_constraints=None,\n",
       "                                     n_estimators=100, n_jobs=None,\n",
       "                                     num_parallel_tree=None, predictor=None,\n",
       "                                     random_state=None, ...),\n",
       "             param_grid={&#x27;learning_rate&#x27;: [0.02, 0.05, 0.1, 0.105],\n",
       "                         &#x27;max_depth&#x27;: [2, 3, 5, 7],\n",
       "                         &#x27;n_estimators&#x27;: [1000, 2000, 3000, 4000, 5000]},\n",
       "             return_train_score=True,\n",
       "             scoring=&lt;function my_f1_score at 0x0000021AEB6CE170&gt;, verbose=4)</pre><b>In a Jupyter environment, please rerun this cell to show the HTML representation or trust the notebook. <br />On GitHub, the HTML representation is unable to render, please try loading this page with nbviewer.org.</b></div><div class=\"sk-container\" hidden><div class=\"sk-item sk-dashed-wrapped\"><div class=\"sk-label-container\"><div class=\"sk-label sk-toggleable\"><input class=\"sk-toggleable__control sk-hidden--visually\" id=\"sk-estimator-id-12\" type=\"checkbox\" ><label for=\"sk-estimator-id-12\" class=\"sk-toggleable__label sk-toggleable__label-arrow\">GridSearchCV</label><div class=\"sk-toggleable__content\"><pre>GridSearchCV(cv=5,\n",
       "             estimator=XGBClassifier(base_score=None, booster=None,\n",
       "                                     callbacks=None, colsample_bylevel=None,\n",
       "                                     colsample_bynode=None,\n",
       "                                     colsample_bytree=0.25,\n",
       "                                     early_stopping_rounds=None,\n",
       "                                     enable_categorical=False,\n",
       "                                     eval_metric=&#x27;auc&#x27;, feature_types=None,\n",
       "                                     gamma=None, gpu_id=None, grow_policy=None,\n",
       "                                     importance_type=None,\n",
       "                                     interaction_constraints=None,\n",
       "                                     learning_rate=None...\n",
       "                                     max_leaves=None, min_child_weight=None,\n",
       "                                     missing=nan, monotone_constraints=None,\n",
       "                                     n_estimators=100, n_jobs=None,\n",
       "                                     num_parallel_tree=None, predictor=None,\n",
       "                                     random_state=None, ...),\n",
       "             param_grid={&#x27;learning_rate&#x27;: [0.02, 0.05, 0.1, 0.105],\n",
       "                         &#x27;max_depth&#x27;: [2, 3, 5, 7],\n",
       "                         &#x27;n_estimators&#x27;: [1000, 2000, 3000, 4000, 5000]},\n",
       "             return_train_score=True,\n",
       "             scoring=&lt;function my_f1_score at 0x0000021AEB6CE170&gt;, verbose=4)</pre></div></div></div><div class=\"sk-parallel\"><div class=\"sk-parallel-item\"><div class=\"sk-item\"><div class=\"sk-label-container\"><div class=\"sk-label sk-toggleable\"><input class=\"sk-toggleable__control sk-hidden--visually\" id=\"sk-estimator-id-13\" type=\"checkbox\" ><label for=\"sk-estimator-id-13\" class=\"sk-toggleable__label sk-toggleable__label-arrow\">estimator: XGBClassifier</label><div class=\"sk-toggleable__content\"><pre>XGBClassifier(base_score=None, booster=None, callbacks=None,\n",
       "              colsample_bylevel=None, colsample_bynode=None,\n",
       "              colsample_bytree=0.25, early_stopping_rounds=None,\n",
       "              enable_categorical=False, eval_metric=&#x27;auc&#x27;, feature_types=None,\n",
       "              gamma=None, gpu_id=None, grow_policy=None, importance_type=None,\n",
       "              interaction_constraints=None, learning_rate=None, max_bin=None,\n",
       "              max_cat_threshold=None, max_cat_to_onehot=None,\n",
       "              max_delta_step=None, max_depth=None, max_leaves=None,\n",
       "              min_child_weight=None, missing=nan, monotone_constraints=None,\n",
       "              n_estimators=100, n_jobs=None, num_parallel_tree=None,\n",
       "              predictor=None, random_state=None, ...)</pre></div></div></div><div class=\"sk-serial\"><div class=\"sk-item\"><div class=\"sk-estimator sk-toggleable\"><input class=\"sk-toggleable__control sk-hidden--visually\" id=\"sk-estimator-id-14\" type=\"checkbox\" ><label for=\"sk-estimator-id-14\" class=\"sk-toggleable__label sk-toggleable__label-arrow\">XGBClassifier</label><div class=\"sk-toggleable__content\"><pre>XGBClassifier(base_score=None, booster=None, callbacks=None,\n",
       "              colsample_bylevel=None, colsample_bynode=None,\n",
       "              colsample_bytree=0.25, early_stopping_rounds=None,\n",
       "              enable_categorical=False, eval_metric=&#x27;auc&#x27;, feature_types=None,\n",
       "              gamma=None, gpu_id=None, grow_policy=None, importance_type=None,\n",
       "              interaction_constraints=None, learning_rate=None, max_bin=None,\n",
       "              max_cat_threshold=None, max_cat_to_onehot=None,\n",
       "              max_delta_step=None, max_depth=None, max_leaves=None,\n",
       "              min_child_weight=None, missing=nan, monotone_constraints=None,\n",
       "              n_estimators=100, n_jobs=None, num_parallel_tree=None,\n",
       "              predictor=None, random_state=None, ...)</pre></div></div></div></div></div></div></div></div></div></div>"
      ],
      "text/plain": [
       "GridSearchCV(cv=5,\n",
       "             estimator=XGBClassifier(base_score=None, booster=None,\n",
       "                                     callbacks=None, colsample_bylevel=None,\n",
       "                                     colsample_bynode=None,\n",
       "                                     colsample_bytree=0.25,\n",
       "                                     early_stopping_rounds=None,\n",
       "                                     enable_categorical=False,\n",
       "                                     eval_metric='auc', feature_types=None,\n",
       "                                     gamma=None, gpu_id=None, grow_policy=None,\n",
       "                                     importance_type=None,\n",
       "                                     interaction_constraints=None,\n",
       "                                     learning_rate=None...\n",
       "                                     max_leaves=None, min_child_weight=None,\n",
       "                                     missing=nan, monotone_constraints=None,\n",
       "                                     n_estimators=100, n_jobs=None,\n",
       "                                     num_parallel_tree=None, predictor=None,\n",
       "                                     random_state=None, ...),\n",
       "             param_grid={'learning_rate': [0.02, 0.05, 0.1, 0.105],\n",
       "                         'max_depth': [2, 3, 5, 7],\n",
       "                         'n_estimators': [1000, 2000, 3000, 4000, 5000]},\n",
       "             return_train_score=True,\n",
       "             scoring=<function my_f1_score at 0x0000021AEB6CE170>, verbose=4)"
      ]
     },
     "execution_count": 115,
     "metadata": {},
     "output_type": "execute_result"
    }
   ],
   "source": [
    "learning_rate_list = [0.02,0.05,0.1,0.105]\n",
    "max_depth_list = [2,3,5,7]\n",
    "n_estimators_list = [1000,2000,3000,4000,5000]\n",
    "\n",
    "params_dict = {\n",
    "    \"learning_rate\" : learning_rate_list,\n",
    "    \"max_depth\" : max_depth_list,\n",
    "    \"n_estimators\" : n_estimators_list\n",
    "}\n",
    "\n",
    "def my_auc_score(model,x,y):\n",
    "    return roc_auc_score(Y_test,model.predict(X_test))\n",
    "\n",
    "model_xgboost_hp = GridSearchCV(estimator = xgboost.XGBClassifier(subsample = 0.5,\n",
    "                                                                 colsample_bytree = 0.25,\n",
    "                                                                 eval_metric = 'auc',\n",
    "                                                                 use_label_encoder = False),\n",
    "                               param_grid = params_dict,\n",
    "                               cv=5,\n",
    "                               scoring = my_f1_score,\n",
    "                               return_train_score = True,\n",
    "                               verbose = 4)\n",
    "model_xgboost_hp.fit(X_train,Y_train)"
   ]
  },
  {
   "cell_type": "code",
   "execution_count": 116,
   "id": "413428e2",
   "metadata": {},
   "outputs": [
    {
     "data": {
      "text/html": [
       "<div>\n",
       "<style scoped>\n",
       "    .dataframe tbody tr th:only-of-type {\n",
       "        vertical-align: middle;\n",
       "    }\n",
       "\n",
       "    .dataframe tbody tr th {\n",
       "        vertical-align: top;\n",
       "    }\n",
       "\n",
       "    .dataframe thead th {\n",
       "        text-align: right;\n",
       "    }\n",
       "</style>\n",
       "<table border=\"1\" class=\"dataframe\">\n",
       "  <thead>\n",
       "    <tr style=\"text-align: right;\">\n",
       "      <th></th>\n",
       "      <th>rank_test_score</th>\n",
       "      <th>mean_test_score</th>\n",
       "      <th>mean_train_score</th>\n",
       "      <th>param_learning_rate</th>\n",
       "      <th>param_max_depth</th>\n",
       "      <th>param_n_estimators</th>\n",
       "    </tr>\n",
       "  </thead>\n",
       "  <tbody>\n",
       "    <tr>\n",
       "      <th>5</th>\n",
       "      <td>1</td>\n",
       "      <td>0.931612</td>\n",
       "      <td>0.931612</td>\n",
       "      <td>0.02</td>\n",
       "      <td>3</td>\n",
       "      <td>1000</td>\n",
       "    </tr>\n",
       "    <tr>\n",
       "      <th>1</th>\n",
       "      <td>2</td>\n",
       "      <td>0.930795</td>\n",
       "      <td>0.930795</td>\n",
       "      <td>0.02</td>\n",
       "      <td>2</td>\n",
       "      <td>2000</td>\n",
       "    </tr>\n",
       "    <tr>\n",
       "      <th>10</th>\n",
       "      <td>3</td>\n",
       "      <td>0.929996</td>\n",
       "      <td>0.929996</td>\n",
       "      <td>0.02</td>\n",
       "      <td>5</td>\n",
       "      <td>1000</td>\n",
       "    </tr>\n",
       "    <tr>\n",
       "      <th>0</th>\n",
       "      <td>4</td>\n",
       "      <td>0.928449</td>\n",
       "      <td>0.928449</td>\n",
       "      <td>0.02</td>\n",
       "      <td>2</td>\n",
       "      <td>1000</td>\n",
       "    </tr>\n",
       "    <tr>\n",
       "      <th>6</th>\n",
       "      <td>5</td>\n",
       "      <td>0.927076</td>\n",
       "      <td>0.927076</td>\n",
       "      <td>0.02</td>\n",
       "      <td>3</td>\n",
       "      <td>2000</td>\n",
       "    </tr>\n",
       "    <tr>\n",
       "      <th>...</th>\n",
       "      <td>...</td>\n",
       "      <td>...</td>\n",
       "      <td>...</td>\n",
       "      <td>...</td>\n",
       "      <td>...</td>\n",
       "      <td>...</td>\n",
       "    </tr>\n",
       "    <tr>\n",
       "      <th>38</th>\n",
       "      <td>76</td>\n",
       "      <td>0.899707</td>\n",
       "      <td>0.899707</td>\n",
       "      <td>0.05</td>\n",
       "      <td>7</td>\n",
       "      <td>4000</td>\n",
       "    </tr>\n",
       "    <tr>\n",
       "      <th>39</th>\n",
       "      <td>77</td>\n",
       "      <td>0.899424</td>\n",
       "      <td>0.899424</td>\n",
       "      <td>0.05</td>\n",
       "      <td>7</td>\n",
       "      <td>5000</td>\n",
       "    </tr>\n",
       "    <tr>\n",
       "      <th>79</th>\n",
       "      <td>78</td>\n",
       "      <td>0.899082</td>\n",
       "      <td>0.899082</td>\n",
       "      <td>0.105</td>\n",
       "      <td>7</td>\n",
       "      <td>5000</td>\n",
       "    </tr>\n",
       "    <tr>\n",
       "      <th>53</th>\n",
       "      <td>79</td>\n",
       "      <td>0.899055</td>\n",
       "      <td>0.899055</td>\n",
       "      <td>0.1</td>\n",
       "      <td>5</td>\n",
       "      <td>4000</td>\n",
       "    </tr>\n",
       "    <tr>\n",
       "      <th>54</th>\n",
       "      <td>80</td>\n",
       "      <td>0.897020</td>\n",
       "      <td>0.897020</td>\n",
       "      <td>0.1</td>\n",
       "      <td>5</td>\n",
       "      <td>5000</td>\n",
       "    </tr>\n",
       "  </tbody>\n",
       "</table>\n",
       "<p>80 rows × 6 columns</p>\n",
       "</div>"
      ],
      "text/plain": [
       "    rank_test_score  mean_test_score  mean_train_score param_learning_rate  \\\n",
       "5                 1         0.931612          0.931612                0.02   \n",
       "1                 2         0.930795          0.930795                0.02   \n",
       "10                3         0.929996          0.929996                0.02   \n",
       "0                 4         0.928449          0.928449                0.02   \n",
       "6                 5         0.927076          0.927076                0.02   \n",
       "..              ...              ...               ...                 ...   \n",
       "38               76         0.899707          0.899707                0.05   \n",
       "39               77         0.899424          0.899424                0.05   \n",
       "79               78         0.899082          0.899082               0.105   \n",
       "53               79         0.899055          0.899055                 0.1   \n",
       "54               80         0.897020          0.897020                 0.1   \n",
       "\n",
       "   param_max_depth param_n_estimators  \n",
       "5                3               1000  \n",
       "1                2               2000  \n",
       "10               5               1000  \n",
       "0                2               1000  \n",
       "6                3               2000  \n",
       "..             ...                ...  \n",
       "38               7               4000  \n",
       "39               7               5000  \n",
       "79               7               5000  \n",
       "53               5               4000  \n",
       "54               5               5000  \n",
       "\n",
       "[80 rows x 6 columns]"
      ]
     },
     "execution_count": 116,
     "metadata": {},
     "output_type": "execute_result"
    }
   ],
   "source": [
    "df_cv_results = pd.DataFrame(model_xgboost_hp.cv_results_)\n",
    "df_cv_results = df_cv_results[['rank_test_score','mean_test_score','mean_train_score','param_learning_rate',\n",
    "                              'param_max_depth','param_n_estimators']]\n",
    "df_cv_results.sort_values(by = 'rank_test_score',inplace =True)\n",
    "df_cv_results"
   ]
  },
  {
   "cell_type": "markdown",
   "id": "9c7e37ef",
   "metadata": {},
   "source": [
    "## FINAL MODEL"
   ]
  },
  {
   "cell_type": "code",
   "execution_count": 117,
   "id": "d8e29639",
   "metadata": {},
   "outputs": [
    {
     "name": "stdout",
     "output_type": "stream",
     "text": [
      "[0]\tvalidation_0-auc:0.94001\n",
      "[1]\tvalidation_0-auc:0.94379\n",
      "[2]\tvalidation_0-auc:0.94730\n",
      "[3]\tvalidation_0-auc:0.94738\n",
      "[4]\tvalidation_0-auc:0.95133\n",
      "[5]\tvalidation_0-auc:0.95194\n",
      "[6]\tvalidation_0-auc:0.95425\n",
      "[7]\tvalidation_0-auc:0.95718\n",
      "[8]\tvalidation_0-auc:0.95589\n",
      "[9]\tvalidation_0-auc:0.95743\n",
      "[10]\tvalidation_0-auc:0.95833\n",
      "[11]\tvalidation_0-auc:0.95950\n",
      "[12]\tvalidation_0-auc:0.95991\n",
      "[13]\tvalidation_0-auc:0.96037\n",
      "[14]\tvalidation_0-auc:0.96119\n",
      "[15]\tvalidation_0-auc:0.96128\n",
      "[16]\tvalidation_0-auc:0.96222\n",
      "[17]\tvalidation_0-auc:0.96309\n",
      "[18]\tvalidation_0-auc:0.96257\n",
      "[19]\tvalidation_0-auc:0.96314\n",
      "[20]\tvalidation_0-auc:0.96332\n",
      "[21]\tvalidation_0-auc:0.96294\n",
      "[22]\tvalidation_0-auc:0.96328\n",
      "[23]\tvalidation_0-auc:0.96321\n",
      "[24]\tvalidation_0-auc:0.96301\n",
      "[25]\tvalidation_0-auc:0.96321\n",
      "[26]\tvalidation_0-auc:0.96291\n",
      "[27]\tvalidation_0-auc:0.96338\n",
      "[28]\tvalidation_0-auc:0.96350\n",
      "[29]\tvalidation_0-auc:0.96393\n",
      "[30]\tvalidation_0-auc:0.96426\n",
      "[31]\tvalidation_0-auc:0.96439\n",
      "[32]\tvalidation_0-auc:0.96501\n",
      "[33]\tvalidation_0-auc:0.96493\n",
      "[34]\tvalidation_0-auc:0.96507\n",
      "[35]\tvalidation_0-auc:0.96568\n",
      "[36]\tvalidation_0-auc:0.96501\n",
      "[37]\tvalidation_0-auc:0.96507\n",
      "[38]\tvalidation_0-auc:0.96553\n",
      "[39]\tvalidation_0-auc:0.96566\n",
      "[40]\tvalidation_0-auc:0.96595\n",
      "[41]\tvalidation_0-auc:0.96682\n",
      "[42]\tvalidation_0-auc:0.96680\n",
      "[43]\tvalidation_0-auc:0.96683\n",
      "[44]\tvalidation_0-auc:0.96685\n",
      "[45]\tvalidation_0-auc:0.96718\n",
      "[46]\tvalidation_0-auc:0.96734\n",
      "[47]\tvalidation_0-auc:0.96752\n",
      "[48]\tvalidation_0-auc:0.96786\n",
      "[49]\tvalidation_0-auc:0.96836\n",
      "[50]\tvalidation_0-auc:0.96835\n",
      "[51]\tvalidation_0-auc:0.96827\n",
      "[52]\tvalidation_0-auc:0.96847\n",
      "[53]\tvalidation_0-auc:0.96844\n",
      "[54]\tvalidation_0-auc:0.96834\n",
      "[55]\tvalidation_0-auc:0.96849\n",
      "[56]\tvalidation_0-auc:0.96860\n",
      "[57]\tvalidation_0-auc:0.96857\n",
      "[58]\tvalidation_0-auc:0.96863\n",
      "[59]\tvalidation_0-auc:0.96870\n",
      "[60]\tvalidation_0-auc:0.96871\n",
      "[61]\tvalidation_0-auc:0.96887\n",
      "[62]\tvalidation_0-auc:0.96884\n",
      "[63]\tvalidation_0-auc:0.96912\n",
      "[64]\tvalidation_0-auc:0.96930\n",
      "[65]\tvalidation_0-auc:0.96939\n"
     ]
    },
    {
     "name": "stderr",
     "output_type": "stream",
     "text": [
      "C:\\Python310\\lib\\site-packages\\xgboost\\sklearn.py:835: UserWarning:\n",
      "\n",
      "`early_stopping_rounds` in `fit` method is deprecated for better compatibility with scikit-learn, use `early_stopping_rounds` in constructor or`set_params` instead.\n",
      "\n"
     ]
    },
    {
     "name": "stdout",
     "output_type": "stream",
     "text": [
      "[66]\tvalidation_0-auc:0.96947\n",
      "[67]\tvalidation_0-auc:0.96947\n",
      "[68]\tvalidation_0-auc:0.96955\n",
      "[69]\tvalidation_0-auc:0.96965\n",
      "[70]\tvalidation_0-auc:0.96985\n",
      "[71]\tvalidation_0-auc:0.96997\n",
      "[72]\tvalidation_0-auc:0.97033\n",
      "[73]\tvalidation_0-auc:0.97033\n",
      "[74]\tvalidation_0-auc:0.97059\n",
      "[75]\tvalidation_0-auc:0.97132\n",
      "[76]\tvalidation_0-auc:0.97148\n",
      "[77]\tvalidation_0-auc:0.97158\n",
      "[78]\tvalidation_0-auc:0.97177\n",
      "[79]\tvalidation_0-auc:0.97174\n",
      "[80]\tvalidation_0-auc:0.97171\n",
      "[81]\tvalidation_0-auc:0.97175\n",
      "[82]\tvalidation_0-auc:0.97183\n",
      "[83]\tvalidation_0-auc:0.97185\n",
      "[84]\tvalidation_0-auc:0.97210\n",
      "[85]\tvalidation_0-auc:0.97217\n",
      "[86]\tvalidation_0-auc:0.97228\n",
      "[87]\tvalidation_0-auc:0.97246\n",
      "[88]\tvalidation_0-auc:0.97260\n",
      "[89]\tvalidation_0-auc:0.97259\n",
      "[90]\tvalidation_0-auc:0.97264\n",
      "[91]\tvalidation_0-auc:0.97296\n",
      "[92]\tvalidation_0-auc:0.97305\n",
      "[93]\tvalidation_0-auc:0.97318\n",
      "[94]\tvalidation_0-auc:0.97316\n",
      "[95]\tvalidation_0-auc:0.97308\n",
      "[96]\tvalidation_0-auc:0.97314\n",
      "[97]\tvalidation_0-auc:0.97346\n",
      "[98]\tvalidation_0-auc:0.97345\n",
      "[99]\tvalidation_0-auc:0.97351\n",
      "[100]\tvalidation_0-auc:0.97360\n",
      "[101]\tvalidation_0-auc:0.97367\n",
      "[102]\tvalidation_0-auc:0.97358\n",
      "[103]\tvalidation_0-auc:0.97353\n",
      "[104]\tvalidation_0-auc:0.97386\n",
      "[105]\tvalidation_0-auc:0.97394\n",
      "[106]\tvalidation_0-auc:0.97399\n",
      "[107]\tvalidation_0-auc:0.97433\n",
      "[108]\tvalidation_0-auc:0.97457\n",
      "[109]\tvalidation_0-auc:0.97459\n",
      "[110]\tvalidation_0-auc:0.97458\n",
      "[111]\tvalidation_0-auc:0.97467\n",
      "[112]\tvalidation_0-auc:0.97469\n",
      "[113]\tvalidation_0-auc:0.97470\n",
      "[114]\tvalidation_0-auc:0.97478\n",
      "[115]\tvalidation_0-auc:0.97480\n",
      "[116]\tvalidation_0-auc:0.97482\n",
      "[117]\tvalidation_0-auc:0.97481\n",
      "[118]\tvalidation_0-auc:0.97509\n",
      "[119]\tvalidation_0-auc:0.97489\n",
      "[120]\tvalidation_0-auc:0.97500\n",
      "[121]\tvalidation_0-auc:0.97510\n",
      "[122]\tvalidation_0-auc:0.97506\n",
      "[123]\tvalidation_0-auc:0.97504\n",
      "[124]\tvalidation_0-auc:0.97513\n",
      "[125]\tvalidation_0-auc:0.97516\n",
      "[126]\tvalidation_0-auc:0.97516\n",
      "[127]\tvalidation_0-auc:0.97510\n",
      "[128]\tvalidation_0-auc:0.97515\n",
      "[129]\tvalidation_0-auc:0.97530\n",
      "[130]\tvalidation_0-auc:0.97548\n",
      "[131]\tvalidation_0-auc:0.97544\n",
      "[132]\tvalidation_0-auc:0.97558\n",
      "[133]\tvalidation_0-auc:0.97566\n",
      "[134]\tvalidation_0-auc:0.97559\n",
      "[135]\tvalidation_0-auc:0.97573\n",
      "[136]\tvalidation_0-auc:0.97583\n",
      "[137]\tvalidation_0-auc:0.97595\n",
      "[138]\tvalidation_0-auc:0.97594\n",
      "[139]\tvalidation_0-auc:0.97600\n",
      "[140]\tvalidation_0-auc:0.97592\n",
      "[141]\tvalidation_0-auc:0.97594\n",
      "[142]\tvalidation_0-auc:0.97591\n",
      "[143]\tvalidation_0-auc:0.97601\n",
      "[144]\tvalidation_0-auc:0.97601\n",
      "[145]\tvalidation_0-auc:0.97594\n",
      "[146]\tvalidation_0-auc:0.97592\n",
      "[147]\tvalidation_0-auc:0.97599\n",
      "[148]\tvalidation_0-auc:0.97604\n",
      "[149]\tvalidation_0-auc:0.97608\n",
      "[150]\tvalidation_0-auc:0.97609\n",
      "[151]\tvalidation_0-auc:0.97615\n",
      "[152]\tvalidation_0-auc:0.97616\n",
      "[153]\tvalidation_0-auc:0.97622\n",
      "[154]\tvalidation_0-auc:0.97620\n",
      "[155]\tvalidation_0-auc:0.97649\n",
      "[156]\tvalidation_0-auc:0.97658\n",
      "[157]\tvalidation_0-auc:0.97665\n",
      "[158]\tvalidation_0-auc:0.97660\n",
      "[159]\tvalidation_0-auc:0.97670\n",
      "[160]\tvalidation_0-auc:0.97672\n",
      "[161]\tvalidation_0-auc:0.97666\n",
      "[162]\tvalidation_0-auc:0.97656\n",
      "[163]\tvalidation_0-auc:0.97665\n",
      "[164]\tvalidation_0-auc:0.97674\n",
      "[165]\tvalidation_0-auc:0.97665\n",
      "[166]\tvalidation_0-auc:0.97676\n",
      "[167]\tvalidation_0-auc:0.97682\n",
      "[168]\tvalidation_0-auc:0.97684\n",
      "[169]\tvalidation_0-auc:0.97701\n",
      "[170]\tvalidation_0-auc:0.97708\n",
      "[171]\tvalidation_0-auc:0.97700\n",
      "[172]\tvalidation_0-auc:0.97716\n",
      "[173]\tvalidation_0-auc:0.97726\n",
      "[174]\tvalidation_0-auc:0.97731\n",
      "[175]\tvalidation_0-auc:0.97722\n",
      "[176]\tvalidation_0-auc:0.97724\n",
      "[177]\tvalidation_0-auc:0.97722\n",
      "[178]\tvalidation_0-auc:0.97732\n",
      "[179]\tvalidation_0-auc:0.97730\n",
      "[180]\tvalidation_0-auc:0.97732\n",
      "[181]\tvalidation_0-auc:0.97742\n",
      "[182]\tvalidation_0-auc:0.97744\n",
      "[183]\tvalidation_0-auc:0.97766\n",
      "[184]\tvalidation_0-auc:0.97775\n",
      "[185]\tvalidation_0-auc:0.97777\n",
      "[186]\tvalidation_0-auc:0.97781\n",
      "[187]\tvalidation_0-auc:0.97783\n",
      "[188]\tvalidation_0-auc:0.97790\n",
      "[189]\tvalidation_0-auc:0.97789\n",
      "[190]\tvalidation_0-auc:0.97805\n",
      "[191]\tvalidation_0-auc:0.97803\n",
      "[192]\tvalidation_0-auc:0.97811\n",
      "[193]\tvalidation_0-auc:0.97817\n",
      "[194]\tvalidation_0-auc:0.97802\n",
      "[195]\tvalidation_0-auc:0.97813\n",
      "[196]\tvalidation_0-auc:0.97812\n",
      "[197]\tvalidation_0-auc:0.97815\n",
      "[198]\tvalidation_0-auc:0.97811\n",
      "[199]\tvalidation_0-auc:0.97807\n",
      "[200]\tvalidation_0-auc:0.97814\n",
      "[201]\tvalidation_0-auc:0.97813\n",
      "[202]\tvalidation_0-auc:0.97814\n",
      "[203]\tvalidation_0-auc:0.97811\n"
     ]
    },
    {
     "data": {
      "text/html": [
       "<style>#sk-container-id-11 {color: black;background-color: white;}#sk-container-id-11 pre{padding: 0;}#sk-container-id-11 div.sk-toggleable {background-color: white;}#sk-container-id-11 label.sk-toggleable__label {cursor: pointer;display: block;width: 100%;margin-bottom: 0;padding: 0.3em;box-sizing: border-box;text-align: center;}#sk-container-id-11 label.sk-toggleable__label-arrow:before {content: \"▸\";float: left;margin-right: 0.25em;color: #696969;}#sk-container-id-11 label.sk-toggleable__label-arrow:hover:before {color: black;}#sk-container-id-11 div.sk-estimator:hover label.sk-toggleable__label-arrow:before {color: black;}#sk-container-id-11 div.sk-toggleable__content {max-height: 0;max-width: 0;overflow: hidden;text-align: left;background-color: #f0f8ff;}#sk-container-id-11 div.sk-toggleable__content pre {margin: 0.2em;color: black;border-radius: 0.25em;background-color: #f0f8ff;}#sk-container-id-11 input.sk-toggleable__control:checked~div.sk-toggleable__content {max-height: 200px;max-width: 100%;overflow: auto;}#sk-container-id-11 input.sk-toggleable__control:checked~label.sk-toggleable__label-arrow:before {content: \"▾\";}#sk-container-id-11 div.sk-estimator input.sk-toggleable__control:checked~label.sk-toggleable__label {background-color: #d4ebff;}#sk-container-id-11 div.sk-label input.sk-toggleable__control:checked~label.sk-toggleable__label {background-color: #d4ebff;}#sk-container-id-11 input.sk-hidden--visually {border: 0;clip: rect(1px 1px 1px 1px);clip: rect(1px, 1px, 1px, 1px);height: 1px;margin: -1px;overflow: hidden;padding: 0;position: absolute;width: 1px;}#sk-container-id-11 div.sk-estimator {font-family: monospace;background-color: #f0f8ff;border: 1px dotted black;border-radius: 0.25em;box-sizing: border-box;margin-bottom: 0.5em;}#sk-container-id-11 div.sk-estimator:hover {background-color: #d4ebff;}#sk-container-id-11 div.sk-parallel-item::after {content: \"\";width: 100%;border-bottom: 1px solid gray;flex-grow: 1;}#sk-container-id-11 div.sk-label:hover label.sk-toggleable__label {background-color: #d4ebff;}#sk-container-id-11 div.sk-serial::before {content: \"\";position: absolute;border-left: 1px solid gray;box-sizing: border-box;top: 0;bottom: 0;left: 50%;z-index: 0;}#sk-container-id-11 div.sk-serial {display: flex;flex-direction: column;align-items: center;background-color: white;padding-right: 0.2em;padding-left: 0.2em;position: relative;}#sk-container-id-11 div.sk-item {position: relative;z-index: 1;}#sk-container-id-11 div.sk-parallel {display: flex;align-items: stretch;justify-content: center;background-color: white;position: relative;}#sk-container-id-11 div.sk-item::before, #sk-container-id-11 div.sk-parallel-item::before {content: \"\";position: absolute;border-left: 1px solid gray;box-sizing: border-box;top: 0;bottom: 0;left: 50%;z-index: -1;}#sk-container-id-11 div.sk-parallel-item {display: flex;flex-direction: column;z-index: 1;position: relative;background-color: white;}#sk-container-id-11 div.sk-parallel-item:first-child::after {align-self: flex-end;width: 50%;}#sk-container-id-11 div.sk-parallel-item:last-child::after {align-self: flex-start;width: 50%;}#sk-container-id-11 div.sk-parallel-item:only-child::after {width: 0;}#sk-container-id-11 div.sk-dashed-wrapped {border: 1px dashed gray;margin: 0 0.4em 0.5em 0.4em;box-sizing: border-box;padding-bottom: 0.4em;background-color: white;}#sk-container-id-11 div.sk-label label {font-family: monospace;font-weight: bold;display: inline-block;line-height: 1.2em;}#sk-container-id-11 div.sk-label-container {text-align: center;}#sk-container-id-11 div.sk-container {/* jupyter's `normalize.less` sets `[hidden] { display: none; }` but bootstrap.min.css set `[hidden] { display: none !important; }` so we also need the `!important` here to be able to override the default hidden behavior on the sphinx rendered scikit-learn.org. See: https://github.com/scikit-learn/scikit-learn/issues/21755 */display: inline-block !important;position: relative;}#sk-container-id-11 div.sk-text-repr-fallback {display: none;}</style><div id=\"sk-container-id-11\" class=\"sk-top-container\"><div class=\"sk-text-repr-fallback\"><pre>XGBClassifier(base_score=None, booster=None, callbacks=None,\n",
       "              colsample_bylevel=None, colsample_bynode=None,\n",
       "              colsample_bytree=0.5, early_stopping_rounds=None,\n",
       "              enable_categorical=False, eval_metric=&#x27;auc&#x27;, feature_types=None,\n",
       "              gamma=None, gpu_id=None, grow_policy=None, importance_type=None,\n",
       "              interaction_constraints=None, learning_rate=0.02, max_bin=None,\n",
       "              max_cat_threshold=None, max_cat_to_onehot=None,\n",
       "              max_delta_step=None, max_depth=3, max_leaves=None,\n",
       "              min_child_weight=None, missing=nan, monotone_constraints=None,\n",
       "              n_estimators=1000, n_jobs=None, num_parallel_tree=None,\n",
       "              objective=&#x27;multi:softprob&#x27;, predictor=None, ...)</pre><b>In a Jupyter environment, please rerun this cell to show the HTML representation or trust the notebook. <br />On GitHub, the HTML representation is unable to render, please try loading this page with nbviewer.org.</b></div><div class=\"sk-container\" hidden><div class=\"sk-item\"><div class=\"sk-estimator sk-toggleable\"><input class=\"sk-toggleable__control sk-hidden--visually\" id=\"sk-estimator-id-15\" type=\"checkbox\" checked><label for=\"sk-estimator-id-15\" class=\"sk-toggleable__label sk-toggleable__label-arrow\">XGBClassifier</label><div class=\"sk-toggleable__content\"><pre>XGBClassifier(base_score=None, booster=None, callbacks=None,\n",
       "              colsample_bylevel=None, colsample_bynode=None,\n",
       "              colsample_bytree=0.5, early_stopping_rounds=None,\n",
       "              enable_categorical=False, eval_metric=&#x27;auc&#x27;, feature_types=None,\n",
       "              gamma=None, gpu_id=None, grow_policy=None, importance_type=None,\n",
       "              interaction_constraints=None, learning_rate=0.02, max_bin=None,\n",
       "              max_cat_threshold=None, max_cat_to_onehot=None,\n",
       "              max_delta_step=None, max_depth=3, max_leaves=None,\n",
       "              min_child_weight=None, missing=nan, monotone_constraints=None,\n",
       "              n_estimators=1000, n_jobs=None, num_parallel_tree=None,\n",
       "              objective=&#x27;multi:softprob&#x27;, predictor=None, ...)</pre></div></div></div></div></div>"
      ],
      "text/plain": [
       "XGBClassifier(base_score=None, booster=None, callbacks=None,\n",
       "              colsample_bylevel=None, colsample_bynode=None,\n",
       "              colsample_bytree=0.5, early_stopping_rounds=None,\n",
       "              enable_categorical=False, eval_metric='auc', feature_types=None,\n",
       "              gamma=None, gpu_id=None, grow_policy=None, importance_type=None,\n",
       "              interaction_constraints=None, learning_rate=0.02, max_bin=None,\n",
       "              max_cat_threshold=None, max_cat_to_onehot=None,\n",
       "              max_delta_step=None, max_depth=3, max_leaves=None,\n",
       "              min_child_weight=None, missing=nan, monotone_constraints=None,\n",
       "              n_estimators=1000, n_jobs=None, num_parallel_tree=None,\n",
       "              objective='multi:softprob', predictor=None, ...)"
      ]
     },
     "execution_count": 117,
     "metadata": {},
     "output_type": "execute_result"
    }
   ],
   "source": [
    "model_xgboost_fin = xgboost.XGBClassifier(learning_rate = 0.02, max_depth =3,\n",
    "                                     n_estimators = 1000,\n",
    "                                     subsample = 0.5,\n",
    "                                     colsample_bytree = 0.5,\n",
    "                                      verbosity = 1,\n",
    "                                      eval_metric = 'auc'\n",
    "                                     )\n",
    "\n",
    "eval_set = [(X_test,Y_test)]\n",
    "\n",
    "model_xgboost_fin.fit(X_train,Y_train,early_stopping_rounds = 10,eval_set = eval_set,verbose = True)"
   ]
  },
  {
   "cell_type": "code",
   "execution_count": 118,
   "id": "1a2b9d12",
   "metadata": {},
   "outputs": [
    {
     "name": "stdout",
     "output_type": "stream",
     "text": [
      "              precision    recall  f1-score   support\n",
      "\n",
      "           0       0.94      0.99      0.97       494\n",
      "           1       0.89      0.67      0.77        86\n",
      "           2       0.96      0.93      0.95        58\n",
      "\n",
      "    accuracy                           0.94       638\n",
      "   macro avg       0.93      0.86      0.89       638\n",
      "weighted avg       0.94      0.94      0.94       638\n",
      "\n"
     ]
    }
   ],
   "source": [
    "print(classification_report(Y_test,model_xgboost_fin.predict(X_test)))"
   ]
  },
  {
   "cell_type": "markdown",
   "id": "c8b17a5d",
   "metadata": {},
   "source": [
    "# SAVING THE MODEL"
   ]
  },
  {
   "cell_type": "code",
   "execution_count": 120,
   "id": "08dde32a",
   "metadata": {},
   "outputs": [
    {
     "data": {
      "text/plain": [
       "['model_final.pk1']"
      ]
     },
     "execution_count": 120,
     "metadata": {},
     "output_type": "execute_result"
    }
   ],
   "source": [
    "import joblib\n",
    "joblib.dump(model_xgboost_fin,\"model_final.pk1\")"
   ]
  },
  {
   "cell_type": "code",
   "execution_count": null,
   "id": "4c79d354",
   "metadata": {},
   "outputs": [],
   "source": []
  }
 ],
 "metadata": {
  "kernelspec": {
   "display_name": "Python 3 (ipykernel)",
   "language": "python",
   "name": "python3"
  },
  "language_info": {
   "codemirror_mode": {
    "name": "ipython",
    "version": 3
   },
   "file_extension": ".py",
   "mimetype": "text/x-python",
   "name": "python",
   "nbconvert_exporter": "python",
   "pygments_lexer": "ipython3",
   "version": "3.10.7"
  }
 },
 "nbformat": 4,
 "nbformat_minor": 5
}
