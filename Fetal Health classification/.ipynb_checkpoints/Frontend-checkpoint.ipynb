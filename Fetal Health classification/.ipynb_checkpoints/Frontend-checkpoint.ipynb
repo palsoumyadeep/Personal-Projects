{
 "cells": [
  {
   "cell_type": "code",
   "execution_count": 2,
   "id": "764eb63f",
   "metadata": {},
   "outputs": [],
   "source": [
    "import dash\n",
    "from dash import dcc\n",
    "from dash import html\n",
    "import joblib\n",
    "from dash.dependencies import Input, Output"
   ]
  },
  {
   "cell_type": "code",
   "execution_count": 3,
   "id": "41f17311",
   "metadata": {},
   "outputs": [
    {
     "ename": "SyntaxError",
     "evalue": "invalid syntax. Maybe you meant '==' or ':=' instead of '='? (2100825421.py, line 10)",
     "output_type": "error",
     "traceback": [
      "\u001b[1;36m  Cell \u001b[1;32mIn [3], line 10\u001b[1;36m\u001b[0m\n\u001b[1;33m    children = [[\u001b[0m\n\u001b[1;37m    ^\u001b[0m\n\u001b[1;31mSyntaxError\u001b[0m\u001b[1;31m:\u001b[0m invalid syntax. Maybe you meant '==' or ':=' instead of '='?\n"
     ]
    }
   ],
   "source": [
    "input_columns = ['baseline value', 'accelerations', 'abnormal_short_term_variability',\n",
    "       'mean_value_of_short_term_variability',\n",
    "       'percentage_of_time_with_abnormal_long_term_variability',\n",
    "       'histogram_width', 'histogram_mode', 'histogram_mean',\n",
    "       'histogram_median', 'histogram_variance']\n",
    "\n",
    "app = dash.Dash()\n",
    "app.head = [html.Link(rel = \"stylesheet\",href='stylesheet.css')]\n",
    "app.layout = html.Div[\n",
    "        [[\n",
    "                    dcc.Input(id = \"input_{}\".format(x),\n",
    "                              type = \"number\",\n",
    "                              placeholder = \"Enter {}\".format(x),\n",
    "                              className = \"input_holder\",\n",
    "                              value = 0.0\n",
    "                             ) for x in input_columns\n",
    "                ],\n",
    "        html.Div(\"Fetal Health Prediction\",className = \"Output_label\"),\n",
    "        html.Div(id = \"Output\",className = \"Output_holder\")\n",
    "    \n",
    "    ]\n",
    "]\n",
    "\n",
    "\n",
    "def make_prediction(data):\n",
    "    classifier = joblib.load('model_final.pk1')\n",
    "    prediction = classifier.predict(data)\n",
    "    return prediction[0]\n",
    "\n",
    "\n",
    "@app.callback(Output(\"Output\",\"Children\"),Input([Input(\"input_{}\".format(_), \"value\") for _ in input_columns]))\n",
    "def update_dataframe(*vals):\n",
    "    dict = {x:y for x in input_columns for y in vals}\n",
    "    df = pd.DataFrame(dict)\n",
    "    prediction = make_prediction(df)\n",
    "    category = \"default\"\n",
    "    \n",
    "    if prediction == 0.0:\n",
    "        category = \"Normal\"\n",
    "    elif prediction == 1.0:\n",
    "        category = \"Suspect\"\n",
    "    else\n",
    "        category = \"Pathological\"\n",
    "        \n",
    "    return category\n",
    "\n",
    "\n",
    "if __name__ == \"__main__\":\n",
    "    app.run_server(debug=True)\n",
    "\n"
   ]
  },
  {
   "cell_type": "code",
   "execution_count": null,
   "id": "bbd49033",
   "metadata": {},
   "outputs": [],
   "source": []
  }
 ],
 "metadata": {
  "kernelspec": {
   "display_name": "Python 3 (ipykernel)",
   "language": "python",
   "name": "python3"
  },
  "language_info": {
   "codemirror_mode": {
    "name": "ipython",
    "version": 3
   },
   "file_extension": ".py",
   "mimetype": "text/x-python",
   "name": "python",
   "nbconvert_exporter": "python",
   "pygments_lexer": "ipython3",
   "version": "3.10.7"
  }
 },
 "nbformat": 4,
 "nbformat_minor": 5
}
